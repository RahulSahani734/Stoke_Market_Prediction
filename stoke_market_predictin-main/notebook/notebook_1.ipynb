{
 "cells": [
  {
   "cell_type": "markdown",
   "metadata": {},
   "source": [
    "### Stock Market Prediction And Forecasting Using Stacked LSTM"
   ]
  },
  {
   "cell_type": "code",
   "execution_count": 1,
   "metadata": {},
   "outputs": [],
   "source": [
    "### Keras and Tensorflow >2.0"
   ]
  },
  {
   "cell_type": "code",
   "execution_count": 1,
   "metadata": {},
   "outputs": [],
   "source": [
    "### Data Collection\n",
    "import pandas as pd\n",
    "import pandas_datareader as pdr\n",
    "key=\"e59d9dabbfa152ff8d207d42e13a223008dcfb5e\""
   ]
  },
  {
   "cell_type": "code",
<<<<<<< HEAD
   "execution_count": null,
   "metadata": {},
   "outputs": [],
=======
   "execution_count": 2,
   "metadata": {},
   "outputs": [
    {
     "ename": "TypeError",
     "evalue": "concat() takes 1 positional argument but 2 were given",
     "output_type": "error",
     "traceback": [
      "\u001b[1;31m---------------------------------------------------------------------------\u001b[0m",
      "\u001b[1;31mTypeError\u001b[0m                                 Traceback (most recent call last)",
      "Cell \u001b[1;32mIn[2], line 1\u001b[0m\n\u001b[1;32m----> 1\u001b[0m df \u001b[38;5;241m=\u001b[39m \u001b[43mpdr\u001b[49m\u001b[38;5;241;43m.\u001b[39;49m\u001b[43mget_data_tiingo\u001b[49m\u001b[43m(\u001b[49m\u001b[38;5;124;43m'\u001b[39;49m\u001b[38;5;124;43mGOOG\u001b[39;49m\u001b[38;5;124;43m'\u001b[39;49m\u001b[43m,\u001b[49m\u001b[43m \u001b[49m\u001b[43mapi_key\u001b[49m\u001b[38;5;241;43m=\u001b[39;49m\u001b[43mkey\u001b[49m\u001b[43m)\u001b[49m\n\u001b[0;32m      2\u001b[0m data \u001b[38;5;241m=\u001b[39m pd\u001b[38;5;241m.\u001b[39mDataFrame(df)\n\u001b[0;32m      3\u001b[0m data\u001b[38;5;241m.\u001b[39mhead()\n",
      "File \u001b[1;32m~\\AppData\\Local\\Programs\\Python\\Python312\\Lib\\site-packages\\pandas_datareader\\data.py:120\u001b[0m, in \u001b[0;36mget_data_tiingo\u001b[1;34m(*args, **kwargs)\u001b[0m\n\u001b[0;32m    119\u001b[0m \u001b[38;5;28;01mdef\u001b[39;00m \u001b[38;5;21mget_data_tiingo\u001b[39m(\u001b[38;5;241m*\u001b[39margs, \u001b[38;5;241m*\u001b[39m\u001b[38;5;241m*\u001b[39mkwargs):\n\u001b[1;32m--> 120\u001b[0m     \u001b[38;5;28;01mreturn\u001b[39;00m \u001b[43mTiingoDailyReader\u001b[49m\u001b[43m(\u001b[49m\u001b[38;5;241;43m*\u001b[39;49m\u001b[43margs\u001b[49m\u001b[43m,\u001b[49m\u001b[43m \u001b[49m\u001b[38;5;241;43m*\u001b[39;49m\u001b[38;5;241;43m*\u001b[39;49m\u001b[43mkwargs\u001b[49m\u001b[43m)\u001b[49m\u001b[38;5;241;43m.\u001b[39;49m\u001b[43mread\u001b[49m\u001b[43m(\u001b[49m\u001b[43m)\u001b[49m\n",
      "File \u001b[1;32m~\\AppData\\Local\\Programs\\Python\\Python312\\Lib\\site-packages\\pandas_datareader\\tiingo.py:234\u001b[0m, in \u001b[0;36mTiingoDailyReader.read\u001b[1;34m(self)\u001b[0m\n\u001b[0;32m    232\u001b[0m     \u001b[38;5;28;01mfinally\u001b[39;00m:\n\u001b[0;32m    233\u001b[0m         \u001b[38;5;28mself\u001b[39m\u001b[38;5;241m.\u001b[39mclose()\n\u001b[1;32m--> 234\u001b[0m \u001b[38;5;28;01mreturn\u001b[39;00m \u001b[43mpd\u001b[49m\u001b[38;5;241;43m.\u001b[39;49m\u001b[43mconcat\u001b[49m\u001b[43m(\u001b[49m\u001b[43mdfs\u001b[49m\u001b[43m,\u001b[49m\u001b[43m \u001b[49m\u001b[38;5;28;43mself\u001b[39;49m\u001b[38;5;241;43m.\u001b[39;49m\u001b[43m_concat_axis\u001b[49m\u001b[43m)\u001b[49m\n",
      "\u001b[1;31mTypeError\u001b[0m: concat() takes 1 positional argument but 2 were given"
     ]
    }
   ],
>>>>>>> 00e3d2c (Add streamlit stock prediction app)
   "source": [
    "df = pdr.get_data_tiingo('GOOG', api_key=key)\n",
    "data = pd.DataFrame(df)\n",
    "data.head()"
   ]
  },
  {
   "cell_type": "code",
<<<<<<< HEAD
   "execution_count": null,
   "metadata": {},
   "outputs": [],
   "source": [
    "data.head()"
=======
   "execution_count": 5,
   "metadata": {},
   "outputs": [
    {
     "data": {
      "text/html": [
       "<div>\n",
       "<style scoped>\n",
       "    .dataframe tbody tr th:only-of-type {\n",
       "        vertical-align: middle;\n",
       "    }\n",
       "\n",
       "    .dataframe tbody tr th {\n",
       "        vertical-align: top;\n",
       "    }\n",
       "\n",
       "    .dataframe thead th {\n",
       "        text-align: right;\n",
       "    }\n",
       "</style>\n",
       "<table border=\"1\" class=\"dataframe\">\n",
       "  <thead>\n",
       "    <tr style=\"text-align: right;\">\n",
       "      <th></th>\n",
       "      <th>Date</th>\n",
       "      <th>Open</th>\n",
       "      <th>High</th>\n",
       "      <th>Low</th>\n",
       "      <th>Close</th>\n",
       "      <th>Adj Close</th>\n",
       "      <th>Volume</th>\n",
       "    </tr>\n",
       "  </thead>\n",
       "  <tbody>\n",
       "    <tr>\n",
       "      <th>0</th>\n",
       "      <td>2004-08-19</td>\n",
       "      <td>2.490664</td>\n",
       "      <td>2.591785</td>\n",
       "      <td>2.390042</td>\n",
       "      <td>2.499133</td>\n",
       "      <td>2.499133</td>\n",
       "      <td>897427216</td>\n",
       "    </tr>\n",
       "    <tr>\n",
       "      <th>1</th>\n",
       "      <td>2004-08-20</td>\n",
       "      <td>2.515820</td>\n",
       "      <td>2.716817</td>\n",
       "      <td>2.503118</td>\n",
       "      <td>2.697639</td>\n",
       "      <td>2.697639</td>\n",
       "      <td>458857488</td>\n",
       "    </tr>\n",
       "    <tr>\n",
       "      <th>2</th>\n",
       "      <td>2004-08-23</td>\n",
       "      <td>2.758411</td>\n",
       "      <td>2.826406</td>\n",
       "      <td>2.716070</td>\n",
       "      <td>2.724787</td>\n",
       "      <td>2.724787</td>\n",
       "      <td>366857939</td>\n",
       "    </tr>\n",
       "    <tr>\n",
       "      <th>3</th>\n",
       "      <td>2004-08-24</td>\n",
       "      <td>2.770615</td>\n",
       "      <td>2.779581</td>\n",
       "      <td>2.579581</td>\n",
       "      <td>2.611960</td>\n",
       "      <td>2.611960</td>\n",
       "      <td>306396159</td>\n",
       "    </tr>\n",
       "    <tr>\n",
       "      <th>4</th>\n",
       "      <td>2004-08-25</td>\n",
       "      <td>2.614201</td>\n",
       "      <td>2.689918</td>\n",
       "      <td>2.587302</td>\n",
       "      <td>2.640104</td>\n",
       "      <td>2.640104</td>\n",
       "      <td>184645512</td>\n",
       "    </tr>\n",
       "  </tbody>\n",
       "</table>\n",
       "</div>"
      ],
      "text/plain": [
       "         Date      Open      High       Low     Close  Adj Close     Volume\n",
       "0  2004-08-19  2.490664  2.591785  2.390042  2.499133   2.499133  897427216\n",
       "1  2004-08-20  2.515820  2.716817  2.503118  2.697639   2.697639  458857488\n",
       "2  2004-08-23  2.758411  2.826406  2.716070  2.724787   2.724787  366857939\n",
       "3  2004-08-24  2.770615  2.779581  2.579581  2.611960   2.611960  306396159\n",
       "4  2004-08-25  2.614201  2.689918  2.587302  2.640104   2.640104  184645512"
      ]
     },
     "execution_count": 5,
     "metadata": {},
     "output_type": "execute_result"
    }
   ],
   "source": [
    "data.head()"
   ]
  },
  {
   "cell_type": "code",
   "execution_count": 4,
   "metadata": {},
   "outputs": [],
   "source": [
    "data = pd.read_csv(\"GOOG.csv\")"
>>>>>>> 00e3d2c (Add streamlit stock prediction app)
   ]
  },
  {
   "cell_type": "code",
   "execution_count": 7,
   "metadata": {},
   "outputs": [],
   "source": [
    "import requests\n",
    "import pandas as pd\n",
    "\n",
    "url = f\"https://api.tiingo.com/tiingo/daily/AAPL/prices?token={key}\"\n",
    "response = requests.get(url)\n",
    "data = response.json()\n",
    "\n",
    "df = pd.DataFrame(data)\n"
   ]
  },
  {
   "cell_type": "markdown",
   "metadata": {},
   "source": [
    "# another method to extrect data"
   ]
  },
  {
   "cell_type": "code",
   "execution_count": 10,
   "metadata": {},
   "outputs": [],
   "source": [
    "import yfinance as yf"
   ]
  },
  {
   "cell_type": "code",
   "execution_count": 11,
   "metadata": {},
   "outputs": [],
   "source": [
    "from datetime import datetime\n",
    "end = datetime.now()\n",
    "start = datetime(end.year-20, end.month, end.day)"
   ]
  },
  {
   "cell_type": "code",
   "execution_count": 12,
   "metadata": {},
   "outputs": [
    {
     "name": "stdout",
     "output_type": "stream",
     "text": [
      "YF.download() has changed argument auto_adjust default to True\n"
     ]
    },
    {
     "name": "stderr",
     "output_type": "stream",
     "text": [
      "[*********************100%***********************]  1 of 1 completed\n",
      "\n",
      "1 Failed download:\n",
      "['AAPL']: YFRateLimitError('Too Many Requests. Rate limited. Try after a while.')\n"
     ]
    },
    {
     "data": {
      "text/html": [
       "<div>\n",
       "<style scoped>\n",
       "    .dataframe tbody tr th:only-of-type {\n",
       "        vertical-align: middle;\n",
       "    }\n",
       "\n",
       "    .dataframe tbody tr th {\n",
       "        vertical-align: top;\n",
       "    }\n",
       "\n",
       "    .dataframe thead tr th {\n",
       "        text-align: left;\n",
       "    }\n",
       "\n",
       "    .dataframe thead tr:last-of-type th {\n",
       "        text-align: right;\n",
       "    }\n",
       "</style>\n",
       "<table border=\"1\" class=\"dataframe\">\n",
       "  <thead>\n",
       "    <tr>\n",
       "      <th>Price</th>\n",
       "      <th>Adj Close</th>\n",
       "      <th>Close</th>\n",
       "      <th>High</th>\n",
       "      <th>Low</th>\n",
       "      <th>Open</th>\n",
       "      <th>Volume</th>\n",
       "    </tr>\n",
       "    <tr>\n",
       "      <th>Ticker</th>\n",
       "      <th>AAPL</th>\n",
       "      <th>AAPL</th>\n",
       "      <th>AAPL</th>\n",
       "      <th>AAPL</th>\n",
       "      <th>AAPL</th>\n",
       "      <th>AAPL</th>\n",
       "    </tr>\n",
       "    <tr>\n",
       "      <th>Date</th>\n",
       "      <th></th>\n",
       "      <th></th>\n",
       "      <th></th>\n",
       "      <th></th>\n",
       "      <th></th>\n",
       "      <th></th>\n",
       "    </tr>\n",
       "  </thead>\n",
       "  <tbody>\n",
       "  </tbody>\n",
       "</table>\n",
       "</div>"
      ],
      "text/plain": [
       "Empty DataFrame\n",
       "Columns: [(Adj Close, AAPL), (Close, AAPL), (High, AAPL), (Low, AAPL), (Open, AAPL), (Volume, AAPL)]\n",
       "Index: []"
      ]
     },
     "execution_count": 12,
     "metadata": {},
     "output_type": "execute_result"
    }
   ],
   "source": [
    "stock = \"AAPL\"\n",
    "google_data = yf.download(stock, start, end)\n",
    "google_data.head()"
   ]
  },
  {
   "cell_type": "markdown",
   "metadata": {},
   "source": [
    "# another method "
   ]
  },
  {
   "cell_type": "code",
   "execution_count": 2,
   "metadata": {},
   "outputs": [
    {
     "ename": "ValueError",
     "evalue": "Invalid API call. Please retry or visit the documentation (https://www.alphavantage.co/documentation/) for TIME_SERIES_DAILY.",
     "output_type": "error",
     "traceback": [
      "\u001b[1;31m---------------------------------------------------------------------------\u001b[0m",
      "\u001b[1;31mValueError\u001b[0m                                Traceback (most recent call last)",
      "Cell \u001b[1;32mIn[2], line 8\u001b[0m\n\u001b[0;32m      5\u001b[0m ticker \u001b[38;5;241m=\u001b[39m \u001b[38;5;124m\"\u001b[39m\u001b[38;5;124mBTC-USD\u001b[39m\u001b[38;5;124m\"\u001b[39m\n\u001b[0;32m      7\u001b[0m ts \u001b[38;5;241m=\u001b[39m TimeSeries(key\u001b[38;5;241m=\u001b[39mapi_key, output_format\u001b[38;5;241m=\u001b[39m\u001b[38;5;124m'\u001b[39m\u001b[38;5;124mpandas\u001b[39m\u001b[38;5;124m'\u001b[39m)\n\u001b[1;32m----> 8\u001b[0m data, meta_data \u001b[38;5;241m=\u001b[39m \u001b[43mts\u001b[49m\u001b[38;5;241;43m.\u001b[39;49m\u001b[43mget_daily\u001b[49m\u001b[43m(\u001b[49m\u001b[43msymbol\u001b[49m\u001b[38;5;241;43m=\u001b[39;49m\u001b[43mticker\u001b[49m\u001b[43m,\u001b[49m\u001b[43m \u001b[49m\u001b[43moutputsize\u001b[49m\u001b[38;5;241;43m=\u001b[39;49m\u001b[38;5;124;43m'\u001b[39;49m\u001b[38;5;124;43mfull\u001b[39;49m\u001b[38;5;124;43m'\u001b[39;49m\u001b[43m)\u001b[49m\n\u001b[0;32m     10\u001b[0m data\u001b[38;5;241m.\u001b[39mhead()\n",
      "File \u001b[1;32m~\\AppData\\Local\\Programs\\Python\\Python312\\Lib\\site-packages\\alpha_vantage\\alphavantage.py:218\u001b[0m, in \u001b[0;36mAlphaVantage._output_format.<locals>._format_wrapper\u001b[1;34m(self, *args, **kwargs)\u001b[0m\n\u001b[0;32m    216\u001b[0m \u001b[38;5;129m@wraps\u001b[39m(func)\n\u001b[0;32m    217\u001b[0m \u001b[38;5;28;01mdef\u001b[39;00m \u001b[38;5;21m_format_wrapper\u001b[39m(\u001b[38;5;28mself\u001b[39m, \u001b[38;5;241m*\u001b[39margs, \u001b[38;5;241m*\u001b[39m\u001b[38;5;241m*\u001b[39mkwargs):\n\u001b[1;32m--> 218\u001b[0m     call_response, data_key, meta_data_key \u001b[38;5;241m=\u001b[39m \u001b[43mfunc\u001b[49m\u001b[43m(\u001b[49m\n\u001b[0;32m    219\u001b[0m \u001b[43m        \u001b[49m\u001b[38;5;28;43mself\u001b[39;49m\u001b[43m,\u001b[49m\u001b[43m \u001b[49m\u001b[38;5;241;43m*\u001b[39;49m\u001b[43margs\u001b[49m\u001b[43m,\u001b[49m\u001b[43m \u001b[49m\u001b[38;5;241;43m*\u001b[39;49m\u001b[38;5;241;43m*\u001b[39;49m\u001b[43mkwargs\u001b[49m\u001b[43m)\u001b[49m\n\u001b[0;32m    220\u001b[0m     \u001b[38;5;28;01mif\u001b[39;00m \u001b[38;5;124m'\u001b[39m\u001b[38;5;124mjson\u001b[39m\u001b[38;5;124m'\u001b[39m \u001b[38;5;129;01min\u001b[39;00m \u001b[38;5;28mself\u001b[39m\u001b[38;5;241m.\u001b[39moutput_format\u001b[38;5;241m.\u001b[39mlower() \u001b[38;5;129;01mor\u001b[39;00m \u001b[38;5;124m'\u001b[39m\u001b[38;5;124mpandas\u001b[39m\u001b[38;5;124m'\u001b[39m \\\n\u001b[0;32m    221\u001b[0m             \u001b[38;5;129;01min\u001b[39;00m \u001b[38;5;28mself\u001b[39m\u001b[38;5;241m.\u001b[39moutput_format\u001b[38;5;241m.\u001b[39mlower():\n\u001b[0;32m    222\u001b[0m         \u001b[38;5;28;01mif\u001b[39;00m data_key \u001b[38;5;129;01mis\u001b[39;00m \u001b[38;5;129;01mnot\u001b[39;00m \u001b[38;5;28;01mNone\u001b[39;00m:\n",
      "File \u001b[1;32m~\\AppData\\Local\\Programs\\Python\\Python312\\Lib\\site-packages\\alpha_vantage\\alphavantage.py:160\u001b[0m, in \u001b[0;36mAlphaVantage._call_api_on_func.<locals>._call_wrapper\u001b[1;34m(self, *args, **kwargs)\u001b[0m\n\u001b[0;32m    158\u001b[0m \u001b[38;5;28;01melse\u001b[39;00m:\n\u001b[0;32m    159\u001b[0m     url \u001b[38;5;241m=\u001b[39m \u001b[38;5;124m'\u001b[39m\u001b[38;5;132;01m{}\u001b[39;00m\u001b[38;5;132;01m{}\u001b[39;00m\u001b[38;5;124m'\u001b[39m\u001b[38;5;241m.\u001b[39mformat(url, apikey_parameter)\n\u001b[1;32m--> 160\u001b[0m \u001b[38;5;28;01mreturn\u001b[39;00m \u001b[38;5;28;43mself\u001b[39;49m\u001b[38;5;241;43m.\u001b[39;49m\u001b[43m_handle_api_call\u001b[49m\u001b[43m(\u001b[49m\u001b[43murl\u001b[49m\u001b[43m)\u001b[49m, data_key, meta_data_key\n",
      "File \u001b[1;32m~\\AppData\\Local\\Programs\\Python\\Python312\\Lib\\site-packages\\alpha_vantage\\alphavantage.py:359\u001b[0m, in \u001b[0;36mAlphaVantage._handle_api_call\u001b[1;34m(self, url)\u001b[0m\n\u001b[0;32m    356\u001b[0m     \u001b[38;5;28;01mraise\u001b[39;00m \u001b[38;5;167;01mValueError\u001b[39;00m(\n\u001b[0;32m    357\u001b[0m         \u001b[38;5;124m'\u001b[39m\u001b[38;5;124mError getting data from the api, no return was given.\u001b[39m\u001b[38;5;124m'\u001b[39m)\n\u001b[0;32m    358\u001b[0m \u001b[38;5;28;01melif\u001b[39;00m \u001b[38;5;124m\"\u001b[39m\u001b[38;5;124mError Message\u001b[39m\u001b[38;5;124m\"\u001b[39m \u001b[38;5;129;01min\u001b[39;00m json_response:\n\u001b[1;32m--> 359\u001b[0m     \u001b[38;5;28;01mraise\u001b[39;00m \u001b[38;5;167;01mValueError\u001b[39;00m(json_response[\u001b[38;5;124m\"\u001b[39m\u001b[38;5;124mError Message\u001b[39m\u001b[38;5;124m\"\u001b[39m])\n\u001b[0;32m    360\u001b[0m \u001b[38;5;28;01melif\u001b[39;00m \u001b[38;5;124m\"\u001b[39m\u001b[38;5;124mInformation\u001b[39m\u001b[38;5;124m\"\u001b[39m \u001b[38;5;129;01min\u001b[39;00m json_response \u001b[38;5;129;01mand\u001b[39;00m \u001b[38;5;28mself\u001b[39m\u001b[38;5;241m.\u001b[39mtreat_info_as_error:\n\u001b[0;32m    361\u001b[0m     \u001b[38;5;28;01mraise\u001b[39;00m \u001b[38;5;167;01mValueError\u001b[39;00m(json_response[\u001b[38;5;124m\"\u001b[39m\u001b[38;5;124mInformation\u001b[39m\u001b[38;5;124m\"\u001b[39m])\n",
      "\u001b[1;31mValueError\u001b[0m: Invalid API call. Please retry or visit the documentation (https://www.alphavantage.co/documentation/) for TIME_SERIES_DAILY."
     ]
    }
   ],
   "source": [
    "from alpha_vantage.timeseries import TimeSeries\n",
    "import pandas as pd\n",
    "\n",
    "api_key = \"XVIBR3YK5AC6W4OL\"\n",
    "ticker = \"BTC-USD\"\n",
    "\n",
    "ts = TimeSeries(key=api_key, output_format='pandas')\n",
    "data, meta_data = ts.get_daily(symbol=ticker, outputsize='full')\n",
    "\n",
    "data.head()\n"
   ]
  },
  {
   "cell_type": "code",
<<<<<<< HEAD
   "execution_count": 18,
=======
   "execution_count": 8,
>>>>>>> 00e3d2c (Add streamlit stock prediction app)
   "metadata": {},
   "outputs": [
    {
     "data": {
      "text/plain": [
<<<<<<< HEAD
       "(2817, 5)"
      ]
     },
     "execution_count": 18,
=======
       "(4858, 7)"
      ]
     },
     "execution_count": 8,
>>>>>>> 00e3d2c (Add streamlit stock prediction app)
     "metadata": {},
     "output_type": "execute_result"
    }
   ],
   "source": [
    "data.shape"
   ]
  },
  {
   "cell_type": "code",
<<<<<<< HEAD
   "execution_count": 19,
=======
   "execution_count": 9,
>>>>>>> 00e3d2c (Add streamlit stock prediction app)
   "metadata": {},
   "outputs": [
    {
     "data": {
      "text/html": [
       "<div>\n",
       "<style scoped>\n",
       "    .dataframe tbody tr th:only-of-type {\n",
       "        vertical-align: middle;\n",
       "    }\n",
       "\n",
       "    .dataframe tbody tr th {\n",
       "        vertical-align: top;\n",
       "    }\n",
       "\n",
       "    .dataframe thead th {\n",
       "        text-align: right;\n",
       "    }\n",
       "</style>\n",
       "<table border=\"1\" class=\"dataframe\">\n",
       "  <thead>\n",
       "    <tr style=\"text-align: right;\">\n",
       "      <th></th>\n",
<<<<<<< HEAD
       "      <th>1. open</th>\n",
       "      <th>2. high</th>\n",
       "      <th>3. low</th>\n",
       "      <th>4. close</th>\n",
       "      <th>5. volume</th>\n",
       "    </tr>\n",
       "    <tr>\n",
       "      <th>date</th>\n",
       "      <th></th>\n",
       "      <th></th>\n",
       "      <th></th>\n",
       "      <th></th>\n",
       "      <th></th>\n",
=======
       "      <th>Date</th>\n",
       "      <th>Open</th>\n",
       "      <th>High</th>\n",
       "      <th>Low</th>\n",
       "      <th>Close</th>\n",
       "      <th>Adj Close</th>\n",
       "      <th>Volume</th>\n",
>>>>>>> 00e3d2c (Add streamlit stock prediction app)
       "    </tr>\n",
       "  </thead>\n",
       "  <tbody>\n",
       "    <tr>\n",
<<<<<<< HEAD
       "      <th>2014-04-02</th>\n",
       "      <td>565.106</td>\n",
       "      <td>604.83</td>\n",
       "      <td>562.19</td>\n",
       "      <td>567.00</td>\n",
       "      <td>146700.0</td>\n",
       "    </tr>\n",
       "    <tr>\n",
       "      <th>2014-04-01</th>\n",
       "      <td>558.710</td>\n",
       "      <td>568.45</td>\n",
       "      <td>558.71</td>\n",
       "      <td>567.16</td>\n",
       "      <td>7900.0</td>\n",
       "    </tr>\n",
       "    <tr>\n",
       "      <th>2014-03-31</th>\n",
       "      <td>566.890</td>\n",
       "      <td>567.00</td>\n",
       "      <td>556.93</td>\n",
       "      <td>556.97</td>\n",
       "      <td>10800.0</td>\n",
       "    </tr>\n",
       "    <tr>\n",
       "      <th>2014-03-28</th>\n",
       "      <td>561.200</td>\n",
       "      <td>566.43</td>\n",
       "      <td>558.67</td>\n",
       "      <td>559.99</td>\n",
       "      <td>41100.0</td>\n",
       "    </tr>\n",
       "    <tr>\n",
       "      <th>2014-03-27</th>\n",
       "      <td>568.000</td>\n",
       "      <td>568.00</td>\n",
       "      <td>552.92</td>\n",
       "      <td>558.46</td>\n",
       "      <td>13100.0</td>\n",
=======
       "      <th>4853</th>\n",
       "      <td>2023-11-29</td>\n",
       "      <td>138.985001</td>\n",
       "      <td>139.669998</td>\n",
       "      <td>136.294998</td>\n",
       "      <td>136.399994</td>\n",
       "      <td>136.399994</td>\n",
       "      <td>21014700</td>\n",
       "    </tr>\n",
       "    <tr>\n",
       "      <th>4854</th>\n",
       "      <td>2023-11-30</td>\n",
       "      <td>136.399994</td>\n",
       "      <td>136.960007</td>\n",
       "      <td>132.789993</td>\n",
       "      <td>133.919998</td>\n",
       "      <td>133.919998</td>\n",
       "      <td>29913500</td>\n",
       "    </tr>\n",
       "    <tr>\n",
       "      <th>4855</th>\n",
       "      <td>2023-12-01</td>\n",
       "      <td>133.320007</td>\n",
       "      <td>133.500000</td>\n",
       "      <td>132.151993</td>\n",
       "      <td>133.320007</td>\n",
       "      <td>133.320007</td>\n",
       "      <td>24258400</td>\n",
       "    </tr>\n",
       "    <tr>\n",
       "      <th>4856</th>\n",
       "      <td>2023-12-04</td>\n",
       "      <td>131.294006</td>\n",
       "      <td>131.449997</td>\n",
       "      <td>129.399994</td>\n",
       "      <td>130.630005</td>\n",
       "      <td>130.630005</td>\n",
       "      <td>24117100</td>\n",
       "    </tr>\n",
       "    <tr>\n",
       "      <th>4857</th>\n",
       "      <td>2023-12-05</td>\n",
       "      <td>130.369995</td>\n",
       "      <td>133.539993</td>\n",
       "      <td>129.729996</td>\n",
       "      <td>132.389999</td>\n",
       "      <td>132.389999</td>\n",
       "      <td>19216500</td>\n",
>>>>>>> 00e3d2c (Add streamlit stock prediction app)
       "    </tr>\n",
       "  </tbody>\n",
       "</table>\n",
       "</div>"
      ],
      "text/plain": [
<<<<<<< HEAD
       "            1. open  2. high  3. low  4. close  5. volume\n",
       "date                                                     \n",
       "2014-04-02  565.106   604.83  562.19    567.00   146700.0\n",
       "2014-04-01  558.710   568.45  558.71    567.16     7900.0\n",
       "2014-03-31  566.890   567.00  556.93    556.97    10800.0\n",
       "2014-03-28  561.200   566.43  558.67    559.99    41100.0\n",
       "2014-03-27  568.000   568.00  552.92    558.46    13100.0"
      ]
     },
     "execution_count": 19,
=======
       "            Date        Open        High         Low       Close   Adj Close  \\\n",
       "4853  2023-11-29  138.985001  139.669998  136.294998  136.399994  136.399994   \n",
       "4854  2023-11-30  136.399994  136.960007  132.789993  133.919998  133.919998   \n",
       "4855  2023-12-01  133.320007  133.500000  132.151993  133.320007  133.320007   \n",
       "4856  2023-12-04  131.294006  131.449997  129.399994  130.630005  130.630005   \n",
       "4857  2023-12-05  130.369995  133.539993  129.729996  132.389999  132.389999   \n",
       "\n",
       "        Volume  \n",
       "4853  21014700  \n",
       "4854  29913500  \n",
       "4855  24258400  \n",
       "4856  24117100  \n",
       "4857  19216500  "
      ]
     },
     "execution_count": 9,
>>>>>>> 00e3d2c (Add streamlit stock prediction app)
     "metadata": {},
     "output_type": "execute_result"
    }
   ],
   "source": [
    "data.tail()"
   ]
  },
  {
   "cell_type": "code",
   "execution_count": 20,
   "metadata": {},
   "outputs": [],
   "source": [
    "data.to_csv('GOOG_1.csv')"
   ]
  },
  {
   "cell_type": "code",
   "execution_count": 21,
   "metadata": {},
   "outputs": [],
   "source": [
    "import pandas as pd"
   ]
  },
  {
   "cell_type": "code",
<<<<<<< HEAD
   "execution_count": 22,
   "metadata": {},
   "outputs": [],
   "source": [
    "df=pd.read_csv('AAPL_1.csv')"
=======
   "execution_count": 2,
   "metadata": {},
   "outputs": [],
   "source": [
    "df=pd.read_csv('GOOG.csv')"
>>>>>>> 00e3d2c (Add streamlit stock prediction app)
   ]
  },
  {
   "cell_type": "code",
<<<<<<< HEAD
   "execution_count": 23,
=======
   "execution_count": 3,
>>>>>>> 00e3d2c (Add streamlit stock prediction app)
   "metadata": {},
   "outputs": [
    {
     "data": {
      "text/html": [
       "<div>\n",
       "<style scoped>\n",
       "    .dataframe tbody tr th:only-of-type {\n",
       "        vertical-align: middle;\n",
       "    }\n",
       "\n",
       "    .dataframe tbody tr th {\n",
       "        vertical-align: top;\n",
       "    }\n",
       "\n",
       "    .dataframe thead th {\n",
       "        text-align: right;\n",
       "    }\n",
       "</style>\n",
       "<table border=\"1\" class=\"dataframe\">\n",
       "  <thead>\n",
       "    <tr style=\"text-align: right;\">\n",
       "      <th></th>\n",
<<<<<<< HEAD
       "      <th>date</th>\n",
       "      <th>1. open</th>\n",
       "      <th>2. high</th>\n",
       "      <th>3. low</th>\n",
       "      <th>4. close</th>\n",
       "      <th>5. volume</th>\n",
=======
       "      <th>Date</th>\n",
       "      <th>Open</th>\n",
       "      <th>High</th>\n",
       "      <th>Low</th>\n",
       "      <th>Close</th>\n",
       "      <th>Adj Close</th>\n",
       "      <th>Volume</th>\n",
>>>>>>> 00e3d2c (Add streamlit stock prediction app)
       "    </tr>\n",
       "  </thead>\n",
       "  <tbody>\n",
       "    <tr>\n",
       "      <th>0</th>\n",
<<<<<<< HEAD
       "      <td>2025-06-06</td>\n",
       "      <td>203.00</td>\n",
       "      <td>205.70</td>\n",
       "      <td>202.050</td>\n",
       "      <td>203.92</td>\n",
       "      <td>46607693.0</td>\n",
       "    </tr>\n",
       "    <tr>\n",
       "      <th>1</th>\n",
       "      <td>2025-06-05</td>\n",
       "      <td>203.50</td>\n",
       "      <td>204.75</td>\n",
       "      <td>200.150</td>\n",
       "      <td>200.63</td>\n",
       "      <td>55221235.0</td>\n",
       "    </tr>\n",
       "    <tr>\n",
       "      <th>2</th>\n",
       "      <td>2025-06-04</td>\n",
       "      <td>202.91</td>\n",
       "      <td>206.24</td>\n",
       "      <td>202.100</td>\n",
       "      <td>202.82</td>\n",
       "      <td>43603985.0</td>\n",
       "    </tr>\n",
       "    <tr>\n",
       "      <th>3</th>\n",
       "      <td>2025-06-03</td>\n",
       "      <td>201.35</td>\n",
       "      <td>203.77</td>\n",
       "      <td>200.955</td>\n",
       "      <td>203.27</td>\n",
       "      <td>46381567.0</td>\n",
       "    </tr>\n",
       "    <tr>\n",
       "      <th>4</th>\n",
       "      <td>2025-06-02</td>\n",
       "      <td>200.28</td>\n",
       "      <td>202.13</td>\n",
       "      <td>200.120</td>\n",
       "      <td>201.70</td>\n",
       "      <td>35423294.0</td>\n",
=======
       "      <td>2004-08-19</td>\n",
       "      <td>2.490664</td>\n",
       "      <td>2.591785</td>\n",
       "      <td>2.390042</td>\n",
       "      <td>2.499133</td>\n",
       "      <td>2.499133</td>\n",
       "      <td>897427216</td>\n",
       "    </tr>\n",
       "    <tr>\n",
       "      <th>1</th>\n",
       "      <td>2004-08-20</td>\n",
       "      <td>2.515820</td>\n",
       "      <td>2.716817</td>\n",
       "      <td>2.503118</td>\n",
       "      <td>2.697639</td>\n",
       "      <td>2.697639</td>\n",
       "      <td>458857488</td>\n",
       "    </tr>\n",
       "    <tr>\n",
       "      <th>2</th>\n",
       "      <td>2004-08-23</td>\n",
       "      <td>2.758411</td>\n",
       "      <td>2.826406</td>\n",
       "      <td>2.716070</td>\n",
       "      <td>2.724787</td>\n",
       "      <td>2.724787</td>\n",
       "      <td>366857939</td>\n",
       "    </tr>\n",
       "    <tr>\n",
       "      <th>3</th>\n",
       "      <td>2004-08-24</td>\n",
       "      <td>2.770615</td>\n",
       "      <td>2.779581</td>\n",
       "      <td>2.579581</td>\n",
       "      <td>2.611960</td>\n",
       "      <td>2.611960</td>\n",
       "      <td>306396159</td>\n",
       "    </tr>\n",
       "    <tr>\n",
       "      <th>4</th>\n",
       "      <td>2004-08-25</td>\n",
       "      <td>2.614201</td>\n",
       "      <td>2.689918</td>\n",
       "      <td>2.587302</td>\n",
       "      <td>2.640104</td>\n",
       "      <td>2.640104</td>\n",
       "      <td>184645512</td>\n",
>>>>>>> 00e3d2c (Add streamlit stock prediction app)
       "    </tr>\n",
       "  </tbody>\n",
       "</table>\n",
       "</div>"
      ],
      "text/plain": [
<<<<<<< HEAD
       "         date  1. open  2. high   3. low  4. close   5. volume\n",
       "0  2025-06-06   203.00   205.70  202.050    203.92  46607693.0\n",
       "1  2025-06-05   203.50   204.75  200.150    200.63  55221235.0\n",
       "2  2025-06-04   202.91   206.24  202.100    202.82  43603985.0\n",
       "3  2025-06-03   201.35   203.77  200.955    203.27  46381567.0\n",
       "4  2025-06-02   200.28   202.13  200.120    201.70  35423294.0"
      ]
     },
     "execution_count": 23,
=======
       "         Date      Open      High       Low     Close  Adj Close     Volume\n",
       "0  2004-08-19  2.490664  2.591785  2.390042  2.499133   2.499133  897427216\n",
       "1  2004-08-20  2.515820  2.716817  2.503118  2.697639   2.697639  458857488\n",
       "2  2004-08-23  2.758411  2.826406  2.716070  2.724787   2.724787  366857939\n",
       "3  2004-08-24  2.770615  2.779581  2.579581  2.611960   2.611960  306396159\n",
       "4  2004-08-25  2.614201  2.689918  2.587302  2.640104   2.640104  184645512"
      ]
     },
     "execution_count": 3,
>>>>>>> 00e3d2c (Add streamlit stock prediction app)
     "metadata": {},
     "output_type": "execute_result"
    }
   ],
   "source": [
    "df.head(5)"
   ]
  },
  {
   "cell_type": "code",
   "execution_count": 4,
   "metadata": {},
   "outputs": [
    {
     "data": {
      "text/html": [
       "<div>\n",
       "<style scoped>\n",
       "    .dataframe tbody tr th:only-of-type {\n",
       "        vertical-align: middle;\n",
       "    }\n",
       "\n",
       "    .dataframe tbody tr th {\n",
       "        vertical-align: top;\n",
       "    }\n",
       "\n",
       "    .dataframe thead th {\n",
       "        text-align: right;\n",
       "    }\n",
       "</style>\n",
       "<table border=\"1\" class=\"dataframe\">\n",
       "  <thead>\n",
       "    <tr style=\"text-align: right;\">\n",
       "      <th></th>\n",
<<<<<<< HEAD
       "      <th>date</th>\n",
       "      <th>1. open</th>\n",
       "      <th>2. high</th>\n",
       "      <th>3. low</th>\n",
       "      <th>4. close</th>\n",
       "      <th>5. volume</th>\n",
=======
       "      <th>Date</th>\n",
       "      <th>Open</th>\n",
       "      <th>High</th>\n",
       "      <th>Low</th>\n",
       "      <th>Close</th>\n",
       "      <th>Adj Close</th>\n",
       "      <th>Volume</th>\n",
>>>>>>> 00e3d2c (Add streamlit stock prediction app)
       "    </tr>\n",
       "  </thead>\n",
       "  <tbody>\n",
       "    <tr>\n",
<<<<<<< HEAD
       "      <th>6358</th>\n",
       "      <td>1999-11-05</td>\n",
       "      <td>84.62</td>\n",
       "      <td>88.37</td>\n",
       "      <td>84.00</td>\n",
       "      <td>88.31</td>\n",
       "      <td>3721500.0</td>\n",
       "    </tr>\n",
       "    <tr>\n",
       "      <th>6359</th>\n",
       "      <td>1999-11-04</td>\n",
       "      <td>82.06</td>\n",
       "      <td>85.37</td>\n",
       "      <td>80.62</td>\n",
       "      <td>83.62</td>\n",
       "      <td>3384700.0</td>\n",
       "    </tr>\n",
       "    <tr>\n",
       "      <th>6360</th>\n",
       "      <td>1999-11-03</td>\n",
       "      <td>81.62</td>\n",
       "      <td>83.25</td>\n",
       "      <td>81.00</td>\n",
       "      <td>81.50</td>\n",
       "      <td>2932700.0</td>\n",
       "    </tr>\n",
       "    <tr>\n",
       "      <th>6361</th>\n",
       "      <td>1999-11-02</td>\n",
       "      <td>78.00</td>\n",
       "      <td>81.69</td>\n",
       "      <td>77.31</td>\n",
       "      <td>80.25</td>\n",
       "      <td>3564600.0</td>\n",
       "    </tr>\n",
       "    <tr>\n",
       "      <th>6362</th>\n",
       "      <td>1999-11-01</td>\n",
       "      <td>80.00</td>\n",
       "      <td>80.69</td>\n",
       "      <td>77.37</td>\n",
       "      <td>77.62</td>\n",
       "      <td>2487300.0</td>\n",
=======
       "      <th>4853</th>\n",
       "      <td>2023-11-29</td>\n",
       "      <td>138.985001</td>\n",
       "      <td>139.669998</td>\n",
       "      <td>136.294998</td>\n",
       "      <td>136.399994</td>\n",
       "      <td>136.399994</td>\n",
       "      <td>21014700</td>\n",
       "    </tr>\n",
       "    <tr>\n",
       "      <th>4854</th>\n",
       "      <td>2023-11-30</td>\n",
       "      <td>136.399994</td>\n",
       "      <td>136.960007</td>\n",
       "      <td>132.789993</td>\n",
       "      <td>133.919998</td>\n",
       "      <td>133.919998</td>\n",
       "      <td>29913500</td>\n",
       "    </tr>\n",
       "    <tr>\n",
       "      <th>4855</th>\n",
       "      <td>2023-12-01</td>\n",
       "      <td>133.320007</td>\n",
       "      <td>133.500000</td>\n",
       "      <td>132.151993</td>\n",
       "      <td>133.320007</td>\n",
       "      <td>133.320007</td>\n",
       "      <td>24258400</td>\n",
       "    </tr>\n",
       "    <tr>\n",
       "      <th>4856</th>\n",
       "      <td>2023-12-04</td>\n",
       "      <td>131.294006</td>\n",
       "      <td>131.449997</td>\n",
       "      <td>129.399994</td>\n",
       "      <td>130.630005</td>\n",
       "      <td>130.630005</td>\n",
       "      <td>24117100</td>\n",
       "    </tr>\n",
       "    <tr>\n",
       "      <th>4857</th>\n",
       "      <td>2023-12-05</td>\n",
       "      <td>130.369995</td>\n",
       "      <td>133.539993</td>\n",
       "      <td>129.729996</td>\n",
       "      <td>132.389999</td>\n",
       "      <td>132.389999</td>\n",
       "      <td>19216500</td>\n",
>>>>>>> 00e3d2c (Add streamlit stock prediction app)
       "    </tr>\n",
       "  </tbody>\n",
       "</table>\n",
       "</div>"
      ],
      "text/plain": [
<<<<<<< HEAD
       "            date  1. open  2. high  3. low  4. close  5. volume\n",
       "6358  1999-11-05    84.62    88.37   84.00     88.31  3721500.0\n",
       "6359  1999-11-04    82.06    85.37   80.62     83.62  3384700.0\n",
       "6360  1999-11-03    81.62    83.25   81.00     81.50  2932700.0\n",
       "6361  1999-11-02    78.00    81.69   77.31     80.25  3564600.0\n",
       "6362  1999-11-01    80.00    80.69   77.37     77.62  2487300.0"
=======
       "            Date        Open        High         Low       Close   Adj Close  \\\n",
       "4853  2023-11-29  138.985001  139.669998  136.294998  136.399994  136.399994   \n",
       "4854  2023-11-30  136.399994  136.960007  132.789993  133.919998  133.919998   \n",
       "4855  2023-12-01  133.320007  133.500000  132.151993  133.320007  133.320007   \n",
       "4856  2023-12-04  131.294006  131.449997  129.399994  130.630005  130.630005   \n",
       "4857  2023-12-05  130.369995  133.539993  129.729996  132.389999  132.389999   \n",
       "\n",
       "        Volume  \n",
       "4853  21014700  \n",
       "4854  29913500  \n",
       "4855  24258400  \n",
       "4856  24117100  \n",
       "4857  19216500  "
>>>>>>> 00e3d2c (Add streamlit stock prediction app)
      ]
     },
     "execution_count": 4,
     "metadata": {},
     "output_type": "execute_result"
    }
   ],
   "source": [
    "df.tail()"
   ]
  },
  {
   "cell_type": "code",
<<<<<<< HEAD
   "execution_count": 5,
=======
   "execution_count": 14,
>>>>>>> 00e3d2c (Add streamlit stock prediction app)
   "metadata": {},
   "outputs": [
    {
     "data": {
      "text/plain": [
<<<<<<< HEAD
       "(6363, 6)"
      ]
     },
     "execution_count": 5,
=======
       "(4858, 7)"
      ]
     },
     "execution_count": 14,
>>>>>>> 00e3d2c (Add streamlit stock prediction app)
     "metadata": {},
     "output_type": "execute_result"
    }
   ],
   "source": [
    "df.shape"
   ]
  },
  {
   "cell_type": "code",
<<<<<<< HEAD
   "execution_count": 6,
=======
   "execution_count": 15,
>>>>>>> 00e3d2c (Add streamlit stock prediction app)
   "metadata": {},
   "outputs": [
    {
     "data": {
      "text/plain": [
<<<<<<< HEAD
       "Index(['date', '1. open', '2. high', '3. low', '4. close', '5. volume'], dtype='object')"
      ]
     },
     "execution_count": 6,
=======
       "Index(['Date', 'Open', 'High', 'Low', 'Close', 'Adj Close', 'Volume'], dtype='object')"
      ]
     },
     "execution_count": 15,
>>>>>>> 00e3d2c (Add streamlit stock prediction app)
     "metadata": {},
     "output_type": "execute_result"
    }
   ],
   "source": [
    "df.columns"
   ]
  },
  {
   "cell_type": "code",
<<<<<<< HEAD
   "execution_count": null,
   "metadata": {},
   "outputs": [
    {
     "data": {
      "text/html": [
       "<div>\n",
       "<style scoped>\n",
       "    .dataframe tbody tr th:only-of-type {\n",
       "        vertical-align: middle;\n",
       "    }\n",
       "\n",
       "    .dataframe tbody tr th {\n",
       "        vertical-align: top;\n",
       "    }\n",
       "\n",
       "    .dataframe thead th {\n",
       "        text-align: right;\n",
       "    }\n",
       "</style>\n",
       "<table border=\"1\" class=\"dataframe\">\n",
       "  <thead>\n",
       "    <tr style=\"text-align: right;\">\n",
       "      <th></th>\n",
       "      <th>Date</th>\n",
       "      <th>Open</th>\n",
       "      <th>High</th>\n",
       "      <th>Low</th>\n",
       "      <th>Close</th>\n",
       "      <th>Volume</th>\n",
       "    </tr>\n",
       "  </thead>\n",
       "  <tbody>\n",
       "    <tr>\n",
       "      <th>0</th>\n",
       "      <td>2025-02-18</td>\n",
       "      <td>244.15</td>\n",
       "      <td>245.1800</td>\n",
       "      <td>241.84</td>\n",
       "      <td>244.47</td>\n",
       "      <td>48822491.0</td>\n",
       "    </tr>\n",
       "    <tr>\n",
       "      <th>1</th>\n",
       "      <td>2025-02-14</td>\n",
       "      <td>241.25</td>\n",
       "      <td>245.5500</td>\n",
       "      <td>240.99</td>\n",
       "      <td>244.60</td>\n",
       "      <td>40896227.0</td>\n",
       "    </tr>\n",
       "    <tr>\n",
       "      <th>2</th>\n",
       "      <td>2025-02-13</td>\n",
       "      <td>236.91</td>\n",
       "      <td>242.3399</td>\n",
       "      <td>235.57</td>\n",
       "      <td>241.53</td>\n",
       "      <td>53614054.0</td>\n",
       "    </tr>\n",
       "    <tr>\n",
       "      <th>3</th>\n",
       "      <td>2025-02-12</td>\n",
       "      <td>231.20</td>\n",
       "      <td>236.9600</td>\n",
       "      <td>230.68</td>\n",
       "      <td>236.87</td>\n",
       "      <td>45243292.0</td>\n",
       "    </tr>\n",
       "    <tr>\n",
       "      <th>4</th>\n",
       "      <td>2025-02-11</td>\n",
       "      <td>228.20</td>\n",
       "      <td>235.2300</td>\n",
       "      <td>228.13</td>\n",
       "      <td>232.62</td>\n",
       "      <td>53718362.0</td>\n",
       "    </tr>\n",
       "  </tbody>\n",
       "</table>\n",
       "</div>"
      ],
      "text/plain": [
       "         Date    Open      High     Low   Close      Volume\n",
       "0  2025-02-18  244.15  245.1800  241.84  244.47  48822491.0\n",
       "1  2025-02-14  241.25  245.5500  240.99  244.60  40896227.0\n",
       "2  2025-02-13  236.91  242.3399  235.57  241.53  53614054.0\n",
       "3  2025-02-12  231.20  236.9600  230.68  236.87  45243292.0\n",
       "4  2025-02-11  228.20  235.2300  228.13  232.62  53718362.0"
      ]
     },
     "execution_count": 7,
     "metadata": {},
     "output_type": "execute_result"
=======
   "execution_count": 16,
   "metadata": {},
   "outputs": [
    {
     "ename": "ValueError",
     "evalue": "Length mismatch: Expected axis has 7 elements, new values have 6 elements",
     "output_type": "error",
     "traceback": [
      "\u001b[1;31m---------------------------------------------------------------------------\u001b[0m",
      "\u001b[1;31mValueError\u001b[0m                                Traceback (most recent call last)",
      "Cell \u001b[1;32mIn[16], line 4\u001b[0m\n\u001b[0;32m      1\u001b[0m \u001b[38;5;28;01mimport\u001b[39;00m \u001b[38;5;21;01mpandas\u001b[39;00m \u001b[38;5;28;01mas\u001b[39;00m \u001b[38;5;21;01mpd\u001b[39;00m\n\u001b[0;32m      3\u001b[0m \u001b[38;5;66;03m# Assuming 'df' is your DataFrame\u001b[39;00m\n\u001b[1;32m----> 4\u001b[0m \u001b[43mdf\u001b[49m\u001b[38;5;241;43m.\u001b[39;49m\u001b[43mcolumns\u001b[49m \u001b[38;5;241m=\u001b[39m [\u001b[38;5;124m'\u001b[39m\u001b[38;5;124mDate\u001b[39m\u001b[38;5;124m'\u001b[39m, \u001b[38;5;124m'\u001b[39m\u001b[38;5;124mOpen\u001b[39m\u001b[38;5;124m'\u001b[39m, \u001b[38;5;124m'\u001b[39m\u001b[38;5;124mHigh\u001b[39m\u001b[38;5;124m'\u001b[39m, \u001b[38;5;124m'\u001b[39m\u001b[38;5;124mLow\u001b[39m\u001b[38;5;124m'\u001b[39m, \u001b[38;5;124m'\u001b[39m\u001b[38;5;124mClose\u001b[39m\u001b[38;5;124m'\u001b[39m, \u001b[38;5;124m'\u001b[39m\u001b[38;5;124mVolume\u001b[39m\u001b[38;5;124m'\u001b[39m]\n\u001b[0;32m      5\u001b[0m df\u001b[38;5;241m.\u001b[39mhead()\n",
      "File \u001b[1;32m~\\AppData\\Local\\Programs\\Python\\Python312\\Lib\\site-packages\\pandas\\core\\generic.py:6313\u001b[0m, in \u001b[0;36mNDFrame.__setattr__\u001b[1;34m(self, name, value)\u001b[0m\n\u001b[0;32m   6311\u001b[0m \u001b[38;5;28;01mtry\u001b[39;00m:\n\u001b[0;32m   6312\u001b[0m     \u001b[38;5;28mobject\u001b[39m\u001b[38;5;241m.\u001b[39m\u001b[38;5;21m__getattribute__\u001b[39m(\u001b[38;5;28mself\u001b[39m, name)\n\u001b[1;32m-> 6313\u001b[0m     \u001b[38;5;28;01mreturn\u001b[39;00m \u001b[38;5;28;43mobject\u001b[39;49m\u001b[38;5;241;43m.\u001b[39;49m\u001b[38;5;21;43m__setattr__\u001b[39;49m\u001b[43m(\u001b[49m\u001b[38;5;28;43mself\u001b[39;49m\u001b[43m,\u001b[49m\u001b[43m \u001b[49m\u001b[43mname\u001b[49m\u001b[43m,\u001b[49m\u001b[43m \u001b[49m\u001b[43mvalue\u001b[49m\u001b[43m)\u001b[49m\n\u001b[0;32m   6314\u001b[0m \u001b[38;5;28;01mexcept\u001b[39;00m \u001b[38;5;167;01mAttributeError\u001b[39;00m:\n\u001b[0;32m   6315\u001b[0m     \u001b[38;5;28;01mpass\u001b[39;00m\n",
      "File \u001b[1;32mproperties.pyx:69\u001b[0m, in \u001b[0;36mpandas._libs.properties.AxisProperty.__set__\u001b[1;34m()\u001b[0m\n",
      "File \u001b[1;32m~\\AppData\\Local\\Programs\\Python\\Python312\\Lib\\site-packages\\pandas\\core\\generic.py:814\u001b[0m, in \u001b[0;36mNDFrame._set_axis\u001b[1;34m(self, axis, labels)\u001b[0m\n\u001b[0;32m    809\u001b[0m \u001b[38;5;250m\u001b[39m\u001b[38;5;124;03m\"\"\"\u001b[39;00m\n\u001b[0;32m    810\u001b[0m \u001b[38;5;124;03mThis is called from the cython code when we set the `index` attribute\u001b[39;00m\n\u001b[0;32m    811\u001b[0m \u001b[38;5;124;03mdirectly, e.g. `series.index = [1, 2, 3]`.\u001b[39;00m\n\u001b[0;32m    812\u001b[0m \u001b[38;5;124;03m\"\"\"\u001b[39;00m\n\u001b[0;32m    813\u001b[0m labels \u001b[38;5;241m=\u001b[39m ensure_index(labels)\n\u001b[1;32m--> 814\u001b[0m \u001b[38;5;28;43mself\u001b[39;49m\u001b[38;5;241;43m.\u001b[39;49m\u001b[43m_mgr\u001b[49m\u001b[38;5;241;43m.\u001b[39;49m\u001b[43mset_axis\u001b[49m\u001b[43m(\u001b[49m\u001b[43maxis\u001b[49m\u001b[43m,\u001b[49m\u001b[43m \u001b[49m\u001b[43mlabels\u001b[49m\u001b[43m)\u001b[49m\n\u001b[0;32m    815\u001b[0m \u001b[38;5;28mself\u001b[39m\u001b[38;5;241m.\u001b[39m_clear_item_cache()\n",
      "File \u001b[1;32m~\\AppData\\Local\\Programs\\Python\\Python312\\Lib\\site-packages\\pandas\\core\\internals\\managers.py:238\u001b[0m, in \u001b[0;36mBaseBlockManager.set_axis\u001b[1;34m(self, axis, new_labels)\u001b[0m\n\u001b[0;32m    236\u001b[0m \u001b[38;5;28;01mdef\u001b[39;00m \u001b[38;5;21mset_axis\u001b[39m(\u001b[38;5;28mself\u001b[39m, axis: AxisInt, new_labels: Index) \u001b[38;5;241m-\u001b[39m\u001b[38;5;241m>\u001b[39m \u001b[38;5;28;01mNone\u001b[39;00m:\n\u001b[0;32m    237\u001b[0m     \u001b[38;5;66;03m# Caller is responsible for ensuring we have an Index object.\u001b[39;00m\n\u001b[1;32m--> 238\u001b[0m     \u001b[38;5;28;43mself\u001b[39;49m\u001b[38;5;241;43m.\u001b[39;49m\u001b[43m_validate_set_axis\u001b[49m\u001b[43m(\u001b[49m\u001b[43maxis\u001b[49m\u001b[43m,\u001b[49m\u001b[43m \u001b[49m\u001b[43mnew_labels\u001b[49m\u001b[43m)\u001b[49m\n\u001b[0;32m    239\u001b[0m     \u001b[38;5;28mself\u001b[39m\u001b[38;5;241m.\u001b[39maxes[axis] \u001b[38;5;241m=\u001b[39m new_labels\n",
      "File \u001b[1;32m~\\AppData\\Local\\Programs\\Python\\Python312\\Lib\\site-packages\\pandas\\core\\internals\\base.py:98\u001b[0m, in \u001b[0;36mDataManager._validate_set_axis\u001b[1;34m(self, axis, new_labels)\u001b[0m\n\u001b[0;32m     95\u001b[0m     \u001b[38;5;28;01mpass\u001b[39;00m\n\u001b[0;32m     97\u001b[0m \u001b[38;5;28;01melif\u001b[39;00m new_len \u001b[38;5;241m!=\u001b[39m old_len:\n\u001b[1;32m---> 98\u001b[0m     \u001b[38;5;28;01mraise\u001b[39;00m \u001b[38;5;167;01mValueError\u001b[39;00m(\n\u001b[0;32m     99\u001b[0m         \u001b[38;5;124mf\u001b[39m\u001b[38;5;124m\"\u001b[39m\u001b[38;5;124mLength mismatch: Expected axis has \u001b[39m\u001b[38;5;132;01m{\u001b[39;00mold_len\u001b[38;5;132;01m}\u001b[39;00m\u001b[38;5;124m elements, new \u001b[39m\u001b[38;5;124m\"\u001b[39m\n\u001b[0;32m    100\u001b[0m         \u001b[38;5;124mf\u001b[39m\u001b[38;5;124m\"\u001b[39m\u001b[38;5;124mvalues have \u001b[39m\u001b[38;5;132;01m{\u001b[39;00mnew_len\u001b[38;5;132;01m}\u001b[39;00m\u001b[38;5;124m elements\u001b[39m\u001b[38;5;124m\"\u001b[39m\n\u001b[0;32m    101\u001b[0m     )\n",
      "\u001b[1;31mValueError\u001b[0m: Length mismatch: Expected axis has 7 elements, new values have 6 elements"
     ]
>>>>>>> 00e3d2c (Add streamlit stock prediction app)
    }
   ],
   "source": [
    "import pandas as pd\n",
    "\n",
    "# Assuming 'df' is your DataFrame\n",
    "df.columns = ['Date', 'Open', 'High', 'Low', 'Close', 'Volume']\n",
    "df.head()\n"
   ]
  },
  {
   "cell_type": "code",
<<<<<<< HEAD
   "execution_count": 8,
=======
   "execution_count": 20,
>>>>>>> 00e3d2c (Add streamlit stock prediction app)
   "metadata": {},
   "outputs": [
    {
     "data": {
      "text/plain": [
<<<<<<< HEAD
       "Date      0\n",
       "Open      0\n",
       "High      0\n",
       "Low       0\n",
       "Close     0\n",
       "Volume    0\n",
       "dtype: int64"
      ]
     },
     "execution_count": 8,
=======
       "Date         0\n",
       "Open         0\n",
       "High         0\n",
       "Low          0\n",
       "Close        0\n",
       "Adj Close    0\n",
       "Volume       0\n",
       "dtype: int64"
      ]
     },
     "execution_count": 20,
>>>>>>> 00e3d2c (Add streamlit stock prediction app)
     "metadata": {},
     "output_type": "execute_result"
    }
   ],
   "source": [
    "df.isnull().sum()"
   ]
  },
  {
   "cell_type": "code",
<<<<<<< HEAD
   "execution_count": 9,
=======
   "execution_count": 21,
>>>>>>> 00e3d2c (Add streamlit stock prediction app)
   "metadata": {},
   "outputs": [
    {
     "name": "stdout",
     "output_type": "stream",
     "text": [
      "Empty DataFrame\n",
<<<<<<< HEAD
      "Columns: [Date, Open, High, Low, Close, Volume]\n",
=======
      "Columns: [Date, Open, High, Low, Close, Adj Close, Volume]\n",
>>>>>>> 00e3d2c (Add streamlit stock prediction app)
      "Index: []\n"
     ]
    }
   ],
   "source": [
    "# Find duplicate rows in the DataFrame\n",
    "duplicates = df[df.duplicated()]\n",
    "print(duplicates)\n"
   ]
  },
  {
   "cell_type": "code",
<<<<<<< HEAD
   "execution_count": 10,
=======
   "execution_count": 8,
>>>>>>> 00e3d2c (Add streamlit stock prediction app)
   "metadata": {},
   "outputs": [],
   "source": [
    "df1=df.reset_index()['Close']"
   ]
  },
  {
   "cell_type": "code",
<<<<<<< HEAD
   "execution_count": 11,
=======
   "execution_count": 9,
>>>>>>> 00e3d2c (Add streamlit stock prediction app)
   "metadata": {},
   "outputs": [
    {
     "data": {
      "text/plain": [
<<<<<<< HEAD
       "0       244.47\n",
       "1       244.60\n",
       "2       241.53\n",
       "3       236.87\n",
       "4       232.62\n",
       "         ...  \n",
       "6358     88.31\n",
       "6359     83.62\n",
       "6360     81.50\n",
       "6361     80.25\n",
       "6362     77.62\n",
       "Name: Close, Length: 6363, dtype: float64"
      ]
     },
     "execution_count": 11,
=======
       "0         2.499133\n",
       "1         2.697639\n",
       "2         2.724787\n",
       "3         2.611960\n",
       "4         2.640104\n",
       "           ...    \n",
       "4853    136.399994\n",
       "4854    133.919998\n",
       "4855    133.320007\n",
       "4856    130.630005\n",
       "4857    132.389999\n",
       "Name: Close, Length: 4858, dtype: float64"
      ]
     },
     "execution_count": 9,
>>>>>>> 00e3d2c (Add streamlit stock prediction app)
     "metadata": {},
     "output_type": "execute_result"
    }
   ],
   "source": [
    "df1"
   ]
  },
  {
   "cell_type": "code",
<<<<<<< HEAD
   "execution_count": 12,
=======
   "execution_count": 10,
>>>>>>> 00e3d2c (Add streamlit stock prediction app)
   "metadata": {},
   "outputs": [
    {
     "data": {
      "text/plain": [
<<<<<<< HEAD
       "[<matplotlib.lines.Line2D at 0x21266241ee0>]"
      ]
     },
     "execution_count": 12,
=======
       "[<matplotlib.lines.Line2D at 0x261ca3f8590>]"
      ]
     },
     "execution_count": 10,
>>>>>>> 00e3d2c (Add streamlit stock prediction app)
     "metadata": {},
     "output_type": "execute_result"
    },
    {
     "data": {
<<<<<<< HEAD
      "image/png": "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",
=======
      "image/png": "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",
>>>>>>> 00e3d2c (Add streamlit stock prediction app)
      "text/plain": [
       "<Figure size 640x480 with 1 Axes>"
      ]
     },
     "metadata": {},
     "output_type": "display_data"
    }
   ],
   "source": [
    "import matplotlib.pyplot as plt\n",
    "plt.plot(df1)"
   ]
  },
  {
   "cell_type": "code",
<<<<<<< HEAD
   "execution_count": 13,
=======
   "execution_count": 11,
>>>>>>> 00e3d2c (Add streamlit stock prediction app)
   "metadata": {},
   "outputs": [],
   "source": [
    "### LSTM are sensitive to the scale of the data. so we apply MinMax scaler "
   ]
  },
  {
   "cell_type": "code",
<<<<<<< HEAD
   "execution_count": 14,
=======
   "execution_count": 12,
>>>>>>> 00e3d2c (Add streamlit stock prediction app)
   "metadata": {},
   "outputs": [],
   "source": [
    "import numpy as np"
   ]
  },
  {
   "cell_type": "code",
<<<<<<< HEAD
   "execution_count": 15,
=======
   "execution_count": 13,
>>>>>>> 00e3d2c (Add streamlit stock prediction app)
   "metadata": {},
   "outputs": [],
   "source": [
    "from sklearn.preprocessing import MinMaxScaler\n",
    "scaler=MinMaxScaler(feature_range=(0,1))\n",
    "df1=scaler.fit_transform(np.array(df1).reshape(-1,1))"
   ]
  },
  {
   "cell_type": "code",
<<<<<<< HEAD
   "execution_count": 16,
=======
   "execution_count": 14,
>>>>>>> 00e3d2c (Add streamlit stock prediction app)
   "metadata": {},
   "outputs": [
    {
     "name": "stdout",
     "output_type": "stream",
     "text": [
<<<<<<< HEAD
      "[[0.33578623]\n",
      " [0.33597492]\n",
      " [0.33151906]\n",
      " ...\n",
      " [0.09924816]\n",
      " [0.09743389]\n",
      " [0.09361665]]\n"
=======
      "[[5.54588186e-05]\n",
      " [1.39474206e-03]\n",
      " [1.57790459e-03]\n",
      " ...\n",
      " [8.82679683e-01]\n",
      " [8.64530737e-01]\n",
      " [8.76405091e-01]]\n"
>>>>>>> 00e3d2c (Add streamlit stock prediction app)
     ]
    }
   ],
   "source": [
    "print(df1)"
   ]
  },
  {
   "cell_type": "code",
<<<<<<< HEAD
   "execution_count": 17,
=======
   "execution_count": 15,
   "metadata": {},
   "outputs": [],
   "source": [
    "import pickle\n",
    "with open(\"scaler.pkl\", \"wb\") as f:\n",
    "    pickle.dump(scaler, f)"
   ]
  },
  {
   "cell_type": "code",
   "execution_count": 29,
>>>>>>> 00e3d2c (Add streamlit stock prediction app)
   "metadata": {},
   "outputs": [],
   "source": [
    "##splitting dataset into train and test split\n",
    "training_size=int(len(df1)*0.65)\n",
    "test_size=len(df1)-training_size\n",
    "train_data,test_data=df1[0:training_size,:],df1[training_size:len(df1),:1]"
   ]
  },
  {
   "cell_type": "code",
<<<<<<< HEAD
   "execution_count": 18,
=======
   "execution_count": 30,
>>>>>>> 00e3d2c (Add streamlit stock prediction app)
   "metadata": {},
   "outputs": [
    {
     "data": {
      "text/plain": [
<<<<<<< HEAD
       "(4135, 1)"
      ]
     },
     "execution_count": 18,
=======
       "(3157, 1)"
      ]
     },
     "execution_count": 30,
>>>>>>> 00e3d2c (Add streamlit stock prediction app)
     "metadata": {},
     "output_type": "execute_result"
    }
   ],
   "source": [
    "train_data\n",
    "train_data.shape"
   ]
  },
  {
   "cell_type": "code",
<<<<<<< HEAD
   "execution_count": 19,
=======
   "execution_count": 31,
>>>>>>> 00e3d2c (Add streamlit stock prediction app)
   "metadata": {},
   "outputs": [
    {
     "data": {
      "text/plain": [
<<<<<<< HEAD
       "(2228, 1)"
      ]
     },
     "execution_count": 19,
=======
       "(1701, 1)"
      ]
     },
     "execution_count": 31,
>>>>>>> 00e3d2c (Add streamlit stock prediction app)
     "metadata": {},
     "output_type": "execute_result"
    }
   ],
   "source": [
    "test_data\n",
    "test_data.shape"
   ]
  },
  {
   "cell_type": "code",
<<<<<<< HEAD
   "execution_count": 20,
=======
   "execution_count": 32,
>>>>>>> 00e3d2c (Add streamlit stock prediction app)
   "metadata": {},
   "outputs": [
    {
     "data": {
      "text/plain": [
<<<<<<< HEAD
       "(4135, 2228)"
      ]
     },
     "execution_count": 20,
=======
       "(3157, 1701)"
      ]
     },
     "execution_count": 32,
>>>>>>> 00e3d2c (Add streamlit stock prediction app)
     "metadata": {},
     "output_type": "execute_result"
    }
   ],
   "source": [
    "training_size,test_size"
   ]
  },
  {
   "cell_type": "code",
<<<<<<< HEAD
   "execution_count": 21,
=======
   "execution_count": 33,
>>>>>>> 00e3d2c (Add streamlit stock prediction app)
   "metadata": {},
   "outputs": [
    {
     "data": {
      "text/plain": [
<<<<<<< HEAD
       "array([[0.33578623],\n",
       "       [0.33597492],\n",
       "       [0.33151906],\n",
       "       ...,\n",
       "       [0.1846788 ],\n",
       "       [0.19713199],\n",
       "       [0.20251676]])"
      ]
     },
     "execution_count": 21,
=======
       "array([[5.54588186e-05],\n",
       "       [1.39474206e-03],\n",
       "       [1.57790459e-03],\n",
       "       ...,\n",
       "       [2.64954762e-01],\n",
       "       [2.63399628e-01],\n",
       "       [2.62876730e-01]])"
      ]
     },
     "execution_count": 33,
>>>>>>> 00e3d2c (Add streamlit stock prediction app)
     "metadata": {},
     "output_type": "execute_result"
    }
   ],
   "source": [
    "train_data"
   ]
  },
  {
   "cell_type": "code",
<<<<<<< HEAD
   "execution_count": 22,
=======
   "execution_count": 34,
>>>>>>> 00e3d2c (Add streamlit stock prediction app)
   "metadata": {},
   "outputs": [],
   "source": [
    "import numpy\n",
    "# convert an array of values into a dataset matrix\n",
    "def create_dataset(dataset, time_step=1):\n",
    "\tdataX, dataY = [], []\n",
    "\tfor i in range(len(dataset)-time_step-1):\n",
    "\t\ta = dataset[i:(i+time_step), 0]   ### i=0, 0,1,2,3-----99   100 \n",
    "\t\tdataX.append(a)\n",
    "\t\tdataY.append(dataset[i + time_step, 0])\n",
    "\treturn numpy.array(dataX), numpy.array(dataY)"
   ]
  },
  {
   "cell_type": "code",
<<<<<<< HEAD
   "execution_count": 23,
=======
   "execution_count": 35,
>>>>>>> 00e3d2c (Add streamlit stock prediction app)
   "metadata": {},
   "outputs": [],
   "source": [
    "# reshape into X=t,t+1,t+2,t+3 and Y=t+4\n",
    "time_step = 100\n",
    "X_train, y_train = create_dataset(train_data, time_step)\n",
    "X_test, ytest = create_dataset(test_data, time_step)"
   ]
  },
  {
   "cell_type": "code",
<<<<<<< HEAD
   "execution_count": 24,
=======
   "execution_count": 36,
>>>>>>> 00e3d2c (Add streamlit stock prediction app)
   "metadata": {},
   "outputs": [
    {
     "name": "stdout",
     "output_type": "stream",
     "text": [
<<<<<<< HEAD
      "(4034, 100)\n",
      "(4034,)\n"
=======
      "(3056, 100)\n",
      "(3056,)\n"
>>>>>>> 00e3d2c (Add streamlit stock prediction app)
     ]
    },
    {
     "data": {
      "text/plain": [
       "(None, None)"
      ]
     },
<<<<<<< HEAD
     "execution_count": 24,
=======
     "execution_count": 36,
>>>>>>> 00e3d2c (Add streamlit stock prediction app)
     "metadata": {},
     "output_type": "execute_result"
    }
   ],
   "source": [
    "print(X_train.shape), print(y_train.shape)"
   ]
  },
  {
   "cell_type": "code",
<<<<<<< HEAD
   "execution_count": 25,
=======
   "execution_count": 37,
>>>>>>> 00e3d2c (Add streamlit stock prediction app)
   "metadata": {},
   "outputs": [
    {
     "name": "stdout",
     "output_type": "stream",
     "text": [
<<<<<<< HEAD
      "(2127, 100)\n",
      "(2127,)\n"
=======
      "(1600, 100)\n",
      "(1600,)\n"
>>>>>>> 00e3d2c (Add streamlit stock prediction app)
     ]
    },
    {
     "data": {
      "text/plain": [
       "(None, None)"
      ]
     },
<<<<<<< HEAD
     "execution_count": 25,
=======
     "execution_count": 37,
>>>>>>> 00e3d2c (Add streamlit stock prediction app)
     "metadata": {},
     "output_type": "execute_result"
    }
   ],
   "source": [
    "print(X_test.shape), print(ytest.shape)"
   ]
  },
  {
   "cell_type": "code",
<<<<<<< HEAD
   "execution_count": 26,
=======
   "execution_count": 38,
>>>>>>> 00e3d2c (Add streamlit stock prediction app)
   "metadata": {},
   "outputs": [],
   "source": [
    "# reshape input to be [samples, time steps, features] which is required for LSTM\n",
    "X_train =X_train.reshape(X_train.shape[0],X_train.shape[1] , 1)\n",
    "X_test = X_test.reshape(X_test.shape[0],X_test.shape[1] , 1)"
   ]
  },
  {
   "cell_type": "code",
<<<<<<< HEAD
   "execution_count": 27,
=======
   "execution_count": 39,
>>>>>>> 00e3d2c (Add streamlit stock prediction app)
   "metadata": {},
   "outputs": [],
   "source": [
    "### Create the Stacked LSTM model\n",
    "from tensorflow.keras.models import Sequential\n",
    "from tensorflow.keras.layers import Dense\n",
    "from tensorflow.keras.layers import LSTM"
   ]
  },
  {
   "cell_type": "code",
<<<<<<< HEAD
   "execution_count": 28,
=======
   "execution_count": 40,
>>>>>>> 00e3d2c (Add streamlit stock prediction app)
   "metadata": {},
   "outputs": [
    {
     "name": "stderr",
     "output_type": "stream",
     "text": [
      "C:\\Users\\rahul\\AppData\\Local\\Programs\\Python\\Python312\\Lib\\site-packages\\keras\\src\\layers\\rnn\\rnn.py:204: UserWarning: Do not pass an `input_shape`/`input_dim` argument to a layer. When using Sequential models, prefer using an `Input(shape)` object as the first layer in the model instead.\n",
      "  super().__init__(**kwargs)\n"
     ]
    }
   ],
   "source": [
    "model=Sequential()\n",
    "model.add(LSTM(50,return_sequences=True,input_shape=(100,1)))\n",
    "model.add(LSTM(50,return_sequences=True))\n",
    "model.add(LSTM(50))\n",
    "model.add(Dense(1))\n",
    "model.compile(loss='mean_squared_error',optimizer='adam')\n"
   ]
  },
  {
   "cell_type": "code",
<<<<<<< HEAD
   "execution_count": 29,
=======
   "execution_count": 41,
>>>>>>> 00e3d2c (Add streamlit stock prediction app)
   "metadata": {},
   "outputs": [
    {
     "data": {
      "text/html": [
       "<pre style=\"white-space:pre;overflow-x:auto;line-height:normal;font-family:Menlo,'DejaVu Sans Mono',consolas,'Courier New',monospace\"><span style=\"font-weight: bold\">Model: \"sequential\"</span>\n",
       "</pre>\n"
      ],
      "text/plain": [
       "\u001b[1mModel: \"sequential\"\u001b[0m\n"
      ]
     },
     "metadata": {},
     "output_type": "display_data"
    },
    {
     "data": {
      "text/html": [
       "<pre style=\"white-space:pre;overflow-x:auto;line-height:normal;font-family:Menlo,'DejaVu Sans Mono',consolas,'Courier New',monospace\">┏━━━━━━━━━━━━━━━━━━━━━━━━━━━━━━━━━━━━━━┳━━━━━━━━━━━━━━━━━━━━━━━━━━━━━┳━━━━━━━━━━━━━━━━━┓\n",
       "┃<span style=\"font-weight: bold\"> Layer (type)                         </span>┃<span style=\"font-weight: bold\"> Output Shape                </span>┃<span style=\"font-weight: bold\">         Param # </span>┃\n",
       "┡━━━━━━━━━━━━━━━━━━━━━━━━━━━━━━━━━━━━━━╇━━━━━━━━━━━━━━━━━━━━━━━━━━━━━╇━━━━━━━━━━━━━━━━━┩\n",
       "│ lstm (<span style=\"color: #0087ff; text-decoration-color: #0087ff\">LSTM</span>)                          │ (<span style=\"color: #00d7ff; text-decoration-color: #00d7ff\">None</span>, <span style=\"color: #00af00; text-decoration-color: #00af00\">100</span>, <span style=\"color: #00af00; text-decoration-color: #00af00\">50</span>)             │          <span style=\"color: #00af00; text-decoration-color: #00af00\">10,400</span> │\n",
       "├──────────────────────────────────────┼─────────────────────────────┼─────────────────┤\n",
       "│ lstm_1 (<span style=\"color: #0087ff; text-decoration-color: #0087ff\">LSTM</span>)                        │ (<span style=\"color: #00d7ff; text-decoration-color: #00d7ff\">None</span>, <span style=\"color: #00af00; text-decoration-color: #00af00\">100</span>, <span style=\"color: #00af00; text-decoration-color: #00af00\">50</span>)             │          <span style=\"color: #00af00; text-decoration-color: #00af00\">20,200</span> │\n",
       "├──────────────────────────────────────┼─────────────────────────────┼─────────────────┤\n",
       "│ lstm_2 (<span style=\"color: #0087ff; text-decoration-color: #0087ff\">LSTM</span>)                        │ (<span style=\"color: #00d7ff; text-decoration-color: #00d7ff\">None</span>, <span style=\"color: #00af00; text-decoration-color: #00af00\">50</span>)                  │          <span style=\"color: #00af00; text-decoration-color: #00af00\">20,200</span> │\n",
       "├──────────────────────────────────────┼─────────────────────────────┼─────────────────┤\n",
       "│ dense (<span style=\"color: #0087ff; text-decoration-color: #0087ff\">Dense</span>)                        │ (<span style=\"color: #00d7ff; text-decoration-color: #00d7ff\">None</span>, <span style=\"color: #00af00; text-decoration-color: #00af00\">1</span>)                   │              <span style=\"color: #00af00; text-decoration-color: #00af00\">51</span> │\n",
       "└──────────────────────────────────────┴─────────────────────────────┴─────────────────┘\n",
       "</pre>\n"
      ],
      "text/plain": [
       "┏━━━━━━━━━━━━━━━━━━━━━━━━━━━━━━━━━━━━━━┳━━━━━━━━━━━━━━━━━━━━━━━━━━━━━┳━━━━━━━━━━━━━━━━━┓\n",
       "┃\u001b[1m \u001b[0m\u001b[1mLayer (type)                        \u001b[0m\u001b[1m \u001b[0m┃\u001b[1m \u001b[0m\u001b[1mOutput Shape               \u001b[0m\u001b[1m \u001b[0m┃\u001b[1m \u001b[0m\u001b[1m        Param #\u001b[0m\u001b[1m \u001b[0m┃\n",
       "┡━━━━━━━━━━━━━━━━━━━━━━━━━━━━━━━━━━━━━━╇━━━━━━━━━━━━━━━━━━━━━━━━━━━━━╇━━━━━━━━━━━━━━━━━┩\n",
       "│ lstm (\u001b[38;5;33mLSTM\u001b[0m)                          │ (\u001b[38;5;45mNone\u001b[0m, \u001b[38;5;34m100\u001b[0m, \u001b[38;5;34m50\u001b[0m)             │          \u001b[38;5;34m10,400\u001b[0m │\n",
       "├──────────────────────────────────────┼─────────────────────────────┼─────────────────┤\n",
       "│ lstm_1 (\u001b[38;5;33mLSTM\u001b[0m)                        │ (\u001b[38;5;45mNone\u001b[0m, \u001b[38;5;34m100\u001b[0m, \u001b[38;5;34m50\u001b[0m)             │          \u001b[38;5;34m20,200\u001b[0m │\n",
       "├──────────────────────────────────────┼─────────────────────────────┼─────────────────┤\n",
       "│ lstm_2 (\u001b[38;5;33mLSTM\u001b[0m)                        │ (\u001b[38;5;45mNone\u001b[0m, \u001b[38;5;34m50\u001b[0m)                  │          \u001b[38;5;34m20,200\u001b[0m │\n",
       "├──────────────────────────────────────┼─────────────────────────────┼─────────────────┤\n",
       "│ dense (\u001b[38;5;33mDense\u001b[0m)                        │ (\u001b[38;5;45mNone\u001b[0m, \u001b[38;5;34m1\u001b[0m)                   │              \u001b[38;5;34m51\u001b[0m │\n",
       "└──────────────────────────────────────┴─────────────────────────────┴─────────────────┘\n"
      ]
     },
     "metadata": {},
     "output_type": "display_data"
    },
    {
     "data": {
      "text/html": [
       "<pre style=\"white-space:pre;overflow-x:auto;line-height:normal;font-family:Menlo,'DejaVu Sans Mono',consolas,'Courier New',monospace\"><span style=\"font-weight: bold\"> Total params: </span><span style=\"color: #00af00; text-decoration-color: #00af00\">50,851</span> (198.64 KB)\n",
       "</pre>\n"
      ],
      "text/plain": [
       "\u001b[1m Total params: \u001b[0m\u001b[38;5;34m50,851\u001b[0m (198.64 KB)\n"
      ]
     },
     "metadata": {},
     "output_type": "display_data"
    },
    {
     "data": {
      "text/html": [
       "<pre style=\"white-space:pre;overflow-x:auto;line-height:normal;font-family:Menlo,'DejaVu Sans Mono',consolas,'Courier New',monospace\"><span style=\"font-weight: bold\"> Trainable params: </span><span style=\"color: #00af00; text-decoration-color: #00af00\">50,851</span> (198.64 KB)\n",
       "</pre>\n"
      ],
      "text/plain": [
       "\u001b[1m Trainable params: \u001b[0m\u001b[38;5;34m50,851\u001b[0m (198.64 KB)\n"
      ]
     },
     "metadata": {},
     "output_type": "display_data"
    },
    {
     "data": {
      "text/html": [
       "<pre style=\"white-space:pre;overflow-x:auto;line-height:normal;font-family:Menlo,'DejaVu Sans Mono',consolas,'Courier New',monospace\"><span style=\"font-weight: bold\"> Non-trainable params: </span><span style=\"color: #00af00; text-decoration-color: #00af00\">0</span> (0.00 B)\n",
       "</pre>\n"
      ],
      "text/plain": [
       "\u001b[1m Non-trainable params: \u001b[0m\u001b[38;5;34m0\u001b[0m (0.00 B)\n"
      ]
     },
     "metadata": {},
     "output_type": "display_data"
    }
   ],
   "source": [
    "model.summary()"
   ]
  },
  {
   "cell_type": "code",
   "execution_count": null,
   "metadata": {},
   "outputs": [],
   "source": []
  },
  {
   "cell_type": "code",
<<<<<<< HEAD
   "execution_count": 30,
=======
   "execution_count": 42,
>>>>>>> 00e3d2c (Add streamlit stock prediction app)
   "metadata": {},
   "outputs": [
    {
     "name": "stdout",
     "output_type": "stream",
     "text": [
      "Epoch 1/100\n",
<<<<<<< HEAD
      "\u001b[1m64/64\u001b[0m \u001b[32m━━━━━━━━━━━━━━━━━━━━\u001b[0m\u001b[37m\u001b[0m \u001b[1m8s\u001b[0m 79ms/step - loss: 0.0439 - val_loss: 7.2292e-04\n",
      "Epoch 2/100\n",
      "\u001b[1m64/64\u001b[0m \u001b[32m━━━━━━━━━━━━━━━━━━━━\u001b[0m\u001b[37m\u001b[0m \u001b[1m5s\u001b[0m 72ms/step - loss: 0.0015 - val_loss: 7.8013e-04\n",
      "Epoch 3/100\n",
      "\u001b[1m64/64\u001b[0m \u001b[32m━━━━━━━━━━━━━━━━━━━━\u001b[0m\u001b[37m\u001b[0m \u001b[1m5s\u001b[0m 73ms/step - loss: 0.0021 - val_loss: 6.1969e-04\n",
      "Epoch 4/100\n",
      "\u001b[1m64/64\u001b[0m \u001b[32m━━━━━━━━━━━━━━━━━━━━\u001b[0m\u001b[37m\u001b[0m \u001b[1m5s\u001b[0m 74ms/step - loss: 0.0017 - val_loss: 5.0970e-04\n",
      "Epoch 5/100\n",
      "\u001b[1m64/64\u001b[0m \u001b[32m━━━━━━━━━━━━━━━━━━━━\u001b[0m\u001b[37m\u001b[0m \u001b[1m5s\u001b[0m 74ms/step - loss: 0.0021 - val_loss: 2.3934e-04\n",
      "Epoch 6/100\n",
      "\u001b[1m64/64\u001b[0m \u001b[32m━━━━━━━━━━━━━━━━━━━━\u001b[0m\u001b[37m\u001b[0m \u001b[1m5s\u001b[0m 75ms/step - loss: 0.0014 - val_loss: 2.5693e-04\n",
      "Epoch 7/100\n",
      "\u001b[1m64/64\u001b[0m \u001b[32m━━━━━━━━━━━━━━━━━━━━\u001b[0m\u001b[37m\u001b[0m \u001b[1m5s\u001b[0m 74ms/step - loss: 0.0014 - val_loss: 1.9593e-04\n",
      "Epoch 8/100\n",
      "\u001b[1m64/64\u001b[0m \u001b[32m━━━━━━━━━━━━━━━━━━━━\u001b[0m\u001b[37m\u001b[0m \u001b[1m5s\u001b[0m 74ms/step - loss: 0.0015 - val_loss: 2.2552e-04\n",
      "Epoch 9/100\n",
      "\u001b[1m64/64\u001b[0m \u001b[32m━━━━━━━━━━━━━━━━━━━━\u001b[0m\u001b[37m\u001b[0m \u001b[1m5s\u001b[0m 74ms/step - loss: 9.9162e-04 - val_loss: 3.2866e-04\n",
      "Epoch 10/100\n",
      "\u001b[1m64/64\u001b[0m \u001b[32m━━━━━━━━━━━━━━━━━━━━\u001b[0m\u001b[37m\u001b[0m \u001b[1m5s\u001b[0m 75ms/step - loss: 7.9498e-04 - val_loss: 1.9850e-04\n",
      "Epoch 11/100\n",
      "\u001b[1m64/64\u001b[0m \u001b[32m━━━━━━━━━━━━━━━━━━━━\u001b[0m\u001b[37m\u001b[0m \u001b[1m5s\u001b[0m 75ms/step - loss: 0.0010 - val_loss: 1.7625e-04\n",
      "Epoch 12/100\n",
      "\u001b[1m64/64\u001b[0m \u001b[32m━━━━━━━━━━━━━━━━━━━━\u001b[0m\u001b[37m\u001b[0m \u001b[1m5s\u001b[0m 75ms/step - loss: 6.1569e-04 - val_loss: 3.4600e-04\n",
      "Epoch 13/100\n",
      "\u001b[1m64/64\u001b[0m \u001b[32m━━━━━━━━━━━━━━━━━━━━\u001b[0m\u001b[37m\u001b[0m \u001b[1m5s\u001b[0m 75ms/step - loss: 7.1523e-04 - val_loss: 3.0221e-04\n",
      "Epoch 14/100\n",
      "\u001b[1m64/64\u001b[0m \u001b[32m━━━━━━━━━━━━━━━━━━━━\u001b[0m\u001b[37m\u001b[0m \u001b[1m5s\u001b[0m 76ms/step - loss: 8.0585e-04 - val_loss: 2.4959e-04\n",
      "Epoch 15/100\n",
      "\u001b[1m64/64\u001b[0m \u001b[32m━━━━━━━━━━━━━━━━━━━━\u001b[0m\u001b[37m\u001b[0m \u001b[1m5s\u001b[0m 75ms/step - loss: 6.7566e-04 - val_loss: 1.1925e-04\n",
      "Epoch 16/100\n",
      "\u001b[1m64/64\u001b[0m \u001b[32m━━━━━━━━━━━━━━━━━━━━\u001b[0m\u001b[37m\u001b[0m \u001b[1m5s\u001b[0m 75ms/step - loss: 9.4221e-04 - val_loss: 1.4173e-04\n",
      "Epoch 17/100\n",
      "\u001b[1m64/64\u001b[0m \u001b[32m━━━━━━━━━━━━━━━━━━━━\u001b[0m\u001b[37m\u001b[0m \u001b[1m5s\u001b[0m 74ms/step - loss: 6.3107e-04 - val_loss: 8.7263e-05\n",
      "Epoch 18/100\n",
      "\u001b[1m64/64\u001b[0m \u001b[32m━━━━━━━━━━━━━━━━━━━━\u001b[0m\u001b[37m\u001b[0m \u001b[1m5s\u001b[0m 76ms/step - loss: 6.1009e-04 - val_loss: 1.2949e-04\n",
      "Epoch 19/100\n",
      "\u001b[1m64/64\u001b[0m \u001b[32m━━━━━━━━━━━━━━━━━━━━\u001b[0m\u001b[37m\u001b[0m \u001b[1m5s\u001b[0m 73ms/step - loss: 5.5170e-04 - val_loss: 9.1686e-05\n",
      "Epoch 20/100\n",
      "\u001b[1m64/64\u001b[0m \u001b[32m━━━━━━━━━━━━━━━━━━━━\u001b[0m\u001b[37m\u001b[0m \u001b[1m5s\u001b[0m 75ms/step - loss: 4.2651e-04 - val_loss: 2.3607e-04\n",
      "Epoch 21/100\n",
      "\u001b[1m64/64\u001b[0m \u001b[32m━━━━━━━━━━━━━━━━━━━━\u001b[0m\u001b[37m\u001b[0m \u001b[1m5s\u001b[0m 73ms/step - loss: 6.4320e-04 - val_loss: 6.6217e-05\n",
      "Epoch 22/100\n",
      "\u001b[1m64/64\u001b[0m \u001b[32m━━━━━━━━━━━━━━━━━━━━\u001b[0m\u001b[37m\u001b[0m \u001b[1m5s\u001b[0m 74ms/step - loss: 2.9969e-04 - val_loss: 2.2843e-04\n",
      "Epoch 23/100\n",
      "\u001b[1m64/64\u001b[0m \u001b[32m━━━━━━━━━━━━━━━━━━━━\u001b[0m\u001b[37m\u001b[0m \u001b[1m5s\u001b[0m 75ms/step - loss: 3.0819e-04 - val_loss: 6.1534e-05\n",
      "Epoch 24/100\n",
      "\u001b[1m64/64\u001b[0m \u001b[32m━━━━━━━━━━━━━━━━━━━━\u001b[0m\u001b[37m\u001b[0m \u001b[1m5s\u001b[0m 76ms/step - loss: 5.5770e-04 - val_loss: 1.6724e-04\n",
      "Epoch 25/100\n",
      "\u001b[1m64/64\u001b[0m \u001b[32m━━━━━━━━━━━━━━━━━━━━\u001b[0m\u001b[37m\u001b[0m \u001b[1m5s\u001b[0m 83ms/step - loss: 5.3529e-04 - val_loss: 1.3079e-04\n",
      "Epoch 26/100\n",
      "\u001b[1m64/64\u001b[0m \u001b[32m━━━━━━━━━━━━━━━━━━━━\u001b[0m\u001b[37m\u001b[0m \u001b[1m6s\u001b[0m 88ms/step - loss: 5.4856e-04 - val_loss: 5.3830e-05\n",
      "Epoch 27/100\n",
      "\u001b[1m64/64\u001b[0m \u001b[32m━━━━━━━━━━━━━━━━━━━━\u001b[0m\u001b[37m\u001b[0m \u001b[1m6s\u001b[0m 87ms/step - loss: 3.3046e-04 - val_loss: 7.6609e-05\n",
      "Epoch 28/100\n",
      "\u001b[1m64/64\u001b[0m \u001b[32m━━━━━━━━━━━━━━━━━━━━\u001b[0m\u001b[37m\u001b[0m \u001b[1m6s\u001b[0m 87ms/step - loss: 4.8726e-04 - val_loss: 4.0462e-05\n",
      "Epoch 29/100\n",
      "\u001b[1m64/64\u001b[0m \u001b[32m━━━━━━━━━━━━━━━━━━━━\u001b[0m\u001b[37m\u001b[0m \u001b[1m5s\u001b[0m 86ms/step - loss: 7.2801e-04 - val_loss: 1.7590e-04\n",
      "Epoch 30/100\n",
      "\u001b[1m64/64\u001b[0m \u001b[32m━━━━━━━━━━━━━━━━━━━━\u001b[0m\u001b[37m\u001b[0m \u001b[1m6s\u001b[0m 87ms/step - loss: 5.1024e-04 - val_loss: 4.9402e-05\n",
      "Epoch 31/100\n",
      "\u001b[1m64/64\u001b[0m \u001b[32m━━━━━━━━━━━━━━━━━━━━\u001b[0m\u001b[37m\u001b[0m \u001b[1m6s\u001b[0m 86ms/step - loss: 5.2873e-04 - val_loss: 4.9080e-05\n",
      "Epoch 32/100\n",
      "\u001b[1m64/64\u001b[0m \u001b[32m━━━━━━━━━━━━━━━━━━━━\u001b[0m\u001b[37m\u001b[0m \u001b[1m5s\u001b[0m 86ms/step - loss: 2.5992e-04 - val_loss: 4.6060e-05\n",
      "Epoch 33/100\n",
      "\u001b[1m64/64\u001b[0m \u001b[32m━━━━━━━━━━━━━━━━━━━━\u001b[0m\u001b[37m\u001b[0m \u001b[1m6s\u001b[0m 88ms/step - loss: 3.6860e-04 - val_loss: 5.8040e-05\n",
      "Epoch 34/100\n",
      "\u001b[1m64/64\u001b[0m \u001b[32m━━━━━━━━━━━━━━━━━━━━\u001b[0m\u001b[37m\u001b[0m \u001b[1m6s\u001b[0m 87ms/step - loss: 4.4125e-04 - val_loss: 3.9408e-05\n",
      "Epoch 35/100\n",
      "\u001b[1m64/64\u001b[0m \u001b[32m━━━━━━━━━━━━━━━━━━━━\u001b[0m\u001b[37m\u001b[0m \u001b[1m6s\u001b[0m 87ms/step - loss: 2.7887e-04 - val_loss: 2.4428e-04\n",
      "Epoch 36/100\n",
      "\u001b[1m64/64\u001b[0m \u001b[32m━━━━━━━━━━━━━━━━━━━━\u001b[0m\u001b[37m\u001b[0m \u001b[1m5s\u001b[0m 85ms/step - loss: 4.0169e-04 - val_loss: 4.0390e-05\n",
      "Epoch 37/100\n",
      "\u001b[1m64/64\u001b[0m \u001b[32m━━━━━━━━━━━━━━━━━━━━\u001b[0m\u001b[37m\u001b[0m \u001b[1m6s\u001b[0m 86ms/step - loss: 2.3066e-04 - val_loss: 5.7159e-05\n",
      "Epoch 38/100\n",
      "\u001b[1m64/64\u001b[0m \u001b[32m━━━━━━━━━━━━━━━━━━━━\u001b[0m\u001b[37m\u001b[0m \u001b[1m6s\u001b[0m 86ms/step - loss: 6.4748e-04 - val_loss: 1.1526e-04\n",
      "Epoch 39/100\n",
      "\u001b[1m64/64\u001b[0m \u001b[32m━━━━━━━━━━━━━━━━━━━━\u001b[0m\u001b[37m\u001b[0m \u001b[1m5s\u001b[0m 86ms/step - loss: 2.4658e-04 - val_loss: 1.4295e-04\n",
      "Epoch 40/100\n",
      "\u001b[1m64/64\u001b[0m \u001b[32m━━━━━━━━━━━━━━━━━━━━\u001b[0m\u001b[37m\u001b[0m \u001b[1m6s\u001b[0m 87ms/step - loss: 1.8954e-04 - val_loss: 7.8185e-05\n",
      "Epoch 41/100\n",
      "\u001b[1m64/64\u001b[0m \u001b[32m━━━━━━━━━━━━━━━━━━━━\u001b[0m\u001b[37m\u001b[0m \u001b[1m5s\u001b[0m 85ms/step - loss: 1.5532e-04 - val_loss: 1.3102e-04\n",
      "Epoch 42/100\n",
      "\u001b[1m64/64\u001b[0m \u001b[32m━━━━━━━━━━━━━━━━━━━━\u001b[0m\u001b[37m\u001b[0m \u001b[1m5s\u001b[0m 81ms/step - loss: 2.3843e-04 - val_loss: 5.3231e-05\n",
      "Epoch 43/100\n",
      "\u001b[1m64/64\u001b[0m \u001b[32m━━━━━━━━━━━━━━━━━━━━\u001b[0m\u001b[37m\u001b[0m \u001b[1m5s\u001b[0m 77ms/step - loss: 7.8412e-04 - val_loss: 4.5812e-05\n",
      "Epoch 44/100\n",
      "\u001b[1m64/64\u001b[0m \u001b[32m━━━━━━━━━━━━━━━━━━━━\u001b[0m\u001b[37m\u001b[0m \u001b[1m5s\u001b[0m 75ms/step - loss: 2.0891e-04 - val_loss: 1.7247e-04\n",
      "Epoch 45/100\n",
      "\u001b[1m64/64\u001b[0m \u001b[32m━━━━━━━━━━━━━━━━━━━━\u001b[0m\u001b[37m\u001b[0m \u001b[1m5s\u001b[0m 80ms/step - loss: 5.3453e-04 - val_loss: 4.6195e-05\n",
      "Epoch 46/100\n",
      "\u001b[1m64/64\u001b[0m \u001b[32m━━━━━━━━━━━━━━━━━━━━\u001b[0m\u001b[37m\u001b[0m \u001b[1m5s\u001b[0m 83ms/step - loss: 2.5343e-04 - val_loss: 4.0744e-05\n",
      "Epoch 47/100\n",
      "\u001b[1m64/64\u001b[0m \u001b[32m━━━━━━━━━━━━━━━━━━━━\u001b[0m\u001b[37m\u001b[0m \u001b[1m6s\u001b[0m 89ms/step - loss: 5.0514e-04 - val_loss: 6.4106e-05\n",
      "Epoch 48/100\n",
      "\u001b[1m64/64\u001b[0m \u001b[32m━━━━━━━━━━━━━━━━━━━━\u001b[0m\u001b[37m\u001b[0m \u001b[1m6s\u001b[0m 88ms/step - loss: 2.9488e-04 - val_loss: 1.9251e-05\n",
      "Epoch 49/100\n",
      "\u001b[1m64/64\u001b[0m \u001b[32m━━━━━━━━━━━━━━━━━━━━\u001b[0m\u001b[37m\u001b[0m \u001b[1m6s\u001b[0m 86ms/step - loss: 3.3764e-04 - val_loss: 8.6583e-05\n",
      "Epoch 50/100\n",
      "\u001b[1m64/64\u001b[0m \u001b[32m━━━━━━━━━━━━━━━━━━━━\u001b[0m\u001b[37m\u001b[0m \u001b[1m5s\u001b[0m 79ms/step - loss: 2.9784e-04 - val_loss: 6.1169e-05\n",
      "Epoch 51/100\n",
      "\u001b[1m64/64\u001b[0m \u001b[32m━━━━━━━━━━━━━━━━━━━━\u001b[0m\u001b[37m\u001b[0m \u001b[1m5s\u001b[0m 81ms/step - loss: 1.5271e-04 - val_loss: 4.7759e-05\n",
      "Epoch 52/100\n",
      "\u001b[1m64/64\u001b[0m \u001b[32m━━━━━━━━━━━━━━━━━━━━\u001b[0m\u001b[37m\u001b[0m \u001b[1m6s\u001b[0m 88ms/step - loss: 1.9399e-04 - val_loss: 1.2662e-04\n",
      "Epoch 53/100\n",
      "\u001b[1m64/64\u001b[0m \u001b[32m━━━━━━━━━━━━━━━━━━━━\u001b[0m\u001b[37m\u001b[0m \u001b[1m6s\u001b[0m 86ms/step - loss: 4.4829e-04 - val_loss: 7.2972e-05\n",
      "Epoch 54/100\n",
      "\u001b[1m64/64\u001b[0m \u001b[32m━━━━━━━━━━━━━━━━━━━━\u001b[0m\u001b[37m\u001b[0m \u001b[1m6s\u001b[0m 87ms/step - loss: 2.3945e-04 - val_loss: 4.1223e-05\n",
      "Epoch 55/100\n",
      "\u001b[1m64/64\u001b[0m \u001b[32m━━━━━━━━━━━━━━━━━━━━\u001b[0m\u001b[37m\u001b[0m \u001b[1m5s\u001b[0m 86ms/step - loss: 1.8177e-04 - val_loss: 2.9749e-05\n",
      "Epoch 56/100\n",
      "\u001b[1m64/64\u001b[0m \u001b[32m━━━━━━━━━━━━━━━━━━━━\u001b[0m\u001b[37m\u001b[0m \u001b[1m6s\u001b[0m 86ms/step - loss: 3.0149e-04 - val_loss: 8.3460e-05\n",
      "Epoch 57/100\n",
      "\u001b[1m64/64\u001b[0m \u001b[32m━━━━━━━━━━━━━━━━━━━━\u001b[0m\u001b[37m\u001b[0m \u001b[1m6s\u001b[0m 87ms/step - loss: 2.6796e-04 - val_loss: 3.0032e-05\n",
      "Epoch 58/100\n",
      "\u001b[1m64/64\u001b[0m \u001b[32m━━━━━━━━━━━━━━━━━━━━\u001b[0m\u001b[37m\u001b[0m \u001b[1m6s\u001b[0m 88ms/step - loss: 1.0231e-04 - val_loss: 1.5810e-04\n",
      "Epoch 59/100\n",
      "\u001b[1m64/64\u001b[0m \u001b[32m━━━━━━━━━━━━━━━━━━━━\u001b[0m\u001b[37m\u001b[0m \u001b[1m6s\u001b[0m 87ms/step - loss: 1.4156e-04 - val_loss: 1.7497e-04\n",
      "Epoch 60/100\n",
      "\u001b[1m64/64\u001b[0m \u001b[32m━━━━━━━━━━━━━━━━━━━━\u001b[0m\u001b[37m\u001b[0m \u001b[1m6s\u001b[0m 87ms/step - loss: 4.8035e-04 - val_loss: 4.5044e-05\n",
      "Epoch 61/100\n",
      "\u001b[1m64/64\u001b[0m \u001b[32m━━━━━━━━━━━━━━━━━━━━\u001b[0m\u001b[37m\u001b[0m \u001b[1m6s\u001b[0m 87ms/step - loss: 1.6983e-04 - val_loss: 5.8669e-05\n",
      "Epoch 62/100\n",
      "\u001b[1m64/64\u001b[0m \u001b[32m━━━━━━━━━━━━━━━━━━━━\u001b[0m\u001b[37m\u001b[0m \u001b[1m6s\u001b[0m 87ms/step - loss: 3.3349e-04 - val_loss: 7.9472e-05\n",
      "Epoch 63/100\n",
      "\u001b[1m64/64\u001b[0m \u001b[32m━━━━━━━━━━━━━━━━━━━━\u001b[0m\u001b[37m\u001b[0m \u001b[1m6s\u001b[0m 87ms/step - loss: 1.6207e-04 - val_loss: 7.8743e-05\n",
      "Epoch 64/100\n",
      "\u001b[1m64/64\u001b[0m \u001b[32m━━━━━━━━━━━━━━━━━━━━\u001b[0m\u001b[37m\u001b[0m \u001b[1m6s\u001b[0m 87ms/step - loss: 2.9539e-04 - val_loss: 6.5856e-05\n",
      "Epoch 65/100\n",
      "\u001b[1m64/64\u001b[0m \u001b[32m━━━━━━━━━━━━━━━━━━━━\u001b[0m\u001b[37m\u001b[0m \u001b[1m5s\u001b[0m 81ms/step - loss: 4.7810e-04 - val_loss: 4.9410e-05\n",
      "Epoch 66/100\n",
      "\u001b[1m64/64\u001b[0m \u001b[32m━━━━━━━━━━━━━━━━━━━━\u001b[0m\u001b[37m\u001b[0m \u001b[1m5s\u001b[0m 76ms/step - loss: 2.7003e-04 - val_loss: 3.1674e-05\n",
      "Epoch 67/100\n",
      "\u001b[1m64/64\u001b[0m \u001b[32m━━━━━━━━━━━━━━━━━━━━\u001b[0m\u001b[37m\u001b[0m \u001b[1m5s\u001b[0m 75ms/step - loss: 1.3839e-04 - val_loss: 1.1886e-04\n",
      "Epoch 68/100\n",
      "\u001b[1m64/64\u001b[0m \u001b[32m━━━━━━━━━━━━━━━━━━━━\u001b[0m\u001b[37m\u001b[0m \u001b[1m5s\u001b[0m 85ms/step - loss: 2.6190e-04 - val_loss: 3.1075e-04\n",
      "Epoch 69/100\n",
      "\u001b[1m64/64\u001b[0m \u001b[32m━━━━━━━━━━━━━━━━━━━━\u001b[0m\u001b[37m\u001b[0m \u001b[1m5s\u001b[0m 78ms/step - loss: 3.3525e-04 - val_loss: 9.1412e-05\n",
      "Epoch 70/100\n",
      "\u001b[1m64/64\u001b[0m \u001b[32m━━━━━━━━━━━━━━━━━━━━\u001b[0m\u001b[37m\u001b[0m \u001b[1m5s\u001b[0m 79ms/step - loss: 2.2442e-04 - val_loss: 2.9434e-05\n",
      "Epoch 71/100\n",
      "\u001b[1m64/64\u001b[0m \u001b[32m━━━━━━━━━━━━━━━━━━━━\u001b[0m\u001b[37m\u001b[0m \u001b[1m5s\u001b[0m 79ms/step - loss: 1.6109e-04 - val_loss: 1.4587e-04\n",
      "Epoch 72/100\n",
      "\u001b[1m64/64\u001b[0m \u001b[32m━━━━━━━━━━━━━━━━━━━━\u001b[0m\u001b[37m\u001b[0m \u001b[1m5s\u001b[0m 78ms/step - loss: 6.1681e-04 - val_loss: 3.5922e-05\n",
      "Epoch 73/100\n",
      "\u001b[1m64/64\u001b[0m \u001b[32m━━━━━━━━━━━━━━━━━━━━\u001b[0m\u001b[37m\u001b[0m \u001b[1m5s\u001b[0m 76ms/step - loss: 2.0949e-04 - val_loss: 1.4644e-04\n",
      "Epoch 74/100\n",
      "\u001b[1m64/64\u001b[0m \u001b[32m━━━━━━━━━━━━━━━━━━━━\u001b[0m\u001b[37m\u001b[0m \u001b[1m5s\u001b[0m 78ms/step - loss: 1.6414e-04 - val_loss: 1.0987e-04\n",
      "Epoch 75/100\n",
      "\u001b[1m64/64\u001b[0m \u001b[32m━━━━━━━━━━━━━━━━━━━━\u001b[0m\u001b[37m\u001b[0m \u001b[1m5s\u001b[0m 77ms/step - loss: 2.5891e-04 - val_loss: 3.5057e-05\n",
      "Epoch 76/100\n",
      "\u001b[1m64/64\u001b[0m \u001b[32m━━━━━━━━━━━━━━━━━━━━\u001b[0m\u001b[37m\u001b[0m \u001b[1m5s\u001b[0m 77ms/step - loss: 3.1428e-04 - val_loss: 2.3803e-05\n",
      "Epoch 77/100\n",
      "\u001b[1m64/64\u001b[0m \u001b[32m━━━━━━━━━━━━━━━━━━━━\u001b[0m\u001b[37m\u001b[0m \u001b[1m5s\u001b[0m 77ms/step - loss: 3.0656e-04 - val_loss: 4.4744e-05\n",
      "Epoch 78/100\n",
      "\u001b[1m64/64\u001b[0m \u001b[32m━━━━━━━━━━━━━━━━━━━━\u001b[0m\u001b[37m\u001b[0m \u001b[1m5s\u001b[0m 77ms/step - loss: 4.3855e-04 - val_loss: 8.6321e-05\n",
      "Epoch 79/100\n",
      "\u001b[1m64/64\u001b[0m \u001b[32m━━━━━━━━━━━━━━━━━━━━\u001b[0m\u001b[37m\u001b[0m \u001b[1m5s\u001b[0m 79ms/step - loss: 4.2330e-04 - val_loss: 5.1526e-05\n",
      "Epoch 80/100\n",
      "\u001b[1m64/64\u001b[0m \u001b[32m━━━━━━━━━━━━━━━━━━━━\u001b[0m\u001b[37m\u001b[0m \u001b[1m5s\u001b[0m 78ms/step - loss: 1.6928e-04 - val_loss: 3.8209e-05\n",
      "Epoch 81/100\n",
      "\u001b[1m64/64\u001b[0m \u001b[32m━━━━━━━━━━━━━━━━━━━━\u001b[0m\u001b[37m\u001b[0m \u001b[1m5s\u001b[0m 77ms/step - loss: 2.1044e-04 - val_loss: 1.6871e-04\n",
      "Epoch 82/100\n",
      "\u001b[1m64/64\u001b[0m \u001b[32m━━━━━━━━━━━━━━━━━━━━\u001b[0m\u001b[37m\u001b[0m \u001b[1m5s\u001b[0m 77ms/step - loss: 2.9319e-04 - val_loss: 9.8664e-05\n",
      "Epoch 83/100\n",
      "\u001b[1m64/64\u001b[0m \u001b[32m━━━━━━━━━━━━━━━━━━━━\u001b[0m\u001b[37m\u001b[0m \u001b[1m5s\u001b[0m 77ms/step - loss: 4.0504e-04 - val_loss: 1.7403e-04\n",
      "Epoch 84/100\n",
      "\u001b[1m64/64\u001b[0m \u001b[32m━━━━━━━━━━━━━━━━━━━━\u001b[0m\u001b[37m\u001b[0m \u001b[1m5s\u001b[0m 77ms/step - loss: 2.1459e-04 - val_loss: 3.6191e-05\n",
      "Epoch 85/100\n",
      "\u001b[1m64/64\u001b[0m \u001b[32m━━━━━━━━━━━━━━━━━━━━\u001b[0m\u001b[37m\u001b[0m \u001b[1m5s\u001b[0m 79ms/step - loss: 2.7436e-04 - val_loss: 6.4901e-05\n",
      "Epoch 86/100\n",
      "\u001b[1m64/64\u001b[0m \u001b[32m━━━━━━━━━━━━━━━━━━━━\u001b[0m\u001b[37m\u001b[0m \u001b[1m5s\u001b[0m 78ms/step - loss: 3.8002e-04 - val_loss: 4.9570e-05\n",
      "Epoch 87/100\n",
      "\u001b[1m64/64\u001b[0m \u001b[32m━━━━━━━━━━━━━━━━━━━━\u001b[0m\u001b[37m\u001b[0m \u001b[1m5s\u001b[0m 78ms/step - loss: 1.7991e-04 - val_loss: 6.7657e-05\n",
      "Epoch 88/100\n",
      "\u001b[1m64/64\u001b[0m \u001b[32m━━━━━━━━━━━━━━━━━━━━\u001b[0m\u001b[37m\u001b[0m \u001b[1m5s\u001b[0m 79ms/step - loss: 1.0461e-04 - val_loss: 2.5890e-04\n",
      "Epoch 89/100\n",
      "\u001b[1m64/64\u001b[0m \u001b[32m━━━━━━━━━━━━━━━━━━━━\u001b[0m\u001b[37m\u001b[0m \u001b[1m5s\u001b[0m 78ms/step - loss: 2.5485e-04 - val_loss: 2.1058e-05\n",
      "Epoch 90/100\n",
      "\u001b[1m64/64\u001b[0m \u001b[32m━━━━━━━━━━━━━━━━━━━━\u001b[0m\u001b[37m\u001b[0m \u001b[1m5s\u001b[0m 79ms/step - loss: 1.0337e-04 - val_loss: 1.0593e-04\n",
      "Epoch 91/100\n",
      "\u001b[1m64/64\u001b[0m \u001b[32m━━━━━━━━━━━━━━━━━━━━\u001b[0m\u001b[37m\u001b[0m \u001b[1m5s\u001b[0m 77ms/step - loss: 4.2814e-04 - val_loss: 5.1169e-05\n",
      "Epoch 92/100\n",
      "\u001b[1m64/64\u001b[0m \u001b[32m━━━━━━━━━━━━━━━━━━━━\u001b[0m\u001b[37m\u001b[0m \u001b[1m5s\u001b[0m 78ms/step - loss: 5.8024e-04 - val_loss: 5.0915e-05\n",
      "Epoch 93/100\n",
      "\u001b[1m64/64\u001b[0m \u001b[32m━━━━━━━━━━━━━━━━━━━━\u001b[0m\u001b[37m\u001b[0m \u001b[1m5s\u001b[0m 78ms/step - loss: 1.6305e-04 - val_loss: 7.5710e-05\n",
      "Epoch 94/100\n",
      "\u001b[1m64/64\u001b[0m \u001b[32m━━━━━━━━━━━━━━━━━━━━\u001b[0m\u001b[37m\u001b[0m \u001b[1m5s\u001b[0m 79ms/step - loss: 2.5036e-04 - val_loss: 5.1756e-05\n",
      "Epoch 95/100\n",
      "\u001b[1m64/64\u001b[0m \u001b[32m━━━━━━━━━━━━━━━━━━━━\u001b[0m\u001b[37m\u001b[0m \u001b[1m5s\u001b[0m 79ms/step - loss: 1.3343e-04 - val_loss: 3.3816e-05\n",
      "Epoch 96/100\n",
      "\u001b[1m64/64\u001b[0m \u001b[32m━━━━━━━━━━━━━━━━━━━━\u001b[0m\u001b[37m\u001b[0m \u001b[1m5s\u001b[0m 78ms/step - loss: 8.4491e-04 - val_loss: 3.4556e-05\n",
      "Epoch 97/100\n",
      "\u001b[1m64/64\u001b[0m \u001b[32m━━━━━━━━━━━━━━━━━━━━\u001b[0m\u001b[37m\u001b[0m \u001b[1m5s\u001b[0m 78ms/step - loss: 1.3010e-04 - val_loss: 9.2849e-05\n",
      "Epoch 98/100\n",
      "\u001b[1m64/64\u001b[0m \u001b[32m━━━━━━━━━━━━━━━━━━━━\u001b[0m\u001b[37m\u001b[0m \u001b[1m5s\u001b[0m 78ms/step - loss: 3.8274e-04 - val_loss: 1.1951e-04\n",
      "Epoch 99/100\n",
      "\u001b[1m64/64\u001b[0m \u001b[32m━━━━━━━━━━━━━━━━━━━━\u001b[0m\u001b[37m\u001b[0m \u001b[1m5s\u001b[0m 78ms/step - loss: 1.5723e-04 - val_loss: 2.7763e-04\n",
      "Epoch 100/100\n",
      "\u001b[1m64/64\u001b[0m \u001b[32m━━━━━━━━━━━━━━━━━━━━\u001b[0m\u001b[37m\u001b[0m \u001b[1m5s\u001b[0m 77ms/step - loss: 1.7652e-04 - val_loss: 5.0869e-05\n"
=======
      "\u001b[1m48/48\u001b[0m \u001b[32m━━━━━━━━━━━━━━━━━━━━\u001b[0m\u001b[37m\u001b[0m \u001b[1m7s\u001b[0m 82ms/step - loss: 0.0023 - val_loss: 0.0011\n",
      "Epoch 2/100\n",
      "\u001b[1m48/48\u001b[0m \u001b[32m━━━━━━━━━━━━━━━━━━━━\u001b[0m\u001b[37m\u001b[0m \u001b[1m4s\u001b[0m 73ms/step - loss: 4.1541e-05 - val_loss: 9.7382e-04\n",
      "Epoch 3/100\n",
      "\u001b[1m48/48\u001b[0m \u001b[32m━━━━━━━━━━━━━━━━━━━━\u001b[0m\u001b[37m\u001b[0m \u001b[1m4s\u001b[0m 74ms/step - loss: 3.7651e-05 - val_loss: 0.0010\n",
      "Epoch 4/100\n",
      "\u001b[1m48/48\u001b[0m \u001b[32m━━━━━━━━━━━━━━━━━━━━\u001b[0m\u001b[37m\u001b[0m \u001b[1m4s\u001b[0m 77ms/step - loss: 3.5437e-05 - val_loss: 0.0012\n",
      "Epoch 5/100\n",
      "\u001b[1m48/48\u001b[0m \u001b[32m━━━━━━━━━━━━━━━━━━━━\u001b[0m\u001b[37m\u001b[0m \u001b[1m4s\u001b[0m 74ms/step - loss: 3.8768e-05 - val_loss: 0.0011\n",
      "Epoch 6/100\n",
      "\u001b[1m48/48\u001b[0m \u001b[32m━━━━━━━━━━━━━━━━━━━━\u001b[0m\u001b[37m\u001b[0m \u001b[1m4s\u001b[0m 76ms/step - loss: 3.1520e-05 - val_loss: 0.0013\n",
      "Epoch 7/100\n",
      "\u001b[1m48/48\u001b[0m \u001b[32m━━━━━━━━━━━━━━━━━━━━\u001b[0m\u001b[37m\u001b[0m \u001b[1m4s\u001b[0m 75ms/step - loss: 3.3333e-05 - val_loss: 0.0014\n",
      "Epoch 8/100\n",
      "\u001b[1m48/48\u001b[0m \u001b[32m━━━━━━━━━━━━━━━━━━━━\u001b[0m\u001b[37m\u001b[0m \u001b[1m4s\u001b[0m 75ms/step - loss: 3.2107e-05 - val_loss: 0.0013\n",
      "Epoch 9/100\n",
      "\u001b[1m48/48\u001b[0m \u001b[32m━━━━━━━━━━━━━━━━━━━━\u001b[0m\u001b[37m\u001b[0m \u001b[1m4s\u001b[0m 74ms/step - loss: 3.4934e-05 - val_loss: 0.0018\n",
      "Epoch 10/100\n",
      "\u001b[1m48/48\u001b[0m \u001b[32m━━━━━━━━━━━━━━━━━━━━\u001b[0m\u001b[37m\u001b[0m \u001b[1m4s\u001b[0m 74ms/step - loss: 3.1632e-05 - val_loss: 0.0013\n",
      "Epoch 11/100\n",
      "\u001b[1m48/48\u001b[0m \u001b[32m━━━━━━━━━━━━━━━━━━━━\u001b[0m\u001b[37m\u001b[0m \u001b[1m4s\u001b[0m 75ms/step - loss: 3.2324e-05 - val_loss: 0.0024\n",
      "Epoch 12/100\n",
      "\u001b[1m48/48\u001b[0m \u001b[32m━━━━━━━━━━━━━━━━━━━━\u001b[0m\u001b[37m\u001b[0m \u001b[1m4s\u001b[0m 76ms/step - loss: 3.6659e-05 - val_loss: 0.0014\n",
      "Epoch 13/100\n",
      "\u001b[1m48/48\u001b[0m \u001b[32m━━━━━━━━━━━━━━━━━━━━\u001b[0m\u001b[37m\u001b[0m \u001b[1m4s\u001b[0m 76ms/step - loss: 3.2002e-05 - val_loss: 0.0018\n",
      "Epoch 14/100\n",
      "\u001b[1m48/48\u001b[0m \u001b[32m━━━━━━━━━━━━━━━━━━━━\u001b[0m\u001b[37m\u001b[0m \u001b[1m4s\u001b[0m 76ms/step - loss: 2.6772e-05 - val_loss: 0.0011\n",
      "Epoch 15/100\n",
      "\u001b[1m48/48\u001b[0m \u001b[32m━━━━━━━━━━━━━━━━━━━━\u001b[0m\u001b[37m\u001b[0m \u001b[1m4s\u001b[0m 76ms/step - loss: 2.4420e-05 - val_loss: 0.0011\n",
      "Epoch 16/100\n",
      "\u001b[1m48/48\u001b[0m \u001b[32m━━━━━━━━━━━━━━━━━━━━\u001b[0m\u001b[37m\u001b[0m \u001b[1m4s\u001b[0m 76ms/step - loss: 2.8446e-05 - val_loss: 0.0012\n",
      "Epoch 17/100\n",
      "\u001b[1m48/48\u001b[0m \u001b[32m━━━━━━━━━━━━━━━━━━━━\u001b[0m\u001b[37m\u001b[0m \u001b[1m4s\u001b[0m 76ms/step - loss: 2.3023e-05 - val_loss: 0.0011\n",
      "Epoch 18/100\n",
      "\u001b[1m48/48\u001b[0m \u001b[32m━━━━━━━━━━━━━━━━━━━━\u001b[0m\u001b[37m\u001b[0m \u001b[1m4s\u001b[0m 74ms/step - loss: 2.6784e-05 - val_loss: 9.4383e-04\n",
      "Epoch 19/100\n",
      "\u001b[1m48/48\u001b[0m \u001b[32m━━━━━━━━━━━━━━━━━━━━\u001b[0m\u001b[37m\u001b[0m \u001b[1m4s\u001b[0m 74ms/step - loss: 2.4774e-05 - val_loss: 7.6569e-04\n",
      "Epoch 20/100\n",
      "\u001b[1m48/48\u001b[0m \u001b[32m━━━━━━━━━━━━━━━━━━━━\u001b[0m\u001b[37m\u001b[0m \u001b[1m4s\u001b[0m 75ms/step - loss: 2.7305e-05 - val_loss: 7.5024e-04\n",
      "Epoch 21/100\n",
      "\u001b[1m48/48\u001b[0m \u001b[32m━━━━━━━━━━━━━━━━━━━━\u001b[0m\u001b[37m\u001b[0m \u001b[1m4s\u001b[0m 77ms/step - loss: 2.6952e-05 - val_loss: 7.8770e-04\n",
      "Epoch 22/100\n",
      "\u001b[1m48/48\u001b[0m \u001b[32m━━━━━━━━━━━━━━━━━━━━\u001b[0m\u001b[37m\u001b[0m \u001b[1m4s\u001b[0m 78ms/step - loss: 2.3492e-05 - val_loss: 6.3448e-04\n",
      "Epoch 23/100\n",
      "\u001b[1m48/48\u001b[0m \u001b[32m━━━━━━━━━━━━━━━━━━━━\u001b[0m\u001b[37m\u001b[0m \u001b[1m4s\u001b[0m 78ms/step - loss: 2.4553e-05 - val_loss: 8.0073e-04\n",
      "Epoch 24/100\n",
      "\u001b[1m48/48\u001b[0m \u001b[32m━━━━━━━━━━━━━━━━━━━━\u001b[0m\u001b[37m\u001b[0m \u001b[1m4s\u001b[0m 76ms/step - loss: 2.8017e-05 - val_loss: 8.5212e-04\n",
      "Epoch 25/100\n",
      "\u001b[1m48/48\u001b[0m \u001b[32m━━━━━━━━━━━━━━━━━━━━\u001b[0m\u001b[37m\u001b[0m \u001b[1m4s\u001b[0m 76ms/step - loss: 2.2255e-05 - val_loss: 0.0011\n",
      "Epoch 26/100\n",
      "\u001b[1m48/48\u001b[0m \u001b[32m━━━━━━━━━━━━━━━━━━━━\u001b[0m\u001b[37m\u001b[0m \u001b[1m4s\u001b[0m 79ms/step - loss: 2.5287e-05 - val_loss: 8.9972e-04\n",
      "Epoch 27/100\n",
      "\u001b[1m48/48\u001b[0m \u001b[32m━━━━━━━━━━━━━━━━━━━━\u001b[0m\u001b[37m\u001b[0m \u001b[1m4s\u001b[0m 76ms/step - loss: 2.2732e-05 - val_loss: 8.9751e-04\n",
      "Epoch 28/100\n",
      "\u001b[1m48/48\u001b[0m \u001b[32m━━━━━━━━━━━━━━━━━━━━\u001b[0m\u001b[37m\u001b[0m \u001b[1m4s\u001b[0m 77ms/step - loss: 2.3023e-05 - val_loss: 6.3833e-04\n",
      "Epoch 29/100\n",
      "\u001b[1m48/48\u001b[0m \u001b[32m━━━━━━━━━━━━━━━━━━━━\u001b[0m\u001b[37m\u001b[0m \u001b[1m4s\u001b[0m 81ms/step - loss: 2.2482e-05 - val_loss: 0.0011\n",
      "Epoch 30/100\n",
      "\u001b[1m48/48\u001b[0m \u001b[32m━━━━━━━━━━━━━━━━━━━━\u001b[0m\u001b[37m\u001b[0m \u001b[1m4s\u001b[0m 76ms/step - loss: 2.4086e-05 - val_loss: 8.4101e-04\n",
      "Epoch 31/100\n",
      "\u001b[1m48/48\u001b[0m \u001b[32m━━━━━━━━━━━━━━━━━━━━\u001b[0m\u001b[37m\u001b[0m \u001b[1m4s\u001b[0m 75ms/step - loss: 2.2468e-05 - val_loss: 7.8459e-04\n",
      "Epoch 32/100\n",
      "\u001b[1m48/48\u001b[0m \u001b[32m━━━━━━━━━━━━━━━━━━━━\u001b[0m\u001b[37m\u001b[0m \u001b[1m4s\u001b[0m 75ms/step - loss: 2.3085e-05 - val_loss: 5.9741e-04\n",
      "Epoch 33/100\n",
      "\u001b[1m48/48\u001b[0m \u001b[32m━━━━━━━━━━━━━━━━━━━━\u001b[0m\u001b[37m\u001b[0m \u001b[1m4s\u001b[0m 75ms/step - loss: 2.1686e-05 - val_loss: 5.0875e-04\n",
      "Epoch 34/100\n",
      "\u001b[1m48/48\u001b[0m \u001b[32m━━━━━━━━━━━━━━━━━━━━\u001b[0m\u001b[37m\u001b[0m \u001b[1m4s\u001b[0m 75ms/step - loss: 2.0495e-05 - val_loss: 0.0010\n",
      "Epoch 35/100\n",
      "\u001b[1m48/48\u001b[0m \u001b[32m━━━━━━━━━━━━━━━━━━━━\u001b[0m\u001b[37m\u001b[0m \u001b[1m4s\u001b[0m 77ms/step - loss: 2.4074e-05 - val_loss: 4.9388e-04\n",
      "Epoch 36/100\n",
      "\u001b[1m48/48\u001b[0m \u001b[32m━━━━━━━━━━━━━━━━━━━━\u001b[0m\u001b[37m\u001b[0m \u001b[1m4s\u001b[0m 75ms/step - loss: 2.2369e-05 - val_loss: 0.0013\n",
      "Epoch 37/100\n",
      "\u001b[1m48/48\u001b[0m \u001b[32m━━━━━━━━━━━━━━━━━━━━\u001b[0m\u001b[37m\u001b[0m \u001b[1m4s\u001b[0m 75ms/step - loss: 2.0824e-05 - val_loss: 5.9715e-04\n",
      "Epoch 38/100\n",
      "\u001b[1m48/48\u001b[0m \u001b[32m━━━━━━━━━━━━━━━━━━━━\u001b[0m\u001b[37m\u001b[0m \u001b[1m4s\u001b[0m 77ms/step - loss: 2.1168e-05 - val_loss: 6.5650e-04\n",
      "Epoch 39/100\n",
      "\u001b[1m48/48\u001b[0m \u001b[32m━━━━━━━━━━━━━━━━━━━━\u001b[0m\u001b[37m\u001b[0m \u001b[1m4s\u001b[0m 76ms/step - loss: 1.6595e-05 - val_loss: 7.6157e-04\n",
      "Epoch 40/100\n",
      "\u001b[1m48/48\u001b[0m \u001b[32m━━━━━━━━━━━━━━━━━━━━\u001b[0m\u001b[37m\u001b[0m \u001b[1m4s\u001b[0m 75ms/step - loss: 1.9339e-05 - val_loss: 6.3899e-04\n",
      "Epoch 41/100\n",
      "\u001b[1m48/48\u001b[0m \u001b[32m━━━━━━━━━━━━━━━━━━━━\u001b[0m\u001b[37m\u001b[0m \u001b[1m4s\u001b[0m 75ms/step - loss: 1.9548e-05 - val_loss: 6.8144e-04\n",
      "Epoch 42/100\n",
      "\u001b[1m48/48\u001b[0m \u001b[32m━━━━━━━━━━━━━━━━━━━━\u001b[0m\u001b[37m\u001b[0m \u001b[1m4s\u001b[0m 75ms/step - loss: 1.6976e-05 - val_loss: 7.3073e-04\n",
      "Epoch 43/100\n",
      "\u001b[1m48/48\u001b[0m \u001b[32m━━━━━━━━━━━━━━━━━━━━\u001b[0m\u001b[37m\u001b[0m \u001b[1m4s\u001b[0m 77ms/step - loss: 1.7444e-05 - val_loss: 6.4702e-04\n",
      "Epoch 44/100\n",
      "\u001b[1m48/48\u001b[0m \u001b[32m━━━━━━━━━━━━━━━━━━━━\u001b[0m\u001b[37m\u001b[0m \u001b[1m4s\u001b[0m 79ms/step - loss: 1.5768e-05 - val_loss: 5.5683e-04\n",
      "Epoch 45/100\n",
      "\u001b[1m48/48\u001b[0m \u001b[32m━━━━━━━━━━━━━━━━━━━━\u001b[0m\u001b[37m\u001b[0m \u001b[1m4s\u001b[0m 77ms/step - loss: 1.7855e-05 - val_loss: 4.7683e-04\n",
      "Epoch 46/100\n",
      "\u001b[1m48/48\u001b[0m \u001b[32m━━━━━━━━━━━━━━━━━━━━\u001b[0m\u001b[37m\u001b[0m \u001b[1m4s\u001b[0m 76ms/step - loss: 1.8072e-05 - val_loss: 7.2099e-04\n",
      "Epoch 47/100\n",
      "\u001b[1m48/48\u001b[0m \u001b[32m━━━━━━━━━━━━━━━━━━━━\u001b[0m\u001b[37m\u001b[0m \u001b[1m4s\u001b[0m 76ms/step - loss: 1.4871e-05 - val_loss: 4.1709e-04\n",
      "Epoch 48/100\n",
      "\u001b[1m48/48\u001b[0m \u001b[32m━━━━━━━━━━━━━━━━━━━━\u001b[0m\u001b[37m\u001b[0m \u001b[1m4s\u001b[0m 75ms/step - loss: 1.7005e-05 - val_loss: 4.5026e-04\n",
      "Epoch 49/100\n",
      "\u001b[1m48/48\u001b[0m \u001b[32m━━━━━━━━━━━━━━━━━━━━\u001b[0m\u001b[37m\u001b[0m \u001b[1m4s\u001b[0m 77ms/step - loss: 1.7034e-05 - val_loss: 7.4430e-04\n",
      "Epoch 50/100\n",
      "\u001b[1m48/48\u001b[0m \u001b[32m━━━━━━━━━━━━━━━━━━━━\u001b[0m\u001b[37m\u001b[0m \u001b[1m4s\u001b[0m 86ms/step - loss: 1.6901e-05 - val_loss: 6.6445e-04\n",
      "Epoch 51/100\n",
      "\u001b[1m48/48\u001b[0m \u001b[32m━━━━━━━━━━━━━━━━━━━━\u001b[0m\u001b[37m\u001b[0m \u001b[1m4s\u001b[0m 83ms/step - loss: 1.5744e-05 - val_loss: 5.9701e-04\n",
      "Epoch 52/100\n",
      "\u001b[1m48/48\u001b[0m \u001b[32m━━━━━━━━━━━━━━━━━━━━\u001b[0m\u001b[37m\u001b[0m \u001b[1m4s\u001b[0m 77ms/step - loss: 1.5017e-05 - val_loss: 6.6836e-04\n",
      "Epoch 53/100\n",
      "\u001b[1m48/48\u001b[0m \u001b[32m━━━━━━━━━━━━━━━━━━━━\u001b[0m\u001b[37m\u001b[0m \u001b[1m4s\u001b[0m 79ms/step - loss: 1.6300e-05 - val_loss: 7.9000e-04\n",
      "Epoch 54/100\n",
      "\u001b[1m48/48\u001b[0m \u001b[32m━━━━━━━━━━━━━━━━━━━━\u001b[0m\u001b[37m\u001b[0m \u001b[1m4s\u001b[0m 86ms/step - loss: 2.0509e-05 - val_loss: 5.5557e-04\n",
      "Epoch 55/100\n",
      "\u001b[1m48/48\u001b[0m \u001b[32m━━━━━━━━━━━━━━━━━━━━\u001b[0m\u001b[37m\u001b[0m \u001b[1m4s\u001b[0m 89ms/step - loss: 1.3005e-05 - val_loss: 4.5147e-04\n",
      "Epoch 56/100\n",
      "\u001b[1m48/48\u001b[0m \u001b[32m━━━━━━━━━━━━━━━━━━━━\u001b[0m\u001b[37m\u001b[0m \u001b[1m4s\u001b[0m 86ms/step - loss: 1.3495e-05 - val_loss: 4.9232e-04\n",
      "Epoch 57/100\n",
      "\u001b[1m48/48\u001b[0m \u001b[32m━━━━━━━━━━━━━━━━━━━━\u001b[0m\u001b[37m\u001b[0m \u001b[1m4s\u001b[0m 83ms/step - loss: 1.5549e-05 - val_loss: 3.7335e-04\n",
      "Epoch 58/100\n",
      "\u001b[1m48/48\u001b[0m \u001b[32m━━━━━━━━━━━━━━━━━━━━\u001b[0m\u001b[37m\u001b[0m \u001b[1m5s\u001b[0m 106ms/step - loss: 1.2917e-05 - val_loss: 4.2766e-04\n",
      "Epoch 59/100\n",
      "\u001b[1m48/48\u001b[0m \u001b[32m━━━━━━━━━━━━━━━━━━━━\u001b[0m\u001b[37m\u001b[0m \u001b[1m4s\u001b[0m 87ms/step - loss: 1.2477e-05 - val_loss: 7.6415e-04\n",
      "Epoch 60/100\n",
      "\u001b[1m48/48\u001b[0m \u001b[32m━━━━━━━━━━━━━━━━━━━━\u001b[0m\u001b[37m\u001b[0m \u001b[1m5s\u001b[0m 105ms/step - loss: 1.2705e-05 - val_loss: 7.9546e-04\n",
      "Epoch 61/100\n",
      "\u001b[1m48/48\u001b[0m \u001b[32m━━━━━━━━━━━━━━━━━━━━\u001b[0m\u001b[37m\u001b[0m \u001b[1m4s\u001b[0m 85ms/step - loss: 1.4616e-05 - val_loss: 8.0389e-04\n",
      "Epoch 62/100\n",
      "\u001b[1m48/48\u001b[0m \u001b[32m━━━━━━━━━━━━━━━━━━━━\u001b[0m\u001b[37m\u001b[0m \u001b[1m4s\u001b[0m 89ms/step - loss: 1.1494e-05 - val_loss: 5.5277e-04\n",
      "Epoch 63/100\n",
      "\u001b[1m48/48\u001b[0m \u001b[32m━━━━━━━━━━━━━━━━━━━━\u001b[0m\u001b[37m\u001b[0m \u001b[1m4s\u001b[0m 80ms/step - loss: 1.2468e-05 - val_loss: 8.7065e-04\n",
      "Epoch 64/100\n",
      "\u001b[1m48/48\u001b[0m \u001b[32m━━━━━━━━━━━━━━━━━━━━\u001b[0m\u001b[37m\u001b[0m \u001b[1m4s\u001b[0m 79ms/step - loss: 1.4870e-05 - val_loss: 7.1342e-04\n",
      "Epoch 65/100\n",
      "\u001b[1m48/48\u001b[0m \u001b[32m━━━━━━━━━━━━━━━━━━━━\u001b[0m\u001b[37m\u001b[0m \u001b[1m4s\u001b[0m 77ms/step - loss: 1.6181e-05 - val_loss: 6.6408e-04\n",
      "Epoch 66/100\n",
      "\u001b[1m48/48\u001b[0m \u001b[32m━━━━━━━━━━━━━━━━━━━━\u001b[0m\u001b[37m\u001b[0m \u001b[1m4s\u001b[0m 77ms/step - loss: 1.5044e-05 - val_loss: 6.2944e-04\n",
      "Epoch 67/100\n",
      "\u001b[1m48/48\u001b[0m \u001b[32m━━━━━━━━━━━━━━━━━━━━\u001b[0m\u001b[37m\u001b[0m \u001b[1m4s\u001b[0m 77ms/step - loss: 1.1155e-05 - val_loss: 5.9021e-04\n",
      "Epoch 68/100\n",
      "\u001b[1m48/48\u001b[0m \u001b[32m━━━━━━━━━━━━━━━━━━━━\u001b[0m\u001b[37m\u001b[0m \u001b[1m4s\u001b[0m 75ms/step - loss: 1.3353e-05 - val_loss: 4.7777e-04\n",
      "Epoch 69/100\n",
      "\u001b[1m48/48\u001b[0m \u001b[32m━━━━━━━━━━━━━━━━━━━━\u001b[0m\u001b[37m\u001b[0m \u001b[1m4s\u001b[0m 77ms/step - loss: 1.3530e-05 - val_loss: 8.1331e-04\n",
      "Epoch 70/100\n",
      "\u001b[1m48/48\u001b[0m \u001b[32m━━━━━━━━━━━━━━━━━━━━\u001b[0m\u001b[37m\u001b[0m \u001b[1m4s\u001b[0m 78ms/step - loss: 1.2627e-05 - val_loss: 7.1701e-04\n",
      "Epoch 71/100\n",
      "\u001b[1m48/48\u001b[0m \u001b[32m━━━━━━━━━━━━━━━━━━━━\u001b[0m\u001b[37m\u001b[0m \u001b[1m4s\u001b[0m 91ms/step - loss: 1.1756e-05 - val_loss: 5.1844e-04\n",
      "Epoch 72/100\n",
      "\u001b[1m48/48\u001b[0m \u001b[32m━━━━━━━━━━━━━━━━━━━━\u001b[0m\u001b[37m\u001b[0m \u001b[1m4s\u001b[0m 85ms/step - loss: 1.0905e-05 - val_loss: 5.7366e-04\n",
      "Epoch 73/100\n",
      "\u001b[1m48/48\u001b[0m \u001b[32m━━━━━━━━━━━━━━━━━━━━\u001b[0m\u001b[37m\u001b[0m \u001b[1m4s\u001b[0m 84ms/step - loss: 1.2790e-05 - val_loss: 3.5298e-04\n",
      "Epoch 74/100\n",
      "\u001b[1m48/48\u001b[0m \u001b[32m━━━━━━━━━━━━━━━━━━━━\u001b[0m\u001b[37m\u001b[0m \u001b[1m4s\u001b[0m 81ms/step - loss: 1.0698e-05 - val_loss: 4.3227e-04\n",
      "Epoch 75/100\n",
      "\u001b[1m48/48\u001b[0m \u001b[32m━━━━━━━━━━━━━━━━━━━━\u001b[0m\u001b[37m\u001b[0m \u001b[1m4s\u001b[0m 83ms/step - loss: 1.0245e-05 - val_loss: 5.2745e-04\n",
      "Epoch 76/100\n",
      "\u001b[1m48/48\u001b[0m \u001b[32m━━━━━━━━━━━━━━━━━━━━\u001b[0m\u001b[37m\u001b[0m \u001b[1m4s\u001b[0m 81ms/step - loss: 1.2896e-05 - val_loss: 4.4452e-04\n",
      "Epoch 77/100\n",
      "\u001b[1m48/48\u001b[0m \u001b[32m━━━━━━━━━━━━━━━━━━━━\u001b[0m\u001b[37m\u001b[0m \u001b[1m4s\u001b[0m 81ms/step - loss: 1.0605e-05 - val_loss: 5.0605e-04\n",
      "Epoch 78/100\n",
      "\u001b[1m48/48\u001b[0m \u001b[32m━━━━━━━━━━━━━━━━━━━━\u001b[0m\u001b[37m\u001b[0m \u001b[1m4s\u001b[0m 81ms/step - loss: 8.9670e-06 - val_loss: 5.3490e-04\n",
      "Epoch 79/100\n",
      "\u001b[1m48/48\u001b[0m \u001b[32m━━━━━━━━━━━━━━━━━━━━\u001b[0m\u001b[37m\u001b[0m \u001b[1m4s\u001b[0m 89ms/step - loss: 8.9142e-06 - val_loss: 5.4806e-04\n",
      "Epoch 80/100\n",
      "\u001b[1m48/48\u001b[0m \u001b[32m━━━━━━━━━━━━━━━━━━━━\u001b[0m\u001b[37m\u001b[0m \u001b[1m4s\u001b[0m 86ms/step - loss: 7.9904e-06 - val_loss: 7.5186e-04\n",
      "Epoch 81/100\n",
      "\u001b[1m48/48\u001b[0m \u001b[32m━━━━━━━━━━━━━━━━━━━━\u001b[0m\u001b[37m\u001b[0m \u001b[1m4s\u001b[0m 87ms/step - loss: 9.4530e-06 - val_loss: 4.3095e-04\n",
      "Epoch 82/100\n",
      "\u001b[1m48/48\u001b[0m \u001b[32m━━━━━━━━━━━━━━━━━━━━\u001b[0m\u001b[37m\u001b[0m \u001b[1m4s\u001b[0m 79ms/step - loss: 8.9324e-06 - val_loss: 4.5844e-04\n",
      "Epoch 83/100\n",
      "\u001b[1m48/48\u001b[0m \u001b[32m━━━━━━━━━━━━━━━━━━━━\u001b[0m\u001b[37m\u001b[0m \u001b[1m4s\u001b[0m 85ms/step - loss: 9.4430e-06 - val_loss: 5.4267e-04\n",
      "Epoch 84/100\n",
      "\u001b[1m48/48\u001b[0m \u001b[32m━━━━━━━━━━━━━━━━━━━━\u001b[0m\u001b[37m\u001b[0m \u001b[1m4s\u001b[0m 78ms/step - loss: 8.6164e-06 - val_loss: 3.6668e-04\n",
      "Epoch 85/100\n",
      "\u001b[1m48/48\u001b[0m \u001b[32m━━━━━━━━━━━━━━━━━━━━\u001b[0m\u001b[37m\u001b[0m \u001b[1m4s\u001b[0m 79ms/step - loss: 7.9686e-06 - val_loss: 2.9413e-04\n",
      "Epoch 86/100\n",
      "\u001b[1m48/48\u001b[0m \u001b[32m━━━━━━━━━━━━━━━━━━━━\u001b[0m\u001b[37m\u001b[0m \u001b[1m4s\u001b[0m 81ms/step - loss: 8.0712e-06 - val_loss: 4.4986e-04\n",
      "Epoch 87/100\n",
      "\u001b[1m48/48\u001b[0m \u001b[32m━━━━━━━━━━━━━━━━━━━━\u001b[0m\u001b[37m\u001b[0m \u001b[1m4s\u001b[0m 77ms/step - loss: 8.1669e-06 - val_loss: 4.2821e-04\n",
      "Epoch 88/100\n",
      "\u001b[1m48/48\u001b[0m \u001b[32m━━━━━━━━━━━━━━━━━━━━\u001b[0m\u001b[37m\u001b[0m \u001b[1m4s\u001b[0m 77ms/step - loss: 1.2344e-05 - val_loss: 2.7000e-04\n",
      "Epoch 89/100\n",
      "\u001b[1m48/48\u001b[0m \u001b[32m━━━━━━━━━━━━━━━━━━━━\u001b[0m\u001b[37m\u001b[0m \u001b[1m4s\u001b[0m 77ms/step - loss: 1.1062e-05 - val_loss: 3.5493e-04\n",
      "Epoch 90/100\n",
      "\u001b[1m48/48\u001b[0m \u001b[32m━━━━━━━━━━━━━━━━━━━━\u001b[0m\u001b[37m\u001b[0m \u001b[1m4s\u001b[0m 77ms/step - loss: 8.1463e-06 - val_loss: 4.0996e-04\n",
      "Epoch 91/100\n",
      "\u001b[1m48/48\u001b[0m \u001b[32m━━━━━━━━━━━━━━━━━━━━\u001b[0m\u001b[37m\u001b[0m \u001b[1m4s\u001b[0m 80ms/step - loss: 9.6504e-06 - val_loss: 6.7520e-04\n",
      "Epoch 92/100\n",
      "\u001b[1m48/48\u001b[0m \u001b[32m━━━━━━━━━━━━━━━━━━━━\u001b[0m\u001b[37m\u001b[0m \u001b[1m4s\u001b[0m 76ms/step - loss: 8.6830e-06 - val_loss: 6.3396e-04\n",
      "Epoch 93/100\n",
      "\u001b[1m48/48\u001b[0m \u001b[32m━━━━━━━━━━━━━━━━━━━━\u001b[0m\u001b[37m\u001b[0m \u001b[1m4s\u001b[0m 80ms/step - loss: 7.4706e-06 - val_loss: 3.1498e-04\n",
      "Epoch 94/100\n",
      "\u001b[1m48/48\u001b[0m \u001b[32m━━━━━━━━━━━━━━━━━━━━\u001b[0m\u001b[37m\u001b[0m \u001b[1m4s\u001b[0m 78ms/step - loss: 8.8487e-06 - val_loss: 4.7303e-04\n",
      "Epoch 95/100\n",
      "\u001b[1m48/48\u001b[0m \u001b[32m━━━━━━━━━━━━━━━━━━━━\u001b[0m\u001b[37m\u001b[0m \u001b[1m4s\u001b[0m 76ms/step - loss: 6.6817e-06 - val_loss: 3.8584e-04\n",
      "Epoch 96/100\n",
      "\u001b[1m48/48\u001b[0m \u001b[32m━━━━━━━━━━━━━━━━━━━━\u001b[0m\u001b[37m\u001b[0m \u001b[1m4s\u001b[0m 77ms/step - loss: 6.8415e-06 - val_loss: 6.8236e-04\n",
      "Epoch 97/100\n",
      "\u001b[1m48/48\u001b[0m \u001b[32m━━━━━━━━━━━━━━━━━━━━\u001b[0m\u001b[37m\u001b[0m \u001b[1m4s\u001b[0m 75ms/step - loss: 8.2320e-06 - val_loss: 5.8277e-04\n",
      "Epoch 98/100\n",
      "\u001b[1m48/48\u001b[0m \u001b[32m━━━━━━━━━━━━━━━━━━━━\u001b[0m\u001b[37m\u001b[0m \u001b[1m4s\u001b[0m 74ms/step - loss: 6.3257e-06 - val_loss: 5.0971e-04\n",
      "Epoch 99/100\n",
      "\u001b[1m48/48\u001b[0m \u001b[32m━━━━━━━━━━━━━━━━━━━━\u001b[0m\u001b[37m\u001b[0m \u001b[1m4s\u001b[0m 75ms/step - loss: 6.7845e-06 - val_loss: 7.6129e-04\n",
      "Epoch 100/100\n",
      "\u001b[1m48/48\u001b[0m \u001b[32m━━━━━━━━━━━━━━━━━━━━\u001b[0m\u001b[37m\u001b[0m \u001b[1m4s\u001b[0m 76ms/step - loss: 7.8793e-06 - val_loss: 8.2216e-04\n"
>>>>>>> 00e3d2c (Add streamlit stock prediction app)
     ]
    },
    {
     "data": {
      "text/plain": [
<<<<<<< HEAD
       "<keras.src.callbacks.history.History at 0x2120b155460>"
      ]
     },
     "execution_count": 30,
=======
       "<keras.src.callbacks.history.History at 0x1c8a396c860>"
      ]
     },
     "execution_count": 42,
>>>>>>> 00e3d2c (Add streamlit stock prediction app)
     "metadata": {},
     "output_type": "execute_result"
    }
   ],
   "source": [
    "model.fit(X_train,y_train,validation_data=(X_test,ytest),epochs=100,batch_size=64,verbose=1)"
   ]
  },
  {
   "cell_type": "code",
   "execution_count": 31,
   "metadata": {},
   "outputs": [],
   "source": [
    "import tensorflow as tf"
   ]
  },
  {
   "cell_type": "code",
   "execution_count": 32,
   "metadata": {},
   "outputs": [
    {
     "data": {
      "text/plain": [
       "'2.17.0'"
      ]
     },
     "execution_count": 32,
     "metadata": {},
     "output_type": "execute_result"
    }
   ],
   "source": [
    "tf.__version__"
   ]
  },
  {
   "cell_type": "code",
<<<<<<< HEAD
   "execution_count": 33,
=======
   "execution_count": 43,
>>>>>>> 00e3d2c (Add streamlit stock prediction app)
   "metadata": {},
   "outputs": [
    {
     "name": "stdout",
     "output_type": "stream",
     "text": [
<<<<<<< HEAD
      "\u001b[1m127/127\u001b[0m \u001b[32m━━━━━━━━━━━━━━━━━━━━\u001b[0m\u001b[37m\u001b[0m \u001b[1m3s\u001b[0m 19ms/step\n",
      "\u001b[1m67/67\u001b[0m \u001b[32m━━━━━━━━━━━━━━━━━━━━\u001b[0m\u001b[37m\u001b[0m \u001b[1m1s\u001b[0m 16ms/step\n"
=======
      "\u001b[1m96/96\u001b[0m \u001b[32m━━━━━━━━━━━━━━━━━━━━\u001b[0m\u001b[37m\u001b[0m \u001b[1m2s\u001b[0m 19ms/step\n",
      "\u001b[1m50/50\u001b[0m \u001b[32m━━━━━━━━━━━━━━━━━━━━\u001b[0m\u001b[37m\u001b[0m \u001b[1m1s\u001b[0m 17ms/step\n"
>>>>>>> 00e3d2c (Add streamlit stock prediction app)
     ]
    }
   ],
   "source": [
    "### Lets Do the prediction and check performance metrics\n",
    "train_predict=model.predict(X_train)\n",
    "test_predict=model.predict(X_test)"
   ]
  },
  {
   "cell_type": "code",
<<<<<<< HEAD
   "execution_count": 34,
=======
   "execution_count": 44,
>>>>>>> 00e3d2c (Add streamlit stock prediction app)
   "metadata": {},
   "outputs": [],
   "source": [
    "##Transformback to original form\n",
    "train_predict=scaler.inverse_transform(train_predict)\n",
    "test_predict=scaler.inverse_transform(test_predict)"
   ]
  },
  {
   "cell_type": "code",
<<<<<<< HEAD
   "execution_count": 35,
=======
   "execution_count": 45,
>>>>>>> 00e3d2c (Add streamlit stock prediction app)
   "metadata": {},
   "outputs": [
    {
     "data": {
      "text/plain": [
<<<<<<< HEAD
       "278.2988118635282"
      ]
     },
     "execution_count": 35,
=======
       "20.401981582335026"
      ]
     },
     "execution_count": 45,
>>>>>>> 00e3d2c (Add streamlit stock prediction app)
     "metadata": {},
     "output_type": "execute_result"
    }
   ],
   "source": [
    "### Calculate RMSE performance metrics\n",
    "import math\n",
    "from sklearn.metrics import mean_squared_error\n",
    "math.sqrt(mean_squared_error(y_train,train_predict))"
   ]
  },
  {
   "cell_type": "code",
<<<<<<< HEAD
   "execution_count": 36,
=======
   "execution_count": 46,
>>>>>>> 00e3d2c (Add streamlit stock prediction app)
   "metadata": {},
   "outputs": [
    {
     "data": {
      "text/plain": [
<<<<<<< HEAD
       "72.5504502457438"
      ]
     },
     "execution_count": 36,
=======
       "89.64006869618139"
      ]
     },
     "execution_count": 46,
>>>>>>> 00e3d2c (Add streamlit stock prediction app)
     "metadata": {},
     "output_type": "execute_result"
    }
   ],
   "source": [
    "### Test Data RMSE\n",
    "math.sqrt(mean_squared_error(ytest,test_predict))"
   ]
  },
  {
   "cell_type": "code",
<<<<<<< HEAD
   "execution_count": 37,
=======
   "execution_count": 47,
>>>>>>> 00e3d2c (Add streamlit stock prediction app)
   "metadata": {},
   "outputs": [
    {
     "data": {
<<<<<<< HEAD
      "image/png": "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",
=======
      "image/png": "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",
>>>>>>> 00e3d2c (Add streamlit stock prediction app)
      "text/plain": [
       "<Figure size 640x480 with 1 Axes>"
      ]
     },
     "metadata": {},
     "output_type": "display_data"
    }
   ],
   "source": [
    "### Plotting \n",
    "# shift train predictions for plotting\n",
    "look_back=100\n",
    "trainPredictPlot = numpy.empty_like(df1)\n",
    "trainPredictPlot[:, :] = np.nan\n",
    "trainPredictPlot[look_back:len(train_predict)+look_back, :] = train_predict\n",
    "# shift test predictions for plotting\n",
    "testPredictPlot = numpy.empty_like(df1)\n",
    "testPredictPlot[:, :] = numpy.nan\n",
    "testPredictPlot[len(train_predict)+(look_back*2)+1:len(df1)-1, :] = test_predict\n",
    "# plot baseline and predictions\n",
    "plt.plot(scaler.inverse_transform(df1))\n",
    "plt.plot(trainPredictPlot)\n",
    "plt.plot(testPredictPlot)\n",
    "plt.show()"
   ]
  },
  {
   "cell_type": "code",
   "execution_count": 38,
   "metadata": {},
   "outputs": [
    {
     "data": {
      "text/plain": [
       "2228"
      ]
     },
     "execution_count": 38,
     "metadata": {},
     "output_type": "execute_result"
    }
   ],
   "source": [
    "len(test_data)"
   ]
  },
  {
   "cell_type": "code",
   "execution_count": 40,
   "metadata": {},
   "outputs": [
    {
     "data": {
      "text/plain": [
       "(1, 100)"
      ]
     },
     "execution_count": 40,
     "metadata": {},
     "output_type": "execute_result"
    }
   ],
   "source": [
    "x_input=test_data[2128:].reshape(1,-1)\n",
    "x_input.shape\n",
    "\n",
    "\n"
   ]
  },
  {
   "cell_type": "code",
   "execution_count": 41,
   "metadata": {},
   "outputs": [],
   "source": [
    "temp_input=list(x_input)\n",
    "temp_input=temp_input[0].tolist()"
   ]
  },
  {
   "cell_type": "code",
   "execution_count": 42,
   "metadata": {},
   "outputs": [
    {
     "data": {
      "text/plain": [
       "[0.18605765043978054,\n",
       " 0.1902377427501524,\n",
       " 0.176812099044965,\n",
       " 0.15948213300821504,\n",
       " 0.16238497489041773,\n",
       " 0.1573920868530291,\n",
       " 0.149685041655781,\n",
       " 0.14678219977357834,\n",
       " 0.15702923161775378,\n",
       " 0.16347354059624372,\n",
       " 0.15839356730238904,\n",
       " 0.1580307120671137,\n",
       " 0.15929344828587189,\n",
       " 0.16338645533977764,\n",
       " 0.16673923771372173,\n",
       " 0.1580307120671137,\n",
       " 0.17009202008766583,\n",
       " 0.14731922552178583,\n",
       " 0.145330778832477,\n",
       " 0.14115068652210513,\n",
       " 0.1481610496676246,\n",
       " 0.149685041655781,\n",
       " 0.14614357455949376,\n",
       " 0.1424279369502743,\n",
       " 0.14768208075706116,\n",
       " 0.14659351505123516,\n",
       " 0.1536764492438097,\n",
       " 0.14904641644169642,\n",
       " 0.13879938459752098,\n",
       " 0.14569363406775232,\n",
       " 0.14441638363958315,\n",
       " 0.14768208075706116,\n",
       " 0.14650642979476908,\n",
       " 0.13771081889169498,\n",
       " 0.1309036546779297,\n",
       " 0.12437226044297368,\n",
       " 0.1264623065981596,\n",
       " 0.13154227989201428,\n",
       " 0.12845075328746844,\n",
       " 0.14061366077389764,\n",
       " 0.1408894307527069,\n",
       " 0.14387935789137565,\n",
       " 0.1351708322447676,\n",
       " 0.1425150222067404,\n",
       " 0.14569363406775232,\n",
       " 0.13562077273650905,\n",
       " 0.13181804987082352,\n",
       " 0.12673807657696884,\n",
       " 0.12138233330430494,\n",
       " 0.10750674910737613,\n",
       " 0.11557664953989956,\n",
       " 0.12283375424540625,\n",
       " 0.12537374089233358,\n",
       " 0.11884234665737757,\n",
       " 0.1319051351272896,\n",
       " 0.1297280037156376,\n",
       " 0.14342941739963425,\n",
       " 0.13017794420737902,\n",
       " 0.1265493918546257,\n",
       " 0.1271009318122442,\n",
       " 0.12347237945949084,\n",
       " 0.12509797091352434,\n",
       " 0.13117942465673896,\n",
       " 0.12601236610641817,\n",
       " 0.1297280037156376,\n",
       " 0.1231966094806816,\n",
       " 0.12609945136288425,\n",
       " 0.12364654997242301,\n",
       " 0.12174518853958026,\n",
       " 0.11865366193503442,\n",
       " 0.12464803042178295,\n",
       " 0.13045371418618829,\n",
       " 0.1337194113036663,\n",
       " 0.14070074603036373,\n",
       " 0.1519492583238991,\n",
       " 0.14932218642050568,\n",
       " 0.14787076547940434,\n",
       " 0.1408894307527069,\n",
       " 0.13054079944265437,\n",
       " 0.12300792475833842,\n",
       " 0.11820372144329301,\n",
       " 0.11892943191384366,\n",
       " 0.11839240616563616,\n",
       " 0.11566373479636564,\n",
       " 0.11248512293535372,\n",
       " 0.11512670904815815,\n",
       " 0.1110337019942524,\n",
       " 0.11194809718714623,\n",
       " 0.11331243287178148,\n",
       " 0.11077244622485415,\n",
       " 0.11248512293535372,\n",
       " 0.11485093906934891,\n",
       " 0.11367528810705681,\n",
       " 0.1110337019942524,\n",
       " 0.12083079334668644,\n",
       " 0.10913234056140962,\n",
       " 0.10232517634764436,\n",
       " 0.09924816395250952,\n",
       " 0.09743388777613285,\n",
       " 0.09361665070103634]"
      ]
     },
     "execution_count": 42,
     "metadata": {},
     "output_type": "execute_result"
    }
   ],
   "source": [
    "temp_input"
   ]
  },
  {
   "cell_type": "code",
   "execution_count": 43,
   "metadata": {},
   "outputs": [
    {
     "name": "stdout",
     "output_type": "stream",
     "text": [
      "[0.09555135]\n",
      "101\n",
      "1 day input [0.19023774 0.1768121  0.15948213 0.16238497 0.15739209 0.14968504\n",
      " 0.1467822  0.15702923 0.16347354 0.15839357 0.15803071 0.15929345\n",
      " 0.16338646 0.16673924 0.15803071 0.17009202 0.14731923 0.14533078\n",
      " 0.14115069 0.14816105 0.14968504 0.14614357 0.14242794 0.14768208\n",
      " 0.14659352 0.15367645 0.14904642 0.13879938 0.14569363 0.14441638\n",
      " 0.14768208 0.14650643 0.13771082 0.13090365 0.12437226 0.12646231\n",
      " 0.13154228 0.12845075 0.14061366 0.14088943 0.14387936 0.13517083\n",
      " 0.14251502 0.14569363 0.13562077 0.13181805 0.12673808 0.12138233\n",
      " 0.10750675 0.11557665 0.12283375 0.12537374 0.11884235 0.13190514\n",
      " 0.129728   0.14342942 0.13017794 0.12654939 0.12710093 0.12347238\n",
      " 0.12509797 0.13117942 0.12601237 0.129728   0.12319661 0.12609945\n",
      " 0.12364655 0.12174519 0.11865366 0.12464803 0.13045371 0.13371941\n",
      " 0.14070075 0.15194926 0.14932219 0.14787077 0.14088943 0.1305408\n",
      " 0.12300792 0.11820372 0.11892943 0.11839241 0.11566373 0.11248512\n",
      " 0.11512671 0.1110337  0.1119481  0.11331243 0.11077245 0.11248512\n",
      " 0.11485094 0.11367529 0.1110337  0.12083079 0.10913234 0.10232518\n",
      " 0.09924816 0.09743389 0.09361665 0.09555135]\n",
      "1 day output [[0.09535251]]\n",
      "2 day input [0.1768121  0.15948213 0.16238497 0.15739209 0.14968504 0.1467822\n",
      " 0.15702923 0.16347354 0.15839357 0.15803071 0.15929345 0.16338646\n",
      " 0.16673924 0.15803071 0.17009202 0.14731923 0.14533078 0.14115069\n",
      " 0.14816105 0.14968504 0.14614357 0.14242794 0.14768208 0.14659352\n",
      " 0.15367645 0.14904642 0.13879938 0.14569363 0.14441638 0.14768208\n",
      " 0.14650643 0.13771082 0.13090365 0.12437226 0.12646231 0.13154228\n",
      " 0.12845075 0.14061366 0.14088943 0.14387936 0.13517083 0.14251502\n",
      " 0.14569363 0.13562077 0.13181805 0.12673808 0.12138233 0.10750675\n",
      " 0.11557665 0.12283375 0.12537374 0.11884235 0.13190514 0.129728\n",
      " 0.14342942 0.13017794 0.12654939 0.12710093 0.12347238 0.12509797\n",
      " 0.13117942 0.12601237 0.129728   0.12319661 0.12609945 0.12364655\n",
      " 0.12174519 0.11865366 0.12464803 0.13045371 0.13371941 0.14070075\n",
      " 0.15194926 0.14932219 0.14787077 0.14088943 0.1305408  0.12300792\n",
      " 0.11820372 0.11892943 0.11839241 0.11566373 0.11248512 0.11512671\n",
      " 0.1110337  0.1119481  0.11331243 0.11077245 0.11248512 0.11485094\n",
      " 0.11367529 0.1110337  0.12083079 0.10913234 0.10232518 0.09924816\n",
      " 0.09743389 0.09361665 0.09555135 0.09535251]\n",
      "2 day output [[0.09602478]]\n",
      "3 day input [0.15948213 0.16238497 0.15739209 0.14968504 0.1467822  0.15702923\n",
      " 0.16347354 0.15839357 0.15803071 0.15929345 0.16338646 0.16673924\n",
      " 0.15803071 0.17009202 0.14731923 0.14533078 0.14115069 0.14816105\n",
      " 0.14968504 0.14614357 0.14242794 0.14768208 0.14659352 0.15367645\n",
      " 0.14904642 0.13879938 0.14569363 0.14441638 0.14768208 0.14650643\n",
      " 0.13771082 0.13090365 0.12437226 0.12646231 0.13154228 0.12845075\n",
      " 0.14061366 0.14088943 0.14387936 0.13517083 0.14251502 0.14569363\n",
      " 0.13562077 0.13181805 0.12673808 0.12138233 0.10750675 0.11557665\n",
      " 0.12283375 0.12537374 0.11884235 0.13190514 0.129728   0.14342942\n",
      " 0.13017794 0.12654939 0.12710093 0.12347238 0.12509797 0.13117942\n",
      " 0.12601237 0.129728   0.12319661 0.12609945 0.12364655 0.12174519\n",
      " 0.11865366 0.12464803 0.13045371 0.13371941 0.14070075 0.15194926\n",
      " 0.14932219 0.14787077 0.14088943 0.1305408  0.12300792 0.11820372\n",
      " 0.11892943 0.11839241 0.11566373 0.11248512 0.11512671 0.1110337\n",
      " 0.1119481  0.11331243 0.11077245 0.11248512 0.11485094 0.11367529\n",
      " 0.1110337  0.12083079 0.10913234 0.10232518 0.09924816 0.09743389\n",
      " 0.09361665 0.09555135 0.09535251 0.09602478]\n",
      "3 day output [[0.09717664]]\n",
      "4 day input [0.16238497 0.15739209 0.14968504 0.1467822  0.15702923 0.16347354\n",
      " 0.15839357 0.15803071 0.15929345 0.16338646 0.16673924 0.15803071\n",
      " 0.17009202 0.14731923 0.14533078 0.14115069 0.14816105 0.14968504\n",
      " 0.14614357 0.14242794 0.14768208 0.14659352 0.15367645 0.14904642\n",
      " 0.13879938 0.14569363 0.14441638 0.14768208 0.14650643 0.13771082\n",
      " 0.13090365 0.12437226 0.12646231 0.13154228 0.12845075 0.14061366\n",
      " 0.14088943 0.14387936 0.13517083 0.14251502 0.14569363 0.13562077\n",
      " 0.13181805 0.12673808 0.12138233 0.10750675 0.11557665 0.12283375\n",
      " 0.12537374 0.11884235 0.13190514 0.129728   0.14342942 0.13017794\n",
      " 0.12654939 0.12710093 0.12347238 0.12509797 0.13117942 0.12601237\n",
      " 0.129728   0.12319661 0.12609945 0.12364655 0.12174519 0.11865366\n",
      " 0.12464803 0.13045371 0.13371941 0.14070075 0.15194926 0.14932219\n",
      " 0.14787077 0.14088943 0.1305408  0.12300792 0.11820372 0.11892943\n",
      " 0.11839241 0.11566373 0.11248512 0.11512671 0.1110337  0.1119481\n",
      " 0.11331243 0.11077245 0.11248512 0.11485094 0.11367529 0.1110337\n",
      " 0.12083079 0.10913234 0.10232518 0.09924816 0.09743389 0.09361665\n",
      " 0.09555135 0.09535251 0.09602478 0.09717664]\n",
      "4 day output [[0.09868003]]\n",
      "5 day input [0.15739209 0.14968504 0.1467822  0.15702923 0.16347354 0.15839357\n",
      " 0.15803071 0.15929345 0.16338646 0.16673924 0.15803071 0.17009202\n",
      " 0.14731923 0.14533078 0.14115069 0.14816105 0.14968504 0.14614357\n",
      " 0.14242794 0.14768208 0.14659352 0.15367645 0.14904642 0.13879938\n",
      " 0.14569363 0.14441638 0.14768208 0.14650643 0.13771082 0.13090365\n",
      " 0.12437226 0.12646231 0.13154228 0.12845075 0.14061366 0.14088943\n",
      " 0.14387936 0.13517083 0.14251502 0.14569363 0.13562077 0.13181805\n",
      " 0.12673808 0.12138233 0.10750675 0.11557665 0.12283375 0.12537374\n",
      " 0.11884235 0.13190514 0.129728   0.14342942 0.13017794 0.12654939\n",
      " 0.12710093 0.12347238 0.12509797 0.13117942 0.12601237 0.129728\n",
      " 0.12319661 0.12609945 0.12364655 0.12174519 0.11865366 0.12464803\n",
      " 0.13045371 0.13371941 0.14070075 0.15194926 0.14932219 0.14787077\n",
      " 0.14088943 0.1305408  0.12300792 0.11820372 0.11892943 0.11839241\n",
      " 0.11566373 0.11248512 0.11512671 0.1110337  0.1119481  0.11331243\n",
      " 0.11077245 0.11248512 0.11485094 0.11367529 0.1110337  0.12083079\n",
      " 0.10913234 0.10232518 0.09924816 0.09743389 0.09361665 0.09555135\n",
      " 0.09535251 0.09602478 0.09717664 0.09868003]\n",
      "5 day output [[0.10044862]]\n",
      "6 day input [0.14968504 0.1467822  0.15702923 0.16347354 0.15839357 0.15803071\n",
      " 0.15929345 0.16338646 0.16673924 0.15803071 0.17009202 0.14731923\n",
      " 0.14533078 0.14115069 0.14816105 0.14968504 0.14614357 0.14242794\n",
      " 0.14768208 0.14659352 0.15367645 0.14904642 0.13879938 0.14569363\n",
      " 0.14441638 0.14768208 0.14650643 0.13771082 0.13090365 0.12437226\n",
      " 0.12646231 0.13154228 0.12845075 0.14061366 0.14088943 0.14387936\n",
      " 0.13517083 0.14251502 0.14569363 0.13562077 0.13181805 0.12673808\n",
      " 0.12138233 0.10750675 0.11557665 0.12283375 0.12537374 0.11884235\n",
      " 0.13190514 0.129728   0.14342942 0.13017794 0.12654939 0.12710093\n",
      " 0.12347238 0.12509797 0.13117942 0.12601237 0.129728   0.12319661\n",
      " 0.12609945 0.12364655 0.12174519 0.11865366 0.12464803 0.13045371\n",
      " 0.13371941 0.14070075 0.15194926 0.14932219 0.14787077 0.14088943\n",
      " 0.1305408  0.12300792 0.11820372 0.11892943 0.11839241 0.11566373\n",
      " 0.11248512 0.11512671 0.1110337  0.1119481  0.11331243 0.11077245\n",
      " 0.11248512 0.11485094 0.11367529 0.1110337  0.12083079 0.10913234\n",
      " 0.10232518 0.09924816 0.09743389 0.09361665 0.09555135 0.09535251\n",
      " 0.09602478 0.09717664 0.09868003 0.10044862]\n",
      "6 day output [[0.1024063]]\n",
      "7 day input [0.1467822  0.15702923 0.16347354 0.15839357 0.15803071 0.15929345\n",
      " 0.16338646 0.16673924 0.15803071 0.17009202 0.14731923 0.14533078\n",
      " 0.14115069 0.14816105 0.14968504 0.14614357 0.14242794 0.14768208\n",
      " 0.14659352 0.15367645 0.14904642 0.13879938 0.14569363 0.14441638\n",
      " 0.14768208 0.14650643 0.13771082 0.13090365 0.12437226 0.12646231\n",
      " 0.13154228 0.12845075 0.14061366 0.14088943 0.14387936 0.13517083\n",
      " 0.14251502 0.14569363 0.13562077 0.13181805 0.12673808 0.12138233\n",
      " 0.10750675 0.11557665 0.12283375 0.12537374 0.11884235 0.13190514\n",
      " 0.129728   0.14342942 0.13017794 0.12654939 0.12710093 0.12347238\n",
      " 0.12509797 0.13117942 0.12601237 0.129728   0.12319661 0.12609945\n",
      " 0.12364655 0.12174519 0.11865366 0.12464803 0.13045371 0.13371941\n",
      " 0.14070075 0.15194926 0.14932219 0.14787077 0.14088943 0.1305408\n",
      " 0.12300792 0.11820372 0.11892943 0.11839241 0.11566373 0.11248512\n",
      " 0.11512671 0.1110337  0.1119481  0.11331243 0.11077245 0.11248512\n",
      " 0.11485094 0.11367529 0.1110337  0.12083079 0.10913234 0.10232518\n",
      " 0.09924816 0.09743389 0.09361665 0.09555135 0.09535251 0.09602478\n",
      " 0.09717664 0.09868003 0.10044862 0.1024063 ]\n",
      "7 day output [[0.10448517]]\n",
      "8 day input [0.15702923 0.16347354 0.15839357 0.15803071 0.15929345 0.16338646\n",
      " 0.16673924 0.15803071 0.17009202 0.14731923 0.14533078 0.14115069\n",
      " 0.14816105 0.14968504 0.14614357 0.14242794 0.14768208 0.14659352\n",
      " 0.15367645 0.14904642 0.13879938 0.14569363 0.14441638 0.14768208\n",
      " 0.14650643 0.13771082 0.13090365 0.12437226 0.12646231 0.13154228\n",
      " 0.12845075 0.14061366 0.14088943 0.14387936 0.13517083 0.14251502\n",
      " 0.14569363 0.13562077 0.13181805 0.12673808 0.12138233 0.10750675\n",
      " 0.11557665 0.12283375 0.12537374 0.11884235 0.13190514 0.129728\n",
      " 0.14342942 0.13017794 0.12654939 0.12710093 0.12347238 0.12509797\n",
      " 0.13117942 0.12601237 0.129728   0.12319661 0.12609945 0.12364655\n",
      " 0.12174519 0.11865366 0.12464803 0.13045371 0.13371941 0.14070075\n",
      " 0.15194926 0.14932219 0.14787077 0.14088943 0.1305408  0.12300792\n",
      " 0.11820372 0.11892943 0.11839241 0.11566373 0.11248512 0.11512671\n",
      " 0.1110337  0.1119481  0.11331243 0.11077245 0.11248512 0.11485094\n",
      " 0.11367529 0.1110337  0.12083079 0.10913234 0.10232518 0.09924816\n",
      " 0.09743389 0.09361665 0.09555135 0.09535251 0.09602478 0.09717664\n",
      " 0.09868003 0.10044862 0.1024063  0.10448517]\n",
      "8 day output [[0.10662611]]\n",
      "9 day input [0.16347354 0.15839357 0.15803071 0.15929345 0.16338646 0.16673924\n",
      " 0.15803071 0.17009202 0.14731923 0.14533078 0.14115069 0.14816105\n",
      " 0.14968504 0.14614357 0.14242794 0.14768208 0.14659352 0.15367645\n",
      " 0.14904642 0.13879938 0.14569363 0.14441638 0.14768208 0.14650643\n",
      " 0.13771082 0.13090365 0.12437226 0.12646231 0.13154228 0.12845075\n",
      " 0.14061366 0.14088943 0.14387936 0.13517083 0.14251502 0.14569363\n",
      " 0.13562077 0.13181805 0.12673808 0.12138233 0.10750675 0.11557665\n",
      " 0.12283375 0.12537374 0.11884235 0.13190514 0.129728   0.14342942\n",
      " 0.13017794 0.12654939 0.12710093 0.12347238 0.12509797 0.13117942\n",
      " 0.12601237 0.129728   0.12319661 0.12609945 0.12364655 0.12174519\n",
      " 0.11865366 0.12464803 0.13045371 0.13371941 0.14070075 0.15194926\n",
      " 0.14932219 0.14787077 0.14088943 0.1305408  0.12300792 0.11820372\n",
      " 0.11892943 0.11839241 0.11566373 0.11248512 0.11512671 0.1110337\n",
      " 0.1119481  0.11331243 0.11077245 0.11248512 0.11485094 0.11367529\n",
      " 0.1110337  0.12083079 0.10913234 0.10232518 0.09924816 0.09743389\n",
      " 0.09361665 0.09555135 0.09535251 0.09602478 0.09717664 0.09868003\n",
      " 0.10044862 0.1024063  0.10448517 0.10662611]\n",
      "9 day output [[0.10877923]]\n",
      "10 day input [0.15839357 0.15803071 0.15929345 0.16338646 0.16673924 0.15803071\n",
      " 0.17009202 0.14731923 0.14533078 0.14115069 0.14816105 0.14968504\n",
      " 0.14614357 0.14242794 0.14768208 0.14659352 0.15367645 0.14904642\n",
      " 0.13879938 0.14569363 0.14441638 0.14768208 0.14650643 0.13771082\n",
      " 0.13090365 0.12437226 0.12646231 0.13154228 0.12845075 0.14061366\n",
      " 0.14088943 0.14387936 0.13517083 0.14251502 0.14569363 0.13562077\n",
      " 0.13181805 0.12673808 0.12138233 0.10750675 0.11557665 0.12283375\n",
      " 0.12537374 0.11884235 0.13190514 0.129728   0.14342942 0.13017794\n",
      " 0.12654939 0.12710093 0.12347238 0.12509797 0.13117942 0.12601237\n",
      " 0.129728   0.12319661 0.12609945 0.12364655 0.12174519 0.11865366\n",
      " 0.12464803 0.13045371 0.13371941 0.14070075 0.15194926 0.14932219\n",
      " 0.14787077 0.14088943 0.1305408  0.12300792 0.11820372 0.11892943\n",
      " 0.11839241 0.11566373 0.11248512 0.11512671 0.1110337  0.1119481\n",
      " 0.11331243 0.11077245 0.11248512 0.11485094 0.11367529 0.1110337\n",
      " 0.12083079 0.10913234 0.10232518 0.09924816 0.09743389 0.09361665\n",
      " 0.09555135 0.09535251 0.09602478 0.09717664 0.09868003 0.10044862\n",
      " 0.1024063  0.10448517 0.10662611 0.10877923]\n",
      "10 day output [[0.11090387]]\n",
      "11 day input [0.15803071 0.15929345 0.16338646 0.16673924 0.15803071 0.17009202\n",
      " 0.14731923 0.14533078 0.14115069 0.14816105 0.14968504 0.14614357\n",
      " 0.14242794 0.14768208 0.14659352 0.15367645 0.14904642 0.13879938\n",
      " 0.14569363 0.14441638 0.14768208 0.14650643 0.13771082 0.13090365\n",
      " 0.12437226 0.12646231 0.13154228 0.12845075 0.14061366 0.14088943\n",
      " 0.14387936 0.13517083 0.14251502 0.14569363 0.13562077 0.13181805\n",
      " 0.12673808 0.12138233 0.10750675 0.11557665 0.12283375 0.12537374\n",
      " 0.11884235 0.13190514 0.129728   0.14342942 0.13017794 0.12654939\n",
      " 0.12710093 0.12347238 0.12509797 0.13117942 0.12601237 0.129728\n",
      " 0.12319661 0.12609945 0.12364655 0.12174519 0.11865366 0.12464803\n",
      " 0.13045371 0.13371941 0.14070075 0.15194926 0.14932219 0.14787077\n",
      " 0.14088943 0.1305408  0.12300792 0.11820372 0.11892943 0.11839241\n",
      " 0.11566373 0.11248512 0.11512671 0.1110337  0.1119481  0.11331243\n",
      " 0.11077245 0.11248512 0.11485094 0.11367529 0.1110337  0.12083079\n",
      " 0.10913234 0.10232518 0.09924816 0.09743389 0.09361665 0.09555135\n",
      " 0.09535251 0.09602478 0.09717664 0.09868003 0.10044862 0.1024063\n",
      " 0.10448517 0.10662611 0.10877923 0.11090387]\n",
      "11 day output [[0.11296827]]\n",
      "12 day input [0.15929345 0.16338646 0.16673924 0.15803071 0.17009202 0.14731923\n",
      " 0.14533078 0.14115069 0.14816105 0.14968504 0.14614357 0.14242794\n",
      " 0.14768208 0.14659352 0.15367645 0.14904642 0.13879938 0.14569363\n",
      " 0.14441638 0.14768208 0.14650643 0.13771082 0.13090365 0.12437226\n",
      " 0.12646231 0.13154228 0.12845075 0.14061366 0.14088943 0.14387936\n",
      " 0.13517083 0.14251502 0.14569363 0.13562077 0.13181805 0.12673808\n",
      " 0.12138233 0.10750675 0.11557665 0.12283375 0.12537374 0.11884235\n",
      " 0.13190514 0.129728   0.14342942 0.13017794 0.12654939 0.12710093\n",
      " 0.12347238 0.12509797 0.13117942 0.12601237 0.129728   0.12319661\n",
      " 0.12609945 0.12364655 0.12174519 0.11865366 0.12464803 0.13045371\n",
      " 0.13371941 0.14070075 0.15194926 0.14932219 0.14787077 0.14088943\n",
      " 0.1305408  0.12300792 0.11820372 0.11892943 0.11839241 0.11566373\n",
      " 0.11248512 0.11512671 0.1110337  0.1119481  0.11331243 0.11077245\n",
      " 0.11248512 0.11485094 0.11367529 0.1110337  0.12083079 0.10913234\n",
      " 0.10232518 0.09924816 0.09743389 0.09361665 0.09555135 0.09535251\n",
      " 0.09602478 0.09717664 0.09868003 0.10044862 0.1024063  0.10448517\n",
      " 0.10662611 0.10877923 0.11090387 0.11296827]\n",
      "12 day output [[0.11494882]]\n",
      "13 day input [0.16338646 0.16673924 0.15803071 0.17009202 0.14731923 0.14533078\n",
      " 0.14115069 0.14816105 0.14968504 0.14614357 0.14242794 0.14768208\n",
      " 0.14659352 0.15367645 0.14904642 0.13879938 0.14569363 0.14441638\n",
      " 0.14768208 0.14650643 0.13771082 0.13090365 0.12437226 0.12646231\n",
      " 0.13154228 0.12845075 0.14061366 0.14088943 0.14387936 0.13517083\n",
      " 0.14251502 0.14569363 0.13562077 0.13181805 0.12673808 0.12138233\n",
      " 0.10750675 0.11557665 0.12283375 0.12537374 0.11884235 0.13190514\n",
      " 0.129728   0.14342942 0.13017794 0.12654939 0.12710093 0.12347238\n",
      " 0.12509797 0.13117942 0.12601237 0.129728   0.12319661 0.12609945\n",
      " 0.12364655 0.12174519 0.11865366 0.12464803 0.13045371 0.13371941\n",
      " 0.14070075 0.15194926 0.14932219 0.14787077 0.14088943 0.1305408\n",
      " 0.12300792 0.11820372 0.11892943 0.11839241 0.11566373 0.11248512\n",
      " 0.11512671 0.1110337  0.1119481  0.11331243 0.11077245 0.11248512\n",
      " 0.11485094 0.11367529 0.1110337  0.12083079 0.10913234 0.10232518\n",
      " 0.09924816 0.09743389 0.09361665 0.09555135 0.09535251 0.09602478\n",
      " 0.09717664 0.09868003 0.10044862 0.1024063  0.10448517 0.10662611\n",
      " 0.10877923 0.11090387 0.11296827 0.11494882]\n",
      "13 day output [[0.11682922]]\n",
      "14 day input [0.16673924 0.15803071 0.17009202 0.14731923 0.14533078 0.14115069\n",
      " 0.14816105 0.14968504 0.14614357 0.14242794 0.14768208 0.14659352\n",
      " 0.15367645 0.14904642 0.13879938 0.14569363 0.14441638 0.14768208\n",
      " 0.14650643 0.13771082 0.13090365 0.12437226 0.12646231 0.13154228\n",
      " 0.12845075 0.14061366 0.14088943 0.14387936 0.13517083 0.14251502\n",
      " 0.14569363 0.13562077 0.13181805 0.12673808 0.12138233 0.10750675\n",
      " 0.11557665 0.12283375 0.12537374 0.11884235 0.13190514 0.129728\n",
      " 0.14342942 0.13017794 0.12654939 0.12710093 0.12347238 0.12509797\n",
      " 0.13117942 0.12601237 0.129728   0.12319661 0.12609945 0.12364655\n",
      " 0.12174519 0.11865366 0.12464803 0.13045371 0.13371941 0.14070075\n",
      " 0.15194926 0.14932219 0.14787077 0.14088943 0.1305408  0.12300792\n",
      " 0.11820372 0.11892943 0.11839241 0.11566373 0.11248512 0.11512671\n",
      " 0.1110337  0.1119481  0.11331243 0.11077245 0.11248512 0.11485094\n",
      " 0.11367529 0.1110337  0.12083079 0.10913234 0.10232518 0.09924816\n",
      " 0.09743389 0.09361665 0.09555135 0.09535251 0.09602478 0.09717664\n",
      " 0.09868003 0.10044862 0.1024063  0.10448517 0.10662611 0.10877923\n",
      " 0.11090387 0.11296827 0.11494882 0.11682922]\n",
      "14 day output [[0.11859956]]\n",
      "15 day input [0.15803071 0.17009202 0.14731923 0.14533078 0.14115069 0.14816105\n",
      " 0.14968504 0.14614357 0.14242794 0.14768208 0.14659352 0.15367645\n",
      " 0.14904642 0.13879938 0.14569363 0.14441638 0.14768208 0.14650643\n",
      " 0.13771082 0.13090365 0.12437226 0.12646231 0.13154228 0.12845075\n",
      " 0.14061366 0.14088943 0.14387936 0.13517083 0.14251502 0.14569363\n",
      " 0.13562077 0.13181805 0.12673808 0.12138233 0.10750675 0.11557665\n",
      " 0.12283375 0.12537374 0.11884235 0.13190514 0.129728   0.14342942\n",
      " 0.13017794 0.12654939 0.12710093 0.12347238 0.12509797 0.13117942\n",
      " 0.12601237 0.129728   0.12319661 0.12609945 0.12364655 0.12174519\n",
      " 0.11865366 0.12464803 0.13045371 0.13371941 0.14070075 0.15194926\n",
      " 0.14932219 0.14787077 0.14088943 0.1305408  0.12300792 0.11820372\n",
      " 0.11892943 0.11839241 0.11566373 0.11248512 0.11512671 0.1110337\n",
      " 0.1119481  0.11331243 0.11077245 0.11248512 0.11485094 0.11367529\n",
      " 0.1110337  0.12083079 0.10913234 0.10232518 0.09924816 0.09743389\n",
      " 0.09361665 0.09555135 0.09535251 0.09602478 0.09717664 0.09868003\n",
      " 0.10044862 0.1024063  0.10448517 0.10662611 0.10877923 0.11090387\n",
      " 0.11296827 0.11494882 0.11682922 0.11859956]\n",
      "15 day output [[0.12025505]]\n",
      "16 day input [0.17009202 0.14731923 0.14533078 0.14115069 0.14816105 0.14968504\n",
      " 0.14614357 0.14242794 0.14768208 0.14659352 0.15367645 0.14904642\n",
      " 0.13879938 0.14569363 0.14441638 0.14768208 0.14650643 0.13771082\n",
      " 0.13090365 0.12437226 0.12646231 0.13154228 0.12845075 0.14061366\n",
      " 0.14088943 0.14387936 0.13517083 0.14251502 0.14569363 0.13562077\n",
      " 0.13181805 0.12673808 0.12138233 0.10750675 0.11557665 0.12283375\n",
      " 0.12537374 0.11884235 0.13190514 0.129728   0.14342942 0.13017794\n",
      " 0.12654939 0.12710093 0.12347238 0.12509797 0.13117942 0.12601237\n",
      " 0.129728   0.12319661 0.12609945 0.12364655 0.12174519 0.11865366\n",
      " 0.12464803 0.13045371 0.13371941 0.14070075 0.15194926 0.14932219\n",
      " 0.14787077 0.14088943 0.1305408  0.12300792 0.11820372 0.11892943\n",
      " 0.11839241 0.11566373 0.11248512 0.11512671 0.1110337  0.1119481\n",
      " 0.11331243 0.11077245 0.11248512 0.11485094 0.11367529 0.1110337\n",
      " 0.12083079 0.10913234 0.10232518 0.09924816 0.09743389 0.09361665\n",
      " 0.09555135 0.09535251 0.09602478 0.09717664 0.09868003 0.10044862\n",
      " 0.1024063  0.10448517 0.10662611 0.10877923 0.11090387 0.11296827\n",
      " 0.11494882 0.11682922 0.11859956 0.12025505]\n",
      "16 day output [[0.12179522]]\n",
      "17 day input [0.14731923 0.14533078 0.14115069 0.14816105 0.14968504 0.14614357\n",
      " 0.14242794 0.14768208 0.14659352 0.15367645 0.14904642 0.13879938\n",
      " 0.14569363 0.14441638 0.14768208 0.14650643 0.13771082 0.13090365\n",
      " 0.12437226 0.12646231 0.13154228 0.12845075 0.14061366 0.14088943\n",
      " 0.14387936 0.13517083 0.14251502 0.14569363 0.13562077 0.13181805\n",
      " 0.12673808 0.12138233 0.10750675 0.11557665 0.12283375 0.12537374\n",
      " 0.11884235 0.13190514 0.129728   0.14342942 0.13017794 0.12654939\n",
      " 0.12710093 0.12347238 0.12509797 0.13117942 0.12601237 0.129728\n",
      " 0.12319661 0.12609945 0.12364655 0.12174519 0.11865366 0.12464803\n",
      " 0.13045371 0.13371941 0.14070075 0.15194926 0.14932219 0.14787077\n",
      " 0.14088943 0.1305408  0.12300792 0.11820372 0.11892943 0.11839241\n",
      " 0.11566373 0.11248512 0.11512671 0.1110337  0.1119481  0.11331243\n",
      " 0.11077245 0.11248512 0.11485094 0.11367529 0.1110337  0.12083079\n",
      " 0.10913234 0.10232518 0.09924816 0.09743389 0.09361665 0.09555135\n",
      " 0.09535251 0.09602478 0.09717664 0.09868003 0.10044862 0.1024063\n",
      " 0.10448517 0.10662611 0.10877923 0.11090387 0.11296827 0.11494882\n",
      " 0.11682922 0.11859956 0.12025505 0.12179522]\n",
      "17 day output [[0.12322279]]\n",
      "18 day input [0.14533078 0.14115069 0.14816105 0.14968504 0.14614357 0.14242794\n",
      " 0.14768208 0.14659352 0.15367645 0.14904642 0.13879938 0.14569363\n",
      " 0.14441638 0.14768208 0.14650643 0.13771082 0.13090365 0.12437226\n",
      " 0.12646231 0.13154228 0.12845075 0.14061366 0.14088943 0.14387936\n",
      " 0.13517083 0.14251502 0.14569363 0.13562077 0.13181805 0.12673808\n",
      " 0.12138233 0.10750675 0.11557665 0.12283375 0.12537374 0.11884235\n",
      " 0.13190514 0.129728   0.14342942 0.13017794 0.12654939 0.12710093\n",
      " 0.12347238 0.12509797 0.13117942 0.12601237 0.129728   0.12319661\n",
      " 0.12609945 0.12364655 0.12174519 0.11865366 0.12464803 0.13045371\n",
      " 0.13371941 0.14070075 0.15194926 0.14932219 0.14787077 0.14088943\n",
      " 0.1305408  0.12300792 0.11820372 0.11892943 0.11839241 0.11566373\n",
      " 0.11248512 0.11512671 0.1110337  0.1119481  0.11331243 0.11077245\n",
      " 0.11248512 0.11485094 0.11367529 0.1110337  0.12083079 0.10913234\n",
      " 0.10232518 0.09924816 0.09743389 0.09361665 0.09555135 0.09535251\n",
      " 0.09602478 0.09717664 0.09868003 0.10044862 0.1024063  0.10448517\n",
      " 0.10662611 0.10877923 0.11090387 0.11296827 0.11494882 0.11682922\n",
      " 0.11859956 0.12025505 0.12179522 0.12322279]\n",
      "18 day output [[0.12454274]]\n",
      "19 day input [0.14115069 0.14816105 0.14968504 0.14614357 0.14242794 0.14768208\n",
      " 0.14659352 0.15367645 0.14904642 0.13879938 0.14569363 0.14441638\n",
      " 0.14768208 0.14650643 0.13771082 0.13090365 0.12437226 0.12646231\n",
      " 0.13154228 0.12845075 0.14061366 0.14088943 0.14387936 0.13517083\n",
      " 0.14251502 0.14569363 0.13562077 0.13181805 0.12673808 0.12138233\n",
      " 0.10750675 0.11557665 0.12283375 0.12537374 0.11884235 0.13190514\n",
      " 0.129728   0.14342942 0.13017794 0.12654939 0.12710093 0.12347238\n",
      " 0.12509797 0.13117942 0.12601237 0.129728   0.12319661 0.12609945\n",
      " 0.12364655 0.12174519 0.11865366 0.12464803 0.13045371 0.13371941\n",
      " 0.14070075 0.15194926 0.14932219 0.14787077 0.14088943 0.1305408\n",
      " 0.12300792 0.11820372 0.11892943 0.11839241 0.11566373 0.11248512\n",
      " 0.11512671 0.1110337  0.1119481  0.11331243 0.11077245 0.11248512\n",
      " 0.11485094 0.11367529 0.1110337  0.12083079 0.10913234 0.10232518\n",
      " 0.09924816 0.09743389 0.09361665 0.09555135 0.09535251 0.09602478\n",
      " 0.09717664 0.09868003 0.10044862 0.1024063  0.10448517 0.10662611\n",
      " 0.10877923 0.11090387 0.11296827 0.11494882 0.11682922 0.11859956\n",
      " 0.12025505 0.12179522 0.12322279 0.12454274]\n",
      "19 day output [[0.1257617]]\n",
      "20 day input [0.14816105 0.14968504 0.14614357 0.14242794 0.14768208 0.14659352\n",
      " 0.15367645 0.14904642 0.13879938 0.14569363 0.14441638 0.14768208\n",
      " 0.14650643 0.13771082 0.13090365 0.12437226 0.12646231 0.13154228\n",
      " 0.12845075 0.14061366 0.14088943 0.14387936 0.13517083 0.14251502\n",
      " 0.14569363 0.13562077 0.13181805 0.12673808 0.12138233 0.10750675\n",
      " 0.11557665 0.12283375 0.12537374 0.11884235 0.13190514 0.129728\n",
      " 0.14342942 0.13017794 0.12654939 0.12710093 0.12347238 0.12509797\n",
      " 0.13117942 0.12601237 0.129728   0.12319661 0.12609945 0.12364655\n",
      " 0.12174519 0.11865366 0.12464803 0.13045371 0.13371941 0.14070075\n",
      " 0.15194926 0.14932219 0.14787077 0.14088943 0.1305408  0.12300792\n",
      " 0.11820372 0.11892943 0.11839241 0.11566373 0.11248512 0.11512671\n",
      " 0.1110337  0.1119481  0.11331243 0.11077245 0.11248512 0.11485094\n",
      " 0.11367529 0.1110337  0.12083079 0.10913234 0.10232518 0.09924816\n",
      " 0.09743389 0.09361665 0.09555135 0.09535251 0.09602478 0.09717664\n",
      " 0.09868003 0.10044862 0.1024063  0.10448517 0.10662611 0.10877923\n",
      " 0.11090387 0.11296827 0.11494882 0.11682922 0.11859956 0.12025505\n",
      " 0.12179522 0.12322279 0.12454274 0.1257617 ]\n",
      "20 day output [[0.12688717]]\n",
      "21 day input [0.14968504 0.14614357 0.14242794 0.14768208 0.14659352 0.15367645\n",
      " 0.14904642 0.13879938 0.14569363 0.14441638 0.14768208 0.14650643\n",
      " 0.13771082 0.13090365 0.12437226 0.12646231 0.13154228 0.12845075\n",
      " 0.14061366 0.14088943 0.14387936 0.13517083 0.14251502 0.14569363\n",
      " 0.13562077 0.13181805 0.12673808 0.12138233 0.10750675 0.11557665\n",
      " 0.12283375 0.12537374 0.11884235 0.13190514 0.129728   0.14342942\n",
      " 0.13017794 0.12654939 0.12710093 0.12347238 0.12509797 0.13117942\n",
      " 0.12601237 0.129728   0.12319661 0.12609945 0.12364655 0.12174519\n",
      " 0.11865366 0.12464803 0.13045371 0.13371941 0.14070075 0.15194926\n",
      " 0.14932219 0.14787077 0.14088943 0.1305408  0.12300792 0.11820372\n",
      " 0.11892943 0.11839241 0.11566373 0.11248512 0.11512671 0.1110337\n",
      " 0.1119481  0.11331243 0.11077245 0.11248512 0.11485094 0.11367529\n",
      " 0.1110337  0.12083079 0.10913234 0.10232518 0.09924816 0.09743389\n",
      " 0.09361665 0.09555135 0.09535251 0.09602478 0.09717664 0.09868003\n",
      " 0.10044862 0.1024063  0.10448517 0.10662611 0.10877923 0.11090387\n",
      " 0.11296827 0.11494882 0.11682922 0.11859956 0.12025505 0.12179522\n",
      " 0.12322279 0.12454274 0.1257617  0.12688717]\n",
      "21 day output [[0.12792714]]\n",
      "22 day input [0.14614357 0.14242794 0.14768208 0.14659352 0.15367645 0.14904642\n",
      " 0.13879938 0.14569363 0.14441638 0.14768208 0.14650643 0.13771082\n",
      " 0.13090365 0.12437226 0.12646231 0.13154228 0.12845075 0.14061366\n",
      " 0.14088943 0.14387936 0.13517083 0.14251502 0.14569363 0.13562077\n",
      " 0.13181805 0.12673808 0.12138233 0.10750675 0.11557665 0.12283375\n",
      " 0.12537374 0.11884235 0.13190514 0.129728   0.14342942 0.13017794\n",
      " 0.12654939 0.12710093 0.12347238 0.12509797 0.13117942 0.12601237\n",
      " 0.129728   0.12319661 0.12609945 0.12364655 0.12174519 0.11865366\n",
      " 0.12464803 0.13045371 0.13371941 0.14070075 0.15194926 0.14932219\n",
      " 0.14787077 0.14088943 0.1305408  0.12300792 0.11820372 0.11892943\n",
      " 0.11839241 0.11566373 0.11248512 0.11512671 0.1110337  0.1119481\n",
      " 0.11331243 0.11077245 0.11248512 0.11485094 0.11367529 0.1110337\n",
      " 0.12083079 0.10913234 0.10232518 0.09924816 0.09743389 0.09361665\n",
      " 0.09555135 0.09535251 0.09602478 0.09717664 0.09868003 0.10044862\n",
      " 0.1024063  0.10448517 0.10662611 0.10877923 0.11090387 0.11296827\n",
      " 0.11494882 0.11682922 0.11859956 0.12025505 0.12179522 0.12322279\n",
      " 0.12454274 0.1257617  0.12688717 0.12792714]\n",
      "22 day output [[0.12888965]]\n",
      "23 day input [0.14242794 0.14768208 0.14659352 0.15367645 0.14904642 0.13879938\n",
      " 0.14569363 0.14441638 0.14768208 0.14650643 0.13771082 0.13090365\n",
      " 0.12437226 0.12646231 0.13154228 0.12845075 0.14061366 0.14088943\n",
      " 0.14387936 0.13517083 0.14251502 0.14569363 0.13562077 0.13181805\n",
      " 0.12673808 0.12138233 0.10750675 0.11557665 0.12283375 0.12537374\n",
      " 0.11884235 0.13190514 0.129728   0.14342942 0.13017794 0.12654939\n",
      " 0.12710093 0.12347238 0.12509797 0.13117942 0.12601237 0.129728\n",
      " 0.12319661 0.12609945 0.12364655 0.12174519 0.11865366 0.12464803\n",
      " 0.13045371 0.13371941 0.14070075 0.15194926 0.14932219 0.14787077\n",
      " 0.14088943 0.1305408  0.12300792 0.11820372 0.11892943 0.11839241\n",
      " 0.11566373 0.11248512 0.11512671 0.1110337  0.1119481  0.11331243\n",
      " 0.11077245 0.11248512 0.11485094 0.11367529 0.1110337  0.12083079\n",
      " 0.10913234 0.10232518 0.09924816 0.09743389 0.09361665 0.09555135\n",
      " 0.09535251 0.09602478 0.09717664 0.09868003 0.10044862 0.1024063\n",
      " 0.10448517 0.10662611 0.10877923 0.11090387 0.11296827 0.11494882\n",
      " 0.11682922 0.11859956 0.12025505 0.12179522 0.12322279 0.12454274\n",
      " 0.1257617  0.12688717 0.12792714 0.12888965]\n",
      "23 day output [[0.12978245]]\n",
      "24 day input [0.14768208 0.14659352 0.15367645 0.14904642 0.13879938 0.14569363\n",
      " 0.14441638 0.14768208 0.14650643 0.13771082 0.13090365 0.12437226\n",
      " 0.12646231 0.13154228 0.12845075 0.14061366 0.14088943 0.14387936\n",
      " 0.13517083 0.14251502 0.14569363 0.13562077 0.13181805 0.12673808\n",
      " 0.12138233 0.10750675 0.11557665 0.12283375 0.12537374 0.11884235\n",
      " 0.13190514 0.129728   0.14342942 0.13017794 0.12654939 0.12710093\n",
      " 0.12347238 0.12509797 0.13117942 0.12601237 0.129728   0.12319661\n",
      " 0.12609945 0.12364655 0.12174519 0.11865366 0.12464803 0.13045371\n",
      " 0.13371941 0.14070075 0.15194926 0.14932219 0.14787077 0.14088943\n",
      " 0.1305408  0.12300792 0.11820372 0.11892943 0.11839241 0.11566373\n",
      " 0.11248512 0.11512671 0.1110337  0.1119481  0.11331243 0.11077245\n",
      " 0.11248512 0.11485094 0.11367529 0.1110337  0.12083079 0.10913234\n",
      " 0.10232518 0.09924816 0.09743389 0.09361665 0.09555135 0.09535251\n",
      " 0.09602478 0.09717664 0.09868003 0.10044862 0.1024063  0.10448517\n",
      " 0.10662611 0.10877923 0.11090387 0.11296827 0.11494882 0.11682922\n",
      " 0.11859956 0.12025505 0.12179522 0.12322279 0.12454274 0.1257617\n",
      " 0.12688717 0.12792714 0.12888965 0.12978245]\n",
      "24 day output [[0.13061295]]\n",
      "25 day input [0.14659352 0.15367645 0.14904642 0.13879938 0.14569363 0.14441638\n",
      " 0.14768208 0.14650643 0.13771082 0.13090365 0.12437226 0.12646231\n",
      " 0.13154228 0.12845075 0.14061366 0.14088943 0.14387936 0.13517083\n",
      " 0.14251502 0.14569363 0.13562077 0.13181805 0.12673808 0.12138233\n",
      " 0.10750675 0.11557665 0.12283375 0.12537374 0.11884235 0.13190514\n",
      " 0.129728   0.14342942 0.13017794 0.12654939 0.12710093 0.12347238\n",
      " 0.12509797 0.13117942 0.12601237 0.129728   0.12319661 0.12609945\n",
      " 0.12364655 0.12174519 0.11865366 0.12464803 0.13045371 0.13371941\n",
      " 0.14070075 0.15194926 0.14932219 0.14787077 0.14088943 0.1305408\n",
      " 0.12300792 0.11820372 0.11892943 0.11839241 0.11566373 0.11248512\n",
      " 0.11512671 0.1110337  0.1119481  0.11331243 0.11077245 0.11248512\n",
      " 0.11485094 0.11367529 0.1110337  0.12083079 0.10913234 0.10232518\n",
      " 0.09924816 0.09743389 0.09361665 0.09555135 0.09535251 0.09602478\n",
      " 0.09717664 0.09868003 0.10044862 0.1024063  0.10448517 0.10662611\n",
      " 0.10877923 0.11090387 0.11296827 0.11494882 0.11682922 0.11859956\n",
      " 0.12025505 0.12179522 0.12322279 0.12454274 0.1257617  0.12688717\n",
      " 0.12792714 0.12888965 0.12978245 0.13061295]\n",
      "25 day output [[0.13138793]]\n",
      "26 day input [0.15367645 0.14904642 0.13879938 0.14569363 0.14441638 0.14768208\n",
      " 0.14650643 0.13771082 0.13090365 0.12437226 0.12646231 0.13154228\n",
      " 0.12845075 0.14061366 0.14088943 0.14387936 0.13517083 0.14251502\n",
      " 0.14569363 0.13562077 0.13181805 0.12673808 0.12138233 0.10750675\n",
      " 0.11557665 0.12283375 0.12537374 0.11884235 0.13190514 0.129728\n",
      " 0.14342942 0.13017794 0.12654939 0.12710093 0.12347238 0.12509797\n",
      " 0.13117942 0.12601237 0.129728   0.12319661 0.12609945 0.12364655\n",
      " 0.12174519 0.11865366 0.12464803 0.13045371 0.13371941 0.14070075\n",
      " 0.15194926 0.14932219 0.14787077 0.14088943 0.1305408  0.12300792\n",
      " 0.11820372 0.11892943 0.11839241 0.11566373 0.11248512 0.11512671\n",
      " 0.1110337  0.1119481  0.11331243 0.11077245 0.11248512 0.11485094\n",
      " 0.11367529 0.1110337  0.12083079 0.10913234 0.10232518 0.09924816\n",
      " 0.09743389 0.09361665 0.09555135 0.09535251 0.09602478 0.09717664\n",
      " 0.09868003 0.10044862 0.1024063  0.10448517 0.10662611 0.10877923\n",
      " 0.11090387 0.11296827 0.11494882 0.11682922 0.11859956 0.12025505\n",
      " 0.12179522 0.12322279 0.12454274 0.1257617  0.12688717 0.12792714\n",
      " 0.12888965 0.12978245 0.13061295 0.13138793]\n",
      "26 day output [[0.13211368]]\n",
      "27 day input [0.14904642 0.13879938 0.14569363 0.14441638 0.14768208 0.14650643\n",
      " 0.13771082 0.13090365 0.12437226 0.12646231 0.13154228 0.12845075\n",
      " 0.14061366 0.14088943 0.14387936 0.13517083 0.14251502 0.14569363\n",
      " 0.13562077 0.13181805 0.12673808 0.12138233 0.10750675 0.11557665\n",
      " 0.12283375 0.12537374 0.11884235 0.13190514 0.129728   0.14342942\n",
      " 0.13017794 0.12654939 0.12710093 0.12347238 0.12509797 0.13117942\n",
      " 0.12601237 0.129728   0.12319661 0.12609945 0.12364655 0.12174519\n",
      " 0.11865366 0.12464803 0.13045371 0.13371941 0.14070075 0.15194926\n",
      " 0.14932219 0.14787077 0.14088943 0.1305408  0.12300792 0.11820372\n",
      " 0.11892943 0.11839241 0.11566373 0.11248512 0.11512671 0.1110337\n",
      " 0.1119481  0.11331243 0.11077245 0.11248512 0.11485094 0.11367529\n",
      " 0.1110337  0.12083079 0.10913234 0.10232518 0.09924816 0.09743389\n",
      " 0.09361665 0.09555135 0.09535251 0.09602478 0.09717664 0.09868003\n",
      " 0.10044862 0.1024063  0.10448517 0.10662611 0.10877923 0.11090387\n",
      " 0.11296827 0.11494882 0.11682922 0.11859956 0.12025505 0.12179522\n",
      " 0.12322279 0.12454274 0.1257617  0.12688717 0.12792714 0.12888965\n",
      " 0.12978245 0.13061295 0.13138793 0.13211368]\n",
      "27 day output [[0.13279577]]\n",
      "28 day input [0.13879938 0.14569363 0.14441638 0.14768208 0.14650643 0.13771082\n",
      " 0.13090365 0.12437226 0.12646231 0.13154228 0.12845075 0.14061366\n",
      " 0.14088943 0.14387936 0.13517083 0.14251502 0.14569363 0.13562077\n",
      " 0.13181805 0.12673808 0.12138233 0.10750675 0.11557665 0.12283375\n",
      " 0.12537374 0.11884235 0.13190514 0.129728   0.14342942 0.13017794\n",
      " 0.12654939 0.12710093 0.12347238 0.12509797 0.13117942 0.12601237\n",
      " 0.129728   0.12319661 0.12609945 0.12364655 0.12174519 0.11865366\n",
      " 0.12464803 0.13045371 0.13371941 0.14070075 0.15194926 0.14932219\n",
      " 0.14787077 0.14088943 0.1305408  0.12300792 0.11820372 0.11892943\n",
      " 0.11839241 0.11566373 0.11248512 0.11512671 0.1110337  0.1119481\n",
      " 0.11331243 0.11077245 0.11248512 0.11485094 0.11367529 0.1110337\n",
      " 0.12083079 0.10913234 0.10232518 0.09924816 0.09743389 0.09361665\n",
      " 0.09555135 0.09535251 0.09602478 0.09717664 0.09868003 0.10044862\n",
      " 0.1024063  0.10448517 0.10662611 0.10877923 0.11090387 0.11296827\n",
      " 0.11494882 0.11682922 0.11859956 0.12025505 0.12179522 0.12322279\n",
      " 0.12454274 0.1257617  0.12688717 0.12792714 0.12888965 0.12978245\n",
      " 0.13061295 0.13138793 0.13211368 0.13279577]\n",
      "28 day output [[0.13343921]]\n",
      "29 day input [0.14569363 0.14441638 0.14768208 0.14650643 0.13771082 0.13090365\n",
      " 0.12437226 0.12646231 0.13154228 0.12845075 0.14061366 0.14088943\n",
      " 0.14387936 0.13517083 0.14251502 0.14569363 0.13562077 0.13181805\n",
      " 0.12673808 0.12138233 0.10750675 0.11557665 0.12283375 0.12537374\n",
      " 0.11884235 0.13190514 0.129728   0.14342942 0.13017794 0.12654939\n",
      " 0.12710093 0.12347238 0.12509797 0.13117942 0.12601237 0.129728\n",
      " 0.12319661 0.12609945 0.12364655 0.12174519 0.11865366 0.12464803\n",
      " 0.13045371 0.13371941 0.14070075 0.15194926 0.14932219 0.14787077\n",
      " 0.14088943 0.1305408  0.12300792 0.11820372 0.11892943 0.11839241\n",
      " 0.11566373 0.11248512 0.11512671 0.1110337  0.1119481  0.11331243\n",
      " 0.11077245 0.11248512 0.11485094 0.11367529 0.1110337  0.12083079\n",
      " 0.10913234 0.10232518 0.09924816 0.09743389 0.09361665 0.09555135\n",
      " 0.09535251 0.09602478 0.09717664 0.09868003 0.10044862 0.1024063\n",
      " 0.10448517 0.10662611 0.10877923 0.11090387 0.11296827 0.11494882\n",
      " 0.11682922 0.11859956 0.12025505 0.12179522 0.12322279 0.12454274\n",
      " 0.1257617  0.12688717 0.12792714 0.12888965 0.12978245 0.13061295\n",
      " 0.13138793 0.13211368 0.13279577 0.13343921]\n",
      "29 day output [[0.1340484]]\n",
      "[[0.09555134922266006], [0.09535250812768936], [0.0960247814655304], [0.09717664122581482], [0.0986800268292427], [0.1004486158490181], [0.10240630060434341], [0.1044851690530777], [0.10662610828876495], [0.10877922922372818], [0.11090387403964996], [0.11296827346086502], [0.1149488165974617], [0.11682921648025513], [0.1185995563864708], [0.12025504559278488], [0.12179522216320038], [0.12322279065847397], [0.12454274296760559], [0.1257617026567459], [0.12688717246055603], [0.12792713940143585], [0.12888965010643005], [0.12978245317935944], [0.13061295449733734], [0.13138793408870697], [0.13211368024349213], [0.1327957659959793], [0.13343921303749084], [0.13404840230941772]]\n"
     ]
    },
    {
     "name": "stdout",
     "output_type": "stream",
     "text": [
      "20 day output [[0.90279734]]\n",
      "21 day input [0.92531453 0.92172591 0.96474711 0.97572406 0.99159841 0.96972895\n",
      " 0.97614625 0.96795575 1.         0.99016297 0.99050072 0.96538039\n",
      " 0.98488559 0.97086887 0.94026007 0.87748037 0.83483915 0.85413324\n",
      " 0.77336823 0.77269273 0.88014017 0.84007431 0.89673225 0.85527316\n",
      " 0.83884995 0.74233725 0.82327113 0.78143207 0.6665963  0.7921557\n",
      " 0.64118044 0.68614371 0.66001013 0.65203074 0.58642236 0.56586169\n",
      " 0.66089673 0.65515494 0.70970193 0.66452757 0.69437642 0.69218104\n",
      " 0.63569197 0.65266402 0.63780292 0.7267162  0.71388162 0.74191506\n",
      " 0.75002111 0.77222832 0.83049059 0.8194292  0.8289707  0.8125475\n",
      " 0.78776492 0.75162543 0.78426074 0.77974331 0.81326522 0.8141096\n",
      " 0.79473106 0.83336148 0.85898843 0.83901883 0.85628641 0.87486279\n",
      " 0.88782403 0.90095415 0.92793211 0.948535   0.93333615 0.91746179\n",
      " 0.92544119 0.91771511 0.9483239  0.94064004 0.96635143 0.9563033\n",
      " 0.96491598 0.94413203 0.93795931 0.92865342 0.91987926 0.91280973\n",
      " 0.90777564 0.90473258 0.90339231 0.90332204 0.90403908 0.90509242\n",
      " 0.90611798 0.90686554 0.90720606 0.90711629 0.90665382 0.90592706\n",
      " 0.90506458 0.90419257 0.90341312 0.90279734]\n",
      "21 day output [[0.9023812]]\n",
      "22 day input [0.92172591 0.96474711 0.97572406 0.99159841 0.96972895 0.97614625\n",
      " 0.96795575 1.         0.99016297 0.99050072 0.96538039 0.98488559\n",
      " 0.97086887 0.94026007 0.87748037 0.83483915 0.85413324 0.77336823\n",
      " 0.77269273 0.88014017 0.84007431 0.89673225 0.85527316 0.83884995\n",
      " 0.74233725 0.82327113 0.78143207 0.6665963  0.7921557  0.64118044\n",
      " 0.68614371 0.66001013 0.65203074 0.58642236 0.56586169 0.66089673\n",
      " 0.65515494 0.70970193 0.66452757 0.69437642 0.69218104 0.63569197\n",
      " 0.65266402 0.63780292 0.7267162  0.71388162 0.74191506 0.75002111\n",
      " 0.77222832 0.83049059 0.8194292  0.8289707  0.8125475  0.78776492\n",
      " 0.75162543 0.78426074 0.77974331 0.81326522 0.8141096  0.79473106\n",
      " 0.83336148 0.85898843 0.83901883 0.85628641 0.87486279 0.88782403\n",
      " 0.90095415 0.92793211 0.948535   0.93333615 0.91746179 0.92544119\n",
      " 0.91771511 0.9483239  0.94064004 0.96635143 0.9563033  0.96491598\n",
      " 0.94413203 0.93795931 0.92865342 0.91987926 0.91280973 0.90777564\n",
      " 0.90473258 0.90339231 0.90332204 0.90403908 0.90509242 0.90611798\n",
      " 0.90686554 0.90720606 0.90711629 0.90665382 0.90592706 0.90506458\n",
      " 0.90419257 0.90341312 0.90279734 0.90238118]\n",
      "22 day output [[0.9021694]]\n",
      "23 day input [0.96474711 0.97572406 0.99159841 0.96972895 0.97614625 0.96795575\n",
      " 1.         0.99016297 0.99050072 0.96538039 0.98488559 0.97086887\n",
      " 0.94026007 0.87748037 0.83483915 0.85413324 0.77336823 0.77269273\n",
      " 0.88014017 0.84007431 0.89673225 0.85527316 0.83884995 0.74233725\n",
      " 0.82327113 0.78143207 0.6665963  0.7921557  0.64118044 0.68614371\n",
      " 0.66001013 0.65203074 0.58642236 0.56586169 0.66089673 0.65515494\n",
      " 0.70970193 0.66452757 0.69437642 0.69218104 0.63569197 0.65266402\n",
      " 0.63780292 0.7267162  0.71388162 0.74191506 0.75002111 0.77222832\n",
      " 0.83049059 0.8194292  0.8289707  0.8125475  0.78776492 0.75162543\n",
      " 0.78426074 0.77974331 0.81326522 0.8141096  0.79473106 0.83336148\n",
      " 0.85898843 0.83901883 0.85628641 0.87486279 0.88782403 0.90095415\n",
      " 0.92793211 0.948535   0.93333615 0.91746179 0.92544119 0.91771511\n",
      " 0.9483239  0.94064004 0.96635143 0.9563033  0.96491598 0.94413203\n",
      " 0.93795931 0.92865342 0.91987926 0.91280973 0.90777564 0.90473258\n",
      " 0.90339231 0.90332204 0.90403908 0.90509242 0.90611798 0.90686554\n",
      " 0.90720606 0.90711629 0.90665382 0.90592706 0.90506458 0.90419257\n",
      " 0.90341312 0.90279734 0.90238118 0.90216941]\n",
      "23 day output [[0.90213937]]\n",
      "24 day input [0.97572406 0.99159841 0.96972895 0.97614625 0.96795575 1.\n",
      " 0.99016297 0.99050072 0.96538039 0.98488559 0.97086887 0.94026007\n",
      " 0.87748037 0.83483915 0.85413324 0.77336823 0.77269273 0.88014017\n",
      " 0.84007431 0.89673225 0.85527316 0.83884995 0.74233725 0.82327113\n",
      " 0.78143207 0.6665963  0.7921557  0.64118044 0.68614371 0.66001013\n",
      " 0.65203074 0.58642236 0.56586169 0.66089673 0.65515494 0.70970193\n",
      " 0.66452757 0.69437642 0.69218104 0.63569197 0.65266402 0.63780292\n",
      " 0.7267162  0.71388162 0.74191506 0.75002111 0.77222832 0.83049059\n",
      " 0.8194292  0.8289707  0.8125475  0.78776492 0.75162543 0.78426074\n",
      " 0.77974331 0.81326522 0.8141096  0.79473106 0.83336148 0.85898843\n",
      " 0.83901883 0.85628641 0.87486279 0.88782403 0.90095415 0.92793211\n",
      " 0.948535   0.93333615 0.91746179 0.92544119 0.91771511 0.9483239\n",
      " 0.94064004 0.96635143 0.9563033  0.96491598 0.94413203 0.93795931\n",
      " 0.92865342 0.91987926 0.91280973 0.90777564 0.90473258 0.90339231\n",
      " 0.90332204 0.90403908 0.90509242 0.90611798 0.90686554 0.90720606\n",
      " 0.90711629 0.90665382 0.90592706 0.90506458 0.90419257 0.90341312\n",
      " 0.90279734 0.90238118 0.90216941 0.90213937]\n",
      "24 day output [[0.9022528]]\n",
      "25 day input [0.99159841 0.96972895 0.97614625 0.96795575 1.         0.99016297\n",
      " 0.99050072 0.96538039 0.98488559 0.97086887 0.94026007 0.87748037\n",
      " 0.83483915 0.85413324 0.77336823 0.77269273 0.88014017 0.84007431\n",
      " 0.89673225 0.85527316 0.83884995 0.74233725 0.82327113 0.78143207\n",
      " 0.6665963  0.7921557  0.64118044 0.68614371 0.66001013 0.65203074\n",
      " 0.58642236 0.56586169 0.66089673 0.65515494 0.70970193 0.66452757\n",
      " 0.69437642 0.69218104 0.63569197 0.65266402 0.63780292 0.7267162\n",
      " 0.71388162 0.74191506 0.75002111 0.77222832 0.83049059 0.8194292\n",
      " 0.8289707  0.8125475  0.78776492 0.75162543 0.78426074 0.77974331\n",
      " 0.81326522 0.8141096  0.79473106 0.83336148 0.85898843 0.83901883\n",
      " 0.85628641 0.87486279 0.88782403 0.90095415 0.92793211 0.948535\n",
      " 0.93333615 0.91746179 0.92544119 0.91771511 0.9483239  0.94064004\n",
      " 0.96635143 0.9563033  0.96491598 0.94413203 0.93795931 0.92865342\n",
      " 0.91987926 0.91280973 0.90777564 0.90473258 0.90339231 0.90332204\n",
      " 0.90403908 0.90509242 0.90611798 0.90686554 0.90720606 0.90711629\n",
      " 0.90665382 0.90592706 0.90506458 0.90419257 0.90341312 0.90279734\n",
      " 0.90238118 0.90216941 0.90213937 0.90225279]\n",
      "25 day output [[0.90246403]]\n",
      "26 day input [0.96972895 0.97614625 0.96795575 1.         0.99016297 0.99050072\n",
      " 0.96538039 0.98488559 0.97086887 0.94026007 0.87748037 0.83483915\n",
      " 0.85413324 0.77336823 0.77269273 0.88014017 0.84007431 0.89673225\n",
      " 0.85527316 0.83884995 0.74233725 0.82327113 0.78143207 0.6665963\n",
      " 0.7921557  0.64118044 0.68614371 0.66001013 0.65203074 0.58642236\n",
      " 0.56586169 0.66089673 0.65515494 0.70970193 0.66452757 0.69437642\n",
      " 0.69218104 0.63569197 0.65266402 0.63780292 0.7267162  0.71388162\n",
      " 0.74191506 0.75002111 0.77222832 0.83049059 0.8194292  0.8289707\n",
      " 0.8125475  0.78776492 0.75162543 0.78426074 0.77974331 0.81326522\n",
      " 0.8141096  0.79473106 0.83336148 0.85898843 0.83901883 0.85628641\n",
      " 0.87486279 0.88782403 0.90095415 0.92793211 0.948535   0.93333615\n",
      " 0.91746179 0.92544119 0.91771511 0.9483239  0.94064004 0.96635143\n",
      " 0.9563033  0.96491598 0.94413203 0.93795931 0.92865342 0.91987926\n",
      " 0.91280973 0.90777564 0.90473258 0.90339231 0.90332204 0.90403908\n",
      " 0.90509242 0.90611798 0.90686554 0.90720606 0.90711629 0.90665382\n",
      " 0.90592706 0.90506458 0.90419257 0.90341312 0.90279734 0.90238118\n",
      " 0.90216941 0.90213937 0.90225279 0.90246403]\n",
      "26 day output [[0.90272856]]\n",
      "27 day input [0.97614625 0.96795575 1.         0.99016297 0.99050072 0.96538039\n",
      " 0.98488559 0.97086887 0.94026007 0.87748037 0.83483915 0.85413324\n",
      " 0.77336823 0.77269273 0.88014017 0.84007431 0.89673225 0.85527316\n",
      " 0.83884995 0.74233725 0.82327113 0.78143207 0.6665963  0.7921557\n",
      " 0.64118044 0.68614371 0.66001013 0.65203074 0.58642236 0.56586169\n",
      " 0.66089673 0.65515494 0.70970193 0.66452757 0.69437642 0.69218104\n",
      " 0.63569197 0.65266402 0.63780292 0.7267162  0.71388162 0.74191506\n",
      " 0.75002111 0.77222832 0.83049059 0.8194292  0.8289707  0.8125475\n",
      " 0.78776492 0.75162543 0.78426074 0.77974331 0.81326522 0.8141096\n",
      " 0.79473106 0.83336148 0.85898843 0.83901883 0.85628641 0.87486279\n",
      " 0.88782403 0.90095415 0.92793211 0.948535   0.93333615 0.91746179\n",
      " 0.92544119 0.91771511 0.9483239  0.94064004 0.96635143 0.9563033\n",
      " 0.96491598 0.94413203 0.93795931 0.92865342 0.91987926 0.91280973\n",
      " 0.90777564 0.90473258 0.90339231 0.90332204 0.90403908 0.90509242\n",
      " 0.90611798 0.90686554 0.90720606 0.90711629 0.90665382 0.90592706\n",
      " 0.90506458 0.90419257 0.90341312 0.90279734 0.90238118 0.90216941\n",
      " 0.90213937 0.90225279 0.90246403 0.90272856]\n",
      "27 day output [[0.90300757]]\n",
      "28 day input [0.96795575 1.         0.99016297 0.99050072 0.96538039 0.98488559\n",
      " 0.97086887 0.94026007 0.87748037 0.83483915 0.85413324 0.77336823\n",
      " 0.77269273 0.88014017 0.84007431 0.89673225 0.85527316 0.83884995\n",
      " 0.74233725 0.82327113 0.78143207 0.6665963  0.7921557  0.64118044\n",
      " 0.68614371 0.66001013 0.65203074 0.58642236 0.56586169 0.66089673\n",
      " 0.65515494 0.70970193 0.66452757 0.69437642 0.69218104 0.63569197\n",
      " 0.65266402 0.63780292 0.7267162  0.71388162 0.74191506 0.75002111\n",
      " 0.77222832 0.83049059 0.8194292  0.8289707  0.8125475  0.78776492\n",
      " 0.75162543 0.78426074 0.77974331 0.81326522 0.8141096  0.79473106\n",
      " 0.83336148 0.85898843 0.83901883 0.85628641 0.87486279 0.88782403\n",
      " 0.90095415 0.92793211 0.948535   0.93333615 0.91746179 0.92544119\n",
      " 0.91771511 0.9483239  0.94064004 0.96635143 0.9563033  0.96491598\n",
      " 0.94413203 0.93795931 0.92865342 0.91987926 0.91280973 0.90777564\n",
      " 0.90473258 0.90339231 0.90332204 0.90403908 0.90509242 0.90611798\n",
      " 0.90686554 0.90720606 0.90711629 0.90665382 0.90592706 0.90506458\n",
      " 0.90419257 0.90341312 0.90279734 0.90238118 0.90216941 0.90213937\n",
      " 0.90225279 0.90246403 0.90272856 0.90300757]\n"
     ]
    },
    {
     "name": "stdout",
     "output_type": "stream",
     "text": [
      "28 day output [[0.903272]]\n",
      "29 day input [1.         0.99016297 0.99050072 0.96538039 0.98488559 0.97086887\n",
      " 0.94026007 0.87748037 0.83483915 0.85413324 0.77336823 0.77269273\n",
      " 0.88014017 0.84007431 0.89673225 0.85527316 0.83884995 0.74233725\n",
      " 0.82327113 0.78143207 0.6665963  0.7921557  0.64118044 0.68614371\n",
      " 0.66001013 0.65203074 0.58642236 0.56586169 0.66089673 0.65515494\n",
      " 0.70970193 0.66452757 0.69437642 0.69218104 0.63569197 0.65266402\n",
      " 0.63780292 0.7267162  0.71388162 0.74191506 0.75002111 0.77222832\n",
      " 0.83049059 0.8194292  0.8289707  0.8125475  0.78776492 0.75162543\n",
      " 0.78426074 0.77974331 0.81326522 0.8141096  0.79473106 0.83336148\n",
      " 0.85898843 0.83901883 0.85628641 0.87486279 0.88782403 0.90095415\n",
      " 0.92793211 0.948535   0.93333615 0.91746179 0.92544119 0.91771511\n",
      " 0.9483239  0.94064004 0.96635143 0.9563033  0.96491598 0.94413203\n",
      " 0.93795931 0.92865342 0.91987926 0.91280973 0.90777564 0.90473258\n",
      " 0.90339231 0.90332204 0.90403908 0.90509242 0.90611798 0.90686554\n",
      " 0.90720606 0.90711629 0.90665382 0.90592706 0.90506458 0.90419257\n",
      " 0.90341312 0.90279734 0.90238118 0.90216941 0.90213937 0.90225279\n",
      " 0.90246403 0.90272856 0.90300757 0.90327197]\n",
      "29 day output [[0.90350425]]\n",
      "[[0.9441320300102234], [0.9379593133926392], [0.9286534190177917], [0.9198792576789856], [0.9128097295761108], [0.9077756404876709], [0.9047325849533081], [0.9033923149108887], [0.9033220410346985], [0.9040390849113464], [0.9050924181938171], [0.9061179757118225], [0.9068655371665955], [0.9072060585021973], [0.9071162939071655], [0.9066538214683533], [0.9059270620346069], [0.905064582824707], [0.9041925668716431], [0.9034131169319153], [0.9027973413467407], [0.902381181716919], [0.902169406414032], [0.9021393656730652], [0.9022527933120728], [0.9024640321731567], [0.9027285575866699], [0.9030075669288635], [0.9032719731330872], [0.9035042524337769]]\n"
     ]
    }
   ],
   "source": [
    "# demonstrate prediction for next 10 days\n",
    "from numpy import array\n",
    "\n",
    "lst_output=[]\n",
    "n_steps=100\n",
    "i=0\n",
    "while(i<30):\n",
    "    \n",
    "    if(len(temp_input)>100):\n",
    "        #print(temp_input)\n",
    "        x_input=np.array(temp_input[1:])\n",
    "        print(\"{} day input {}\".format(i,x_input))\n",
    "        x_input=x_input.reshape(1,-1)\n",
    "        x_input = x_input.reshape((1, n_steps, 1))\n",
    "        #print(x_input)\n",
    "        yhat = model.predict(x_input, verbose=0)\n",
    "        print(\"{} day output {}\".format(i,yhat))\n",
    "        temp_input.extend(yhat[0].tolist())\n",
    "        temp_input=temp_input[1:]\n",
    "        #print(temp_input)\n",
    "        lst_output.extend(yhat.tolist())\n",
    "        i=i+1\n",
    "    else:\n",
    "        x_input = x_input.reshape((1, n_steps,1))\n",
    "        yhat = model.predict(x_input, verbose=0)\n",
    "        print(yhat[0])\n",
    "        temp_input.extend(yhat[0].tolist())\n",
    "        print(len(temp_input))\n",
    "        lst_output.extend(yhat.tolist())\n",
    "        i=i+1\n",
    "    \n",
    "\n",
    "print(lst_output)"
   ]
  },
  {
   "cell_type": "code",
   "execution_count": 44,
   "metadata": {},
   "outputs": [],
   "source": [
    "day_new=np.arange(1,101)\n",
    "day_pred=np.arange(101,131)"
   ]
  },
  {
   "cell_type": "code",
   "execution_count": 45,
   "metadata": {},
   "outputs": [],
   "source": [
    "import matplotlib.pyplot as plt"
   ]
  },
  {
   "cell_type": "code",
   "execution_count": 46,
   "metadata": {},
   "outputs": [
    {
     "data": {
      "text/plain": [
       "6363"
      ]
     },
     "execution_count": 46,
     "metadata": {},
     "output_type": "execute_result"
    }
   ],
   "source": [
    "len(df1)"
   ]
  },
  {
   "cell_type": "code",
   "execution_count": 392,
   "metadata": {},
   "outputs": [],
   "source": []
  },
  {
   "cell_type": "code",
   "execution_count": 47,
   "metadata": {},
   "outputs": [
    {
     "data": {
      "text/plain": [
       "[<matplotlib.lines.Line2D at 0x2120b6815b0>]"
      ]
     },
     "execution_count": 47,
     "metadata": {},
     "output_type": "execute_result"
    },
    {
     "data": {
      "image/png": "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",
      "text/plain": [
       "<Figure size 640x480 with 1 Axes>"
      ]
     },
     "metadata": {},
     "output_type": "display_data"
    }
   ],
   "source": [
    "plt.plot(day_new,scaler.inverse_transform(df1[6263:]))\n",
    "plt.plot(day_pred,scaler.inverse_transform(lst_output))"
   ]
  },
  {
   "cell_type": "code",
<<<<<<< HEAD
=======
   "execution_count": 49,
   "metadata": {},
   "outputs": [],
   "source": [
    "from keras.models import load_model\n",
    "\n",
    "# Save the model\n",
    "model.save(\"model.keras\")   # or model.save(\"model.keras\")\n"
   ]
  },
  {
   "cell_type": "code",
>>>>>>> 00e3d2c (Add streamlit stock prediction app)
   "execution_count": 53,
   "metadata": {},
   "outputs": [],
   "source": [
    "import pickle\n",
    "\n",
    "# Save the model to a file\n",
    "with open('model.pkl', 'wb') as file:\n",
    "    pickle.dump(model, file)\n"
   ]
  },
  {
   "cell_type": "code",
<<<<<<< HEAD
=======
   "execution_count": null,
   "metadata": {},
   "outputs": [],
   "source": []
  },
  {
   "cell_type": "code",
>>>>>>> 00e3d2c (Add streamlit stock prediction app)
   "execution_count": 52,
   "metadata": {},
   "outputs": [],
   "source": [
    "# df3=df1.tolist()\n",
    "# df3.extend(lst_output)\n",
    "# plt.plot(df3[1200:])"
   ]
  },
  {
   "cell_type": "code",
   "execution_count": 49,
   "metadata": {},
   "outputs": [],
   "source": [
    "# df3=scaler.inverse_transform(df3).tolist()"
   ]
  },
  {
   "cell_type": "code",
   "execution_count": 51,
   "metadata": {},
   "outputs": [],
   "source": [
    "# plt.plot(df3)"
   ]
  },
  {
   "cell_type": "code",
   "execution_count": null,
   "metadata": {},
   "outputs": [],
   "source": []
  },
  {
   "cell_type": "code",
   "execution_count": null,
   "metadata": {},
   "outputs": [],
   "source": [
    "# replace the \"demo\" apikey below with your own key from https://www.alphavantage.co/support/#api-key\n",
    "\n",
    "import requests\n",
    "import pandas as pd\n",
    "# replace the \"demo\" apikey below with your own key from https://www.alphavantage.co/support/#api-key\n",
    "url = 'https://www.alphavantage.co/query?function=TIME_SERIES_MONTHLY&symbol=IBM&apikey=XVIBR3YK5AC6W4OL'\n",
    "r = requests.get(url)\n",
    "data = r.json()\n",
    "\n",
    "data"
   ]
  },
  {
   "cell_type": "code",
   "execution_count": 3,
   "metadata": {},
   "outputs": [
    {
     "name": "stdout",
     "output_type": "stream",
     "text": [
      "Requirement already satisfied: requests in c:\\users\\rahul\\appdata\\local\\programs\\python\\python312\\lib\\site-packages (2.31.0)\n",
      "Requirement already satisfied: charset-normalizer<4,>=2 in c:\\users\\rahul\\appdata\\local\\programs\\python\\python312\\lib\\site-packages (from requests) (3.3.2)\n",
      "Requirement already satisfied: idna<4,>=2.5 in c:\\users\\rahul\\appdata\\local\\programs\\python\\python312\\lib\\site-packages (from requests) (3.6)\n",
      "Requirement already satisfied: urllib3<3,>=1.21.1 in c:\\users\\rahul\\appdata\\local\\programs\\python\\python312\\lib\\site-packages (from requests) (2.2.1)\n",
      "Requirement already satisfied: certifi>=2017.4.17 in c:\\users\\rahul\\appdata\\local\\programs\\python\\python312\\lib\\site-packages (from requests) (2024.2.2)\n",
      "Note: you may need to restart the kernel to use updated packages.\n"
     ]
    },
    {
     "name": "stderr",
     "output_type": "stream",
     "text": [
      "\n",
      "[notice] A new release of pip is available: 25.0 -> 25.1.1\n",
      "[notice] To update, run: python.exe -m pip install --upgrade pip\n"
     ]
    }
   ],
   "source": [
    "pip install requests\n"
   ]
  },
  {
   "cell_type": "code",
   "execution_count": null,
   "metadata": {},
   "outputs": [],
   "source": []
  }
 ],
 "metadata": {
  "kernelspec": {
   "display_name": "Python 3 (ipykernel)",
   "language": "python",
   "name": "python3"
  },
  "language_info": {
   "codemirror_mode": {
    "name": "ipython",
    "version": 3
   },
   "file_extension": ".py",
   "mimetype": "text/x-python",
   "name": "python",
   "nbconvert_exporter": "python",
   "pygments_lexer": "ipython3",
   "version": "3.12.7"
  }
 },
 "nbformat": 4,
 "nbformat_minor": 4
}
